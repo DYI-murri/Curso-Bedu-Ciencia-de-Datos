{
  "nbformat": 4,
  "nbformat_minor": 0,
  "metadata": {
    "colab": {
      "provenance": []
    },
    "kernelspec": {
      "name": "python3",
      "display_name": "Python 3"
    },
    "language_info": {
      "name": "python"
    }
  },
  "cells": [
    {
      "cell_type": "markdown",
      "source": [
        "<center><h2>Prework</h2></center>\n",
        "<hr>\n",
        "\n",
        "<h2>¿Por qué es importante el Procesamiento de Datos?</h2>\n",
        "\n",
        "Todo empieza con la identificación de un problema en el mundo real y despues entender el problema.\n",
        "\n",
        "Para entender el problema, necesitamos datos, ya que nos permite identificar los factores que contribuyen al problema,describir el alcance del problema y evaluar las posibles soluciones al problema:\n",
        "\n",
        "*   En el análisis de datos, los datos se utilizan para identificar patrones y tendencias en los datos. Estos patrones y tendencias nos pueden ayudar a comprender mejor el problema y a tomar decisiones informadas sobre cómo resolverlo.\n",
        "\n",
        "*   En la minería de datos, los datos se utilizan para descubrir información oculta en los datos. Esta información oculta nos puede ayudar a comprender mejor el problema y a tomar decisiones informadas sobre cómo resolverlo.\n",
        "\n",
        "*   En el aprendizaje automático, los datos se utilizan para entrenar modelos que pueden predecir comportamientos futuros. Estos modelos nos pueden ayudar a comprender mejor el problema y a tomar decisiones informadas sobre cómo resolverlo.\n",
        "\n",
        "Existen dos opciones que nos podemos encontrar en nuestras actividades:\n",
        "*   Puede que ya exista una base de datos disponible que haya sido construida para recopilar instancias del proceso que estamos estudiando.\n",
        "*   Puede que esa base de datos aún no exista y primero necesitemos pensar sobre cómo recopilar esos datos.\n",
        "\n",
        "El proceso de recopilación y adquisición de los datos es un proceso algo confuso y la realidad no es ordenada, y nuestros datos van a ser un reflejo de esa realidad.Es muy probable que a la hora de obtener nuestra base de datos, nos demos cuenta de que está llena de errores: datos vacíos, formatos inadecuados, columnas innecesarias, tipos de datos incorrectos, la lista sigue y sigue y sigue.\n",
        "\n",
        "Si hacemos análisis estadístico o visualizaciones de datos con una base de datos desordenada nuestros análisis serán imprecisos y lo más probable es que terminemos con conclusiones incorrectas.\n",
        "\n",
        "El Procesamiento de Datos reúne toda una serie de herramientas que sirven para explorar, limpiar, transformar, ordenar y estructurar los datos de manera que puedan ser útiles para su posterior análisis y visualización.\n"
      ],
      "metadata": {
        "id": "HpBFz1bQPq19"
      }
    },
    {
      "cell_type": "markdown",
      "source": [
        "<center><h2>Prework</h2></center>\n",
        "<hr>\n",
        "<h2>Abriendo los Retos del módulo desde Google Colab</h2>\n",
        "\n",
        "*   Un Jupyter Notebook es lo que se llama un REPL (Read-Eval-Print Loop), que es un entorno de programación computacional interactivo.\n",
        "\n",
        "*   Es una interfaz de usuario que permite a los usuarios interactuar con un lenguaje de programación. Los REPLs generalmente se presentan como una ventana de terminal en la que los usuarios pueden ingresar código y ver los resultados de su ejecución.\n",
        "\n"
      ],
      "metadata": {
        "id": "BSn6TpFDX0VG"
      }
    },
    {
      "cell_type": "code",
      "execution_count": null,
      "metadata": {
        "id": "2y8ncTqaOFOB",
        "colab": {
          "base_uri": "https://localhost:8080/"
        },
        "outputId": "7aba2a3b-49a2-4b4e-b97d-fa59c3366e81"
      },
      "outputs": [
        {
          "output_type": "execute_result",
          "data": {
            "text/plain": [
              "7"
            ]
          },
          "metadata": {},
          "execution_count": 1
        }
      ],
      "source": [
        "var_1 = 3\n",
        "var_2 = 4\n",
        "\n",
        "var_1 + var_2"
      ]
    },
    {
      "cell_type": "code",
      "source": [
        "var_1 = 3\n",
        "var_2 = 4\n",
        "\n",
        "var_1 - var_2"
      ],
      "metadata": {
        "colab": {
          "base_uri": "https://localhost:8080/"
        },
        "id": "51CGNSCxbT58",
        "outputId": "27afb788-ca4c-4bcd-ed86-bcaae3f8133f"
      },
      "execution_count": null,
      "outputs": [
        {
          "output_type": "execute_result",
          "data": {
            "text/plain": [
              "-1"
            ]
          },
          "metadata": {},
          "execution_count": 2
        }
      ]
    },
    {
      "cell_type": "code",
      "source": [
        "variable_1 = 10\n",
        "variable_1"
      ],
      "metadata": {
        "colab": {
          "base_uri": "https://localhost:8080/"
        },
        "id": "zkPOh-mjbbsP",
        "outputId": "4538d361-8bc3-4839-c56e-2da72fc3e6eb"
      },
      "execution_count": null,
      "outputs": [
        {
          "output_type": "execute_result",
          "data": {
            "text/plain": [
              "10"
            ]
          },
          "metadata": {},
          "execution_count": 3
        }
      ]
    },
    {
      "cell_type": "code",
      "source": [
        "variable_2 = 15\n",
        "variable_3 = 20\n",
        "variable_4 = 2\n",
        "variable_5 = 16"
      ],
      "metadata": {
        "id": "UBN41bO7eGIc"
      },
      "execution_count": null,
      "outputs": []
    },
    {
      "cell_type": "code",
      "source": [
        "#Suma\n",
        "variable_1 + variable_2"
      ],
      "metadata": {
        "id": "Kg_iNq54ejq9",
        "colab": {
          "base_uri": "https://localhost:8080/"
        },
        "outputId": "2e129d9e-c75a-4b5f-a6df-ef9de77a37eb"
      },
      "execution_count": null,
      "outputs": [
        {
          "output_type": "execute_result",
          "data": {
            "text/plain": [
              "25"
            ]
          },
          "metadata": {},
          "execution_count": 6
        }
      ]
    },
    {
      "cell_type": "code",
      "source": [
        "#Resta\n",
        "\n",
        "variable_3 - variable_4\n"
      ],
      "metadata": {
        "colab": {
          "base_uri": "https://localhost:8080/"
        },
        "id": "xjllcZribdL9",
        "outputId": "4a5128cd-d8e0-4396-b6bf-e140debe7b96"
      },
      "execution_count": null,
      "outputs": [
        {
          "output_type": "execute_result",
          "data": {
            "text/plain": [
              "18"
            ]
          },
          "metadata": {},
          "execution_count": 7
        }
      ]
    },
    {
      "cell_type": "code",
      "source": [
        "\n",
        "#Multiplicacion\n",
        "variable_1 * (variable_2 + variable_3)\n",
        "\n"
      ],
      "metadata": {
        "colab": {
          "base_uri": "https://localhost:8080/"
        },
        "id": "WvcqxgDXbf8N",
        "outputId": "1d88354a-bd4b-4215-c60f-533ef3d5a56a"
      },
      "execution_count": null,
      "outputs": [
        {
          "output_type": "execute_result",
          "data": {
            "text/plain": [
              "350"
            ]
          },
          "metadata": {},
          "execution_count": 8
        }
      ]
    },
    {
      "cell_type": "code",
      "source": [
        "#Division\n",
        "(variable_5 - variable_3) / variable_2\n",
        "\n"
      ],
      "metadata": {
        "colab": {
          "base_uri": "https://localhost:8080/"
        },
        "id": "kC_cPI9Mbi1x",
        "outputId": "e66c8d4c-d91f-4389-e28c-153694dab989"
      },
      "execution_count": null,
      "outputs": [
        {
          "output_type": "execute_result",
          "data": {
            "text/plain": [
              "-0.26666666666666666"
            ]
          },
          "metadata": {},
          "execution_count": 9
        }
      ]
    },
    {
      "cell_type": "code",
      "source": [
        "#Modulo\n",
        "10 % 3"
      ],
      "metadata": {
        "colab": {
          "base_uri": "https://localhost:8080/"
        },
        "id": "Pa8kME1oblDG",
        "outputId": "a6095622-9fba-4126-eeba-c28090760659"
      },
      "execution_count": null,
      "outputs": [
        {
          "output_type": "execute_result",
          "data": {
            "text/plain": [
              "1"
            ]
          },
          "metadata": {},
          "execution_count": 11
        }
      ]
    },
    {
      "cell_type": "code",
      "source": [
        "import math\n",
        "\n",
        "# Calcula la raíz cuadrada de 9\n",
        "math.sqrt(9)\n"
      ],
      "metadata": {
        "colab": {
          "base_uri": "https://localhost:8080/"
        },
        "id": "aiKaZDpAbyWL",
        "outputId": "d1a286db-746c-4945-d2d9-adfc24f56483"
      },
      "execution_count": null,
      "outputs": [
        {
          "output_type": "execute_result",
          "data": {
            "text/plain": [
              "3.0"
            ]
          },
          "metadata": {},
          "execution_count": 12
        }
      ]
    },
    {
      "cell_type": "code",
      "source": [
        "# Calcula el factorial de 5\n",
        "math.factorial(5)"
      ],
      "metadata": {
        "colab": {
          "base_uri": "https://localhost:8080/"
        },
        "id": "85RAhW3EcDEH",
        "outputId": "dcba0c20-24de-42e9-f9a4-4a19b914cd28"
      },
      "execution_count": null,
      "outputs": [
        {
          "output_type": "execute_result",
          "data": {
            "text/plain": [
              "120"
            ]
          },
          "metadata": {},
          "execution_count": 13
        }
      ]
    },
    {
      "cell_type": "code",
      "source": [
        "print(variable_2 + variable_4)\n",
        "print(variable_5)\n",
        "print(variable_4 - variable_1)"
      ],
      "metadata": {
        "colab": {
          "base_uri": "https://localhost:8080/"
        },
        "id": "jRUlEVyAcH_0",
        "outputId": "a0ff4e56-32cf-49c4-945d-2e0061eb5d62"
      },
      "execution_count": null,
      "outputs": [
        {
          "output_type": "stream",
          "name": "stdout",
          "text": [
            "17\n",
            "16\n",
            "-8\n"
          ]
        }
      ]
    },
    {
      "cell_type": "markdown",
      "source": [
        "<h1>Tipos de Datos</h1>\n",
        "Tipos de datos simples\n",
        "\n",
        "Los tipos de datos simples representan un valor único. Los tipos de datos simples en Python son:\n",
        "\n",
        "*   Enteros: Representan números enteros, positivos o negativos. Por ejemplo,1, -1, 100, -1000.\n",
        "*   Flotantes: Representan números con decimales. Por ejemplo, 1.0, -1.0, 100.0, -1000.0.\n",
        "*   Cadenas: Representan una secuencia de caracteres. Por ejemplo, \"Hola\", \"mundo\", \"123456\".\n",
        "*   Lógicos: Representan valores lógicos, verdadero o falso. Por ejemplo, True, False.\n",
        "\n",
        "Tipos de datos compuestos\n",
        "\n",
        "Los tipos de datos compuestos representan un conjunto de valores. Los tipos de datos compuestos en Python son:\n",
        "\n",
        "*   Listas: Representan una secuencia ordenada de valores de cualquier tipo. Por ejemplo, [1, 2, 3], [\"Hola\", \"mundo\"], [True, False].\n",
        "\n",
        "*   Tuplas: Representan una secuencia ordenada de valores de cualquier tipo, pero no son mutables. Por ejemplo, (1, 2, 3), (\"Hola\", \"mundo\"), (True, False).\n",
        "\n",
        "*   Diccionarios: Representan una colección de pares clave-valor, donde la clave es un valor único y el valor puede ser de cualquier tipo. Por ejemplo, {\"nombre\": \"Juan\", \"edad\": 30}, {\"color\": \"rojo\", \"tamaño\": \"grande\"}.\n",
        "\n",
        "*   Conjuntos: Representan una colección de valores únicos de cualquier tipo. Por ejemplo, {1, 2, 3}, {\"Hola\", \"mundo\"}, {True, False}.\n",
        "\n",
        "![Esta es una imagen](https://www.researchgate.net/publication/325387232/figure/fig4/AS:630680337793025@1527377318263/Figura-8-Tipos-de-datos-El-tipo-de-dato-caracter-no-existe-en-Python-un-caracter.png)\n",
        "\n"
      ],
      "metadata": {
        "id": "uCzntJeWes06"
      }
    },
    {
      "cell_type": "markdown",
      "source": [],
      "metadata": {
        "id": "IZQ8PElkeEGO"
      }
    },
    {
      "cell_type": "code",
      "source": [
        "#Tipos de Datos\n",
        "#int para números enteros\n",
        "variable_int = 5\n",
        "\n",
        "#float para números decimales\n",
        "variable_float = 5.2"
      ],
      "metadata": {
        "id": "4i-Z5AHDcwKa"
      },
      "execution_count": null,
      "outputs": []
    },
    {
      "cell_type": "code",
      "source": [
        "#Instruccion para saber el tipo de dato de mi variable int\n",
        "type(variable_int)"
      ],
      "metadata": {
        "colab": {
          "base_uri": "https://localhost:8080/"
        },
        "id": "ZSDVVYAjdMre",
        "outputId": "2d371428-8264-4578-c73c-5eab559638ae"
      },
      "execution_count": null,
      "outputs": [
        {
          "output_type": "execute_result",
          "data": {
            "text/plain": [
              "int"
            ]
          },
          "metadata": {},
          "execution_count": 16
        }
      ]
    },
    {
      "cell_type": "code",
      "source": [
        "#Instruccion para saber el tipo de dato de mi variable int\n",
        "type(variable_float)"
      ],
      "metadata": {
        "colab": {
          "base_uri": "https://localhost:8080/"
        },
        "id": "WRelKGqadeM7",
        "outputId": "aeae3d13-2eb1-4422-9ae6-286a3d77482d"
      },
      "execution_count": null,
      "outputs": [
        {
          "output_type": "execute_result",
          "data": {
            "text/plain": [
              "float"
            ]
          },
          "metadata": {},
          "execution_count": 17
        }
      ]
    },
    {
      "cell_type": "code",
      "source": [
        "#Usamos print si queremos ver varias instrucciones en la misma celda\n",
        "print(type(variable_int))\n",
        "print(type(variable_float))"
      ],
      "metadata": {
        "colab": {
          "base_uri": "https://localhost:8080/"
        },
        "id": "OE9NH_G2dhZT",
        "outputId": "cc430fe7-1cfa-496a-d7fa-5c92845b122d"
      },
      "execution_count": null,
      "outputs": [
        {
          "output_type": "stream",
          "name": "stdout",
          "text": [
            "<class 'int'>\n",
            "<class 'float'>\n"
          ]
        }
      ]
    },
    {
      "cell_type": "code",
      "source": [
        "variable_str = \"Hola, soy un texto\""
      ],
      "metadata": {
        "id": "HXTfjan5kj-7"
      },
      "execution_count": null,
      "outputs": []
    },
    {
      "cell_type": "code",
      "source": [
        "print(\"Suma:\")\n",
        "print(variable_1 + variable_2)\n",
        "\n",
        "print(\"Resta:\")\n",
        "print(variable_3 - variable_4)\n"
      ],
      "metadata": {
        "colab": {
          "base_uri": "https://localhost:8080/"
        },
        "id": "jdSnqx17kt9b",
        "outputId": "cc300b40-c11e-4d37-cc3c-b2707f7c58ad"
      },
      "execution_count": null,
      "outputs": [
        {
          "output_type": "stream",
          "name": "stdout",
          "text": [
            "Suma:\n",
            "25\n",
            "Resta:\n",
            "18\n"
          ]
        }
      ]
    },
    {
      "cell_type": "code",
      "source": [
        "#También podemos imprimir variables dentro de strings usando lo que se llama interpolación de strings.\n",
        "#Eso funciona de la siguiente manera: Empezamos una string con la letra f antes de las comillas, luego abrimos las comillas,\n",
        "#después escribimos texto y cuando queremos interpolar una variable, usamos llaves ({}) y escribimos el nombre de la variable dentro de las llaves;\n",
        "# finalmente cerramos las comillas:\n",
        "print(f'Vamos a imprimir la variable 1 {variable_1}')\n",
        "print(f'Ahora la variable 2 {variable_2}')\n",
        "print(f'Ahora la variable 3 {variable_3} ; Y la variable 4 {variable_4}')"
      ],
      "metadata": {
        "colab": {
          "base_uri": "https://localhost:8080/"
        },
        "id": "84yN7T00lWAH",
        "outputId": "779a4718-39f3-4d42-a5c7-5f7e524c7037"
      },
      "execution_count": null,
      "outputs": [
        {
          "output_type": "stream",
          "name": "stdout",
          "text": [
            "Vamos a imprimir la variable 1 10\n",
            "Ahora la variable 2 15\n",
            "Ahora la variable 3 20 ; Y la variable 4 2\n"
          ]
        }
      ]
    },
    {
      "cell_type": "code",
      "source": [
        "#Un dato booleano sólo puede tener dos valores: True o False (verdadero o falso)\n",
        "var_bool_1 = True\n",
        "var_bool_2 = False\n",
        "\n",
        "print(type(var_bool_1))\n",
        "print(var_bool_2)"
      ],
      "metadata": {
        "colab": {
          "base_uri": "https://localhost:8080/"
        },
        "id": "r54Gw4M2mKEk",
        "outputId": "0aca742e-9a9e-4a5d-ac38-2559cd91359e"
      },
      "execution_count": null,
      "outputs": [
        {
          "output_type": "stream",
          "name": "stdout",
          "text": [
            "<class 'bool'>\n",
            "False\n"
          ]
        }
      ]
    },
    {
      "cell_type": "markdown",
      "source": [
        "<h1>Comparaciones</h1>\n",
        "\n",
        "Para automatizar procesos también tenemos que automatizar la toma de decisiones, y para esto necesitamos la capacidad de hacer comparaciones entre datos."
      ],
      "metadata": {
        "id": "U8RNDQt2pAmZ"
      }
    },
    {
      "cell_type": "code",
      "source": [
        "var_1 = 4\n",
        "var_2 = 6\n",
        "\n",
        "var_1 < var_2"
      ],
      "metadata": {
        "colab": {
          "base_uri": "https://localhost:8080/"
        },
        "id": "zE9V7lzbpMsQ",
        "outputId": "578ae402-3420-40cc-ca4c-61b5474555d6"
      },
      "execution_count": null,
      "outputs": [
        {
          "output_type": "execute_result",
          "data": {
            "text/plain": [
              "True"
            ]
          },
          "metadata": {},
          "execution_count": 26
        }
      ]
    },
    {
      "cell_type": "code",
      "source": [
        "print(f'Mayor que: {6 > 2} Resultado: True')\n",
        "print(f'Mayor o igual que: {7 >= 4} Resultado: True')\n",
        "print(f'Menor que: {2 < 8} Resultado: True')\n",
        "print(f'Menor o igual que: {1 < 9} Resultado: True')\n",
        "print(f'Igual que: {7 == 7} Resultado: True')\n",
        "print(f'Diferente que: {8 != 7} Resultado: True')"
      ],
      "metadata": {
        "colab": {
          "base_uri": "https://localhost:8080/"
        },
        "id": "hq_rWytnpgfN",
        "outputId": "c3041d5d-7f27-4803-fa29-a029f9a82e61"
      },
      "execution_count": null,
      "outputs": [
        {
          "output_type": "stream",
          "name": "stdout",
          "text": [
            "Mayor que: True Resultado: True\n",
            "Mayor o igual que: True Resultado: True\n",
            "Menor que: True Resultado: True\n",
            "Menor o igual que: True Resultado: True\n",
            "Igual que: True Resultado: True\n",
            "Diferente que: True Resultado: True\n"
          ]
        }
      ]
    },
    {
      "cell_type": "code",
      "source": [
        "print(f'Mayor que: {4 > 6} Resultado: False')\n",
        "print(f'Mayor o igual que: {4 >= 7} Resultado: False')\n",
        "print(f'Menor que: {8 < 2} Resultado: False')\n",
        "print(f'Menor o igual que: {9 < 1} Resultado: False')\n",
        "print(f'Igual que: {7 == 8} Resultado: False')\n",
        "print(f'Diferente que: {4 != 4} Resultado: False')"
      ],
      "metadata": {
        "colab": {
          "base_uri": "https://localhost:8080/"
        },
        "id": "nZnDl_qRq4Qp",
        "outputId": "fdafe3a2-5b1a-4767-a141-1618d7331204"
      },
      "execution_count": null,
      "outputs": [
        {
          "output_type": "stream",
          "name": "stdout",
          "text": [
            "Mayor que: False Resultado: False\n",
            "Mayor o igual que: False Resultado: False\n",
            "Menor que: False Resultado: False\n",
            "Menor o igual que: False Resultado: False\n",
            "Igual que: False Resultado: False\n",
            "Diferente que: False Resultado: False\n"
          ]
        }
      ]
    },
    {
      "cell_type": "markdown",
      "source": [
        "<h1>Estructuras de control de flujo</h1>\n",
        "\n",
        "Las estructuras de control de flujo nos permiten usar comparaciones para tomar decisiones acerca de qué pasos tomar en el futuro. La primera estructura de control es lo que llamamos if"
      ],
      "metadata": {
        "id": "OmCcavH9rvi0"
      }
    },
    {
      "cell_type": "code",
      "source": [
        "if 4 < 7 :\n",
        "  print(\"Efectivamente, 4 es menor que 7\")"
      ],
      "metadata": {
        "colab": {
          "base_uri": "https://localhost:8080/"
        },
        "id": "-scEQHLurpuZ",
        "outputId": "b4819500-e26b-4457-da07-c5e02fd15e4b"
      },
      "execution_count": null,
      "outputs": [
        {
          "output_type": "stream",
          "name": "stdout",
          "text": [
            "Efectivamente, 4 es menor que 7\n"
          ]
        }
      ]
    },
    {
      "cell_type": "code",
      "source": [
        "if 7 < 4 :\n",
        "  print(\"Efectivamente, 4 es menor que 7\")"
      ],
      "metadata": {
        "id": "L9AxPtN8sCig"
      },
      "execution_count": null,
      "outputs": []
    },
    {
      "cell_type": "code",
      "source": [
        "if 7 < 4 :\n",
        "  print(\"Efectivamente, 4 es menor que 7\")\n",
        "\n",
        "print(\"Estoy fuera de la sentencia if\")"
      ],
      "metadata": {
        "colab": {
          "base_uri": "https://localhost:8080/"
        },
        "id": "wYrUIzWcsLMH",
        "outputId": "d69d0cc5-9a4f-4bf6-d0a6-4d47a0498f76"
      },
      "execution_count": null,
      "outputs": [
        {
          "output_type": "stream",
          "name": "stdout",
          "text": [
            "Estoy fuera de la sentencia if\n"
          ]
        }
      ]
    },
    {
      "cell_type": "code",
      "source": [
        "if 7 < 4 :\n",
        "  print(\"Efectivamente, 4 es menor que 7\")\n",
        "else:\n",
        "  print(\"Yo voy a correr si la sentencia de arriba en Falsa\")"
      ],
      "metadata": {
        "colab": {
          "base_uri": "https://localhost:8080/"
        },
        "id": "NQcIX4Eysfc2",
        "outputId": "e9e80fb5-0f86-4468-daa9-c39b9d83dc00"
      },
      "execution_count": null,
      "outputs": [
        {
          "output_type": "stream",
          "name": "stdout",
          "text": [
            "Yo voy a correr si la sentencia de arriba en Falsa\n"
          ]
        }
      ]
    },
    {
      "cell_type": "code",
      "source": [
        "var_1 = 14\n",
        "var_2 = 20\n",
        "\n",
        "if var_1 > var_2:\n",
        "  print(\"Var 1 es mayor que Var 2\")\n",
        "elif var_1 < var_2:\n",
        "  print(\"Var 1 es menor que Var 2\")\n",
        "else:\n",
        "  print(\"Var 1 es igual a Var 2\")"
      ],
      "metadata": {
        "colab": {
          "base_uri": "https://localhost:8080/"
        },
        "id": "FQK473bFs4vW",
        "outputId": "e1d7b856-4810-42fa-ad2f-10b9cc6adf65"
      },
      "execution_count": null,
      "outputs": [
        {
          "output_type": "stream",
          "name": "stdout",
          "text": [
            "Var 1 es menor que Var 2\n"
          ]
        }
      ]
    },
    {
      "cell_type": "code",
      "source": [
        "var_1 = 21\n",
        "var_2 = 12\n",
        "\n",
        "if var_1 > var_2:\n",
        "  print(\"Var 1 es mayor que Var 2\")\n",
        "elif var_1 < var_2:\n",
        "  print(\"Var 1 es menor que Var 2\")\n",
        "else:\n",
        "  print(\"Var 1 es igual a Var 2\")"
      ],
      "metadata": {
        "colab": {
          "base_uri": "https://localhost:8080/"
        },
        "id": "unPTNq4Jt97L",
        "outputId": "66a8233d-8758-4966-a1f9-4c20fd85a7fc"
      },
      "execution_count": null,
      "outputs": [
        {
          "output_type": "stream",
          "name": "stdout",
          "text": [
            "Var 1 es mayor que Var 2\n"
          ]
        }
      ]
    },
    {
      "cell_type": "code",
      "source": [
        "var_1 = 18\n",
        "var_2 = 18\n",
        "\n",
        "if var_1 > var_2:\n",
        "  print(\"Var 1 es mayor que Var 2\")\n",
        "elif var_1 < var_2:\n",
        "  print(\"Var 1 es menor que Var 2\")\n",
        "else:\n",
        "  print(\"Var 1 es igual a Var 2\")"
      ],
      "metadata": {
        "id": "6fVJ00VNuCC_",
        "outputId": "4a0c3124-98f8-4750-9ddb-fe1be6810e62",
        "colab": {
          "base_uri": "https://localhost:8080/"
        }
      },
      "execution_count": null,
      "outputs": [
        {
          "output_type": "stream",
          "name": "stdout",
          "text": [
            "Var 1 es igual a Var 2\n"
          ]
        }
      ]
    }
  ]
}