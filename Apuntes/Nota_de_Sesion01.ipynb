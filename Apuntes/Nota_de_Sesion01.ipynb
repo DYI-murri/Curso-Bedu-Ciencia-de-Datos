{
  "nbformat": 4,
  "nbformat_minor": 0,
  "metadata": {
    "colab": {
      "provenance": []
    },
    "kernelspec": {
      "name": "python3",
      "display_name": "Python 3"
    },
    "language_info": {
      "name": "python"
    }
  },
  "cells": [
    {
      "cell_type": "markdown",
      "source": [
        "# Sesión 01: Fundamentos de Python"
      ],
      "metadata": {
        "id": "0l_nWEjr1DLm"
      }
    },
    {
      "cell_type": "markdown",
      "source": [
        "## Ejemplo 2: Variables"
      ],
      "metadata": {
        "id": "oBtec7EJ1zxF"
      }
    },
    {
      "cell_type": "code",
      "source": [
        "var_1 = 4654654654654"
      ],
      "metadata": {
        "id": "OlVXFC9yrwKr"
      },
      "execution_count": null,
      "outputs": []
    },
    {
      "cell_type": "code",
      "source": [
        "var_1"
      ],
      "metadata": {
        "colab": {
          "base_uri": "https://localhost:8080/"
        },
        "id": "C5cGURTUxCss",
        "outputId": "e94d610d-da44-4e3a-d91b-9cc095830164"
      },
      "execution_count": null,
      "outputs": [
        {
          "output_type": "execute_result",
          "data": {
            "text/plain": [
              "4654654654654"
            ]
          },
          "metadata": {},
          "execution_count": 4
        }
      ]
    },
    {
      "cell_type": "code",
      "source": [
        "var_1 = 3\n",
        "var_2 = 6\n",
        "variable_3 = 10\n",
        "variable_nueva_4 = 20"
      ],
      "metadata": {
        "id": "xqrxmZlHxEZL"
      },
      "execution_count": null,
      "outputs": []
    },
    {
      "cell_type": "code",
      "source": [
        "piece_1 = 3"
      ],
      "metadata": {
        "id": "kBIIu-UpxYrN"
      },
      "execution_count": null,
      "outputs": []
    },
    {
      "cell_type": "code",
      "source": [
        "variable_str = \"hola como estas\""
      ],
      "metadata": {
        "id": "bynjQ8tVxo1k"
      },
      "execution_count": null,
      "outputs": []
    },
    {
      "cell_type": "code",
      "source": [
        "variable_str"
      ],
      "metadata": {
        "colab": {
          "base_uri": "https://localhost:8080/",
          "height": 36
        },
        "id": "BPk9EJjCx4cs",
        "outputId": "2f0c8273-ed4b-415c-cd9e-e9cb867e0947"
      },
      "execution_count": null,
      "outputs": [
        {
          "output_type": "execute_result",
          "data": {
            "text/plain": [
              "'hola como estas'"
            ],
            "application/vnd.google.colaboratory.intrinsic+json": {
              "type": "string"
            }
          },
          "metadata": {},
          "execution_count": 8
        }
      ]
    },
    {
      "cell_type": "code",
      "source": [
        "variable_bedu"
      ],
      "metadata": {
        "colab": {
          "base_uri": "https://localhost:8080/",
          "height": 179
        },
        "id": "yAUmhAVqx5ML",
        "outputId": "d8846a01-ef7f-4d68-ad68-2075419dd6a6"
      },
      "execution_count": null,
      "outputs": [
        {
          "output_type": "error",
          "ename": "NameError",
          "evalue": "ignored",
          "traceback": [
            "\u001b[0;31m---------------------------------------------------------------------------\u001b[0m",
            "\u001b[0;31mNameError\u001b[0m                                 Traceback (most recent call last)",
            "\u001b[0;32m<ipython-input-9-ef6dbbe1cc03>\u001b[0m in \u001b[0;36m<cell line: 1>\u001b[0;34m()\u001b[0m\n\u001b[0;32m----> 1\u001b[0;31m \u001b[0mvariable_bedu\u001b[0m\u001b[0;34m\u001b[0m\u001b[0;34m\u001b[0m\u001b[0m\n\u001b[0m",
            "\u001b[0;31mNameError\u001b[0m: name 'variable_bedu' is not defined"
          ]
        }
      ]
    },
    {
      "cell_type": "code",
      "source": [
        "variable_bedu = 3.141516"
      ],
      "metadata": {
        "id": "y4o0Yh1EyDWM"
      },
      "execution_count": null,
      "outputs": []
    },
    {
      "cell_type": "code",
      "source": [
        "variable_bedu"
      ],
      "metadata": {
        "colab": {
          "base_uri": "https://localhost:8080/"
        },
        "id": "7hSK-QsxyNi9",
        "outputId": "abe86c30-0234-402c-ed4b-9ce04ad78d6c"
      },
      "execution_count": null,
      "outputs": [
        {
          "output_type": "execute_result",
          "data": {
            "text/plain": [
              "3.141516"
            ]
          },
          "metadata": {},
          "execution_count": 11
        }
      ]
    },
    {
      "cell_type": "code",
      "source": [
        "variable_bedu = \"Hola mundo\""
      ],
      "metadata": {
        "id": "yD_21xSUyOll"
      },
      "execution_count": null,
      "outputs": []
    },
    {
      "cell_type": "code",
      "source": [
        "variable_bedu"
      ],
      "metadata": {
        "colab": {
          "base_uri": "https://localhost:8080/",
          "height": 36
        },
        "id": "8EmdyVIPySTr",
        "outputId": "0ba03cd5-3f7c-49de-ac8b-4757a1cf7dcb"
      },
      "execution_count": null,
      "outputs": [
        {
          "output_type": "execute_result",
          "data": {
            "text/plain": [
              "'Hola mundo'"
            ],
            "application/vnd.google.colaboratory.intrinsic+json": {
              "type": "string"
            }
          },
          "metadata": {},
          "execution_count": 13
        }
      ]
    },
    {
      "cell_type": "code",
      "source": [
        "variable_bedu = 3.1415926535\n"
      ],
      "metadata": {
        "id": "ClAPmKzLyS6s"
      },
      "execution_count": null,
      "outputs": []
    },
    {
      "cell_type": "code",
      "source": [
        "variable_bedu"
      ],
      "metadata": {
        "colab": {
          "base_uri": "https://localhost:8080/"
        },
        "id": "xthP0zjxyfjU",
        "outputId": "57d73fd9-5f43-40e1-ecfa-04486644ccdb"
      },
      "execution_count": null,
      "outputs": [
        {
          "output_type": "execute_result",
          "data": {
            "text/plain": [
              "3.1415926535"
            ]
          },
          "metadata": {},
          "execution_count": 15
        }
      ]
    },
    {
      "cell_type": "code",
      "source": [
        "var_1 = 3\n",
        "var_2 = 6\n",
        "variable_3 = 10\n",
        "variable_nueva_4 = 20\n",
        "\n",
        "variable_none = None\n",
        "# esto es solamente un comentario no se va a ejecutar\n"
      ],
      "metadata": {
        "id": "au9YGHoHy1nj"
      },
      "execution_count": null,
      "outputs": []
    },
    {
      "cell_type": "code",
      "source": [
        "var_1 = 5 # si es valida o invalida"
      ],
      "metadata": {
        "id": "fXchO_k-0XUT"
      },
      "execution_count": null,
      "outputs": []
    },
    {
      "cell_type": "code",
      "source": [
        "variable_none"
      ],
      "metadata": {
        "id": "KHd-ocGyz2kW"
      },
      "execution_count": null,
      "outputs": []
    },
    {
      "cell_type": "code",
      "source": [
        "variable_none = \"hola mundo\""
      ],
      "metadata": {
        "id": "aUG4RZOvz278"
      },
      "execution_count": null,
      "outputs": []
    },
    {
      "cell_type": "code",
      "source": [
        "variable_none"
      ],
      "metadata": {
        "colab": {
          "base_uri": "https://localhost:8080/",
          "height": 36
        },
        "id": "bemhYiLpz5Ik",
        "outputId": "1c1e3f6e-73b4-42cd-9158-bdd19939000f"
      },
      "execution_count": null,
      "outputs": [
        {
          "output_type": "execute_result",
          "data": {
            "text/plain": [
              "'hola mundo'"
            ],
            "application/vnd.google.colaboratory.intrinsic+json": {
              "type": "string"
            }
          },
          "metadata": {},
          "execution_count": 19
        }
      ]
    },
    {
      "cell_type": "code",
      "source": [
        "\n",
        "var_1 = 5  # Válida\n",
        "\n",
        "variable_nueva_2 = 10  # Válida\n",
        "\n",
        "Variable_nueva_3 = 11  # Inválida\n",
        "\n",
        "var_3_1 = 14  # Válida\n",
        "\n",
        "varNueva4 = 44  # Inválida\n",
        "\n",
        "var_nuevaNumero = 98  # Inválida\n",
        "\n",
        "var_num = 22  # Válida\n",
        "\n",
        "VarNum = 11  # Inválida\n",
        "\n",
        "soyUnaVariable = 14  # Inválida"
      ],
      "metadata": {
        "id": "Dqh8qopzz5sb"
      },
      "execution_count": null,
      "outputs": []
    },
    {
      "cell_type": "markdown",
      "source": [
        "## Ejemplo 3: Operaciones numéricas"
      ],
      "metadata": {
        "id": "Q2n-InTU15wz"
      }
    },
    {
      "cell_type": "code",
      "source": [
        "var_1 = 4\n",
        "var_2 = 54\n",
        "var_3 = 23\n",
        "var_4 = 89"
      ],
      "metadata": {
        "id": "FxSwm8Xt7TA6"
      },
      "execution_count": null,
      "outputs": []
    },
    {
      "cell_type": "code",
      "source": [
        "var_1 + var_2"
      ],
      "metadata": {
        "colab": {
          "base_uri": "https://localhost:8080/"
        },
        "id": "wQTV2jIw8LNS",
        "outputId": "482f8b87-d605-4b64-966b-c59780a9a369"
      },
      "execution_count": null,
      "outputs": [
        {
          "output_type": "execute_result",
          "data": {
            "text/plain": [
              "58"
            ]
          },
          "metadata": {},
          "execution_count": 23
        }
      ]
    },
    {
      "cell_type": "code",
      "source": [
        "var_2 - var_4"
      ],
      "metadata": {
        "colab": {
          "base_uri": "https://localhost:8080/"
        },
        "id": "J2Z7jdFh8Umq",
        "outputId": "270d457d-d41e-4640-a82f-447f7978a095"
      },
      "execution_count": null,
      "outputs": [
        {
          "output_type": "execute_result",
          "data": {
            "text/plain": [
              "-35"
            ]
          },
          "metadata": {},
          "execution_count": 24
        }
      ]
    },
    {
      "cell_type": "code",
      "source": [
        "var_1"
      ],
      "metadata": {
        "colab": {
          "base_uri": "https://localhost:8080/"
        },
        "id": "gKJdn8r28Xwc",
        "outputId": "bf96d605-23f9-42c1-8ae5-36a9cfb7413e"
      },
      "execution_count": null,
      "outputs": [
        {
          "output_type": "execute_result",
          "data": {
            "text/plain": [
              "4"
            ]
          },
          "metadata": {},
          "execution_count": 25
        }
      ]
    },
    {
      "cell_type": "code",
      "source": [
        "# *\n",
        "var_3 * var_1"
      ],
      "metadata": {
        "colab": {
          "base_uri": "https://localhost:8080/"
        },
        "id": "g7SZNv2y8d7B",
        "outputId": "934b9c2b-69d2-46cb-d33a-db50f298cb4e"
      },
      "execution_count": null,
      "outputs": [
        {
          "output_type": "execute_result",
          "data": {
            "text/plain": [
              "92"
            ]
          },
          "metadata": {},
          "execution_count": 26
        }
      ]
    },
    {
      "cell_type": "code",
      "source": [
        "var_4 / var_2"
      ],
      "metadata": {
        "colab": {
          "base_uri": "https://localhost:8080/"
        },
        "id": "0DWplFHP8h4S",
        "outputId": "3fd19d26-4569-4b0e-ed1d-f26955f30be8"
      },
      "execution_count": null,
      "outputs": [
        {
          "output_type": "execute_result",
          "data": {
            "text/plain": [
              "1.6481481481481481"
            ]
          },
          "metadata": {},
          "execution_count": 27
        }
      ]
    },
    {
      "cell_type": "code",
      "source": [
        "var_4 // var_2"
      ],
      "metadata": {
        "colab": {
          "base_uri": "https://localhost:8080/"
        },
        "id": "DqGfXFbI8tta",
        "outputId": "2137e1f8-7f1a-467d-d078-01eaa823c49c"
      },
      "execution_count": null,
      "outputs": [
        {
          "output_type": "execute_result",
          "data": {
            "text/plain": [
              "1"
            ]
          },
          "metadata": {},
          "execution_count": 28
        }
      ]
    },
    {
      "cell_type": "code",
      "source": [
        "var_2 ** var_1"
      ],
      "metadata": {
        "colab": {
          "base_uri": "https://localhost:8080/"
        },
        "id": "p418Wyry8waq",
        "outputId": "8a91d5dd-6955-4bdd-94c6-4f8c5418336e"
      },
      "execution_count": null,
      "outputs": [
        {
          "output_type": "execute_result",
          "data": {
            "text/plain": [
              "8503056"
            ]
          },
          "metadata": {},
          "execution_count": 29
        }
      ]
    },
    {
      "cell_type": "code",
      "source": [
        "resultado_suma = var_2 + var_4"
      ],
      "metadata": {
        "id": "pS2FAU9182oT"
      },
      "execution_count": null,
      "outputs": []
    },
    {
      "cell_type": "code",
      "source": [
        "resultado_suma"
      ],
      "metadata": {
        "colab": {
          "base_uri": "https://localhost:8080/"
        },
        "id": "0T7FAcEn88ij",
        "outputId": "c67f916d-f594-4ca6-c956-aff1ff2ea78d"
      },
      "execution_count": null,
      "outputs": [
        {
          "output_type": "execute_result",
          "data": {
            "text/plain": [
              "143"
            ]
          },
          "metadata": {},
          "execution_count": 31
        }
      ]
    },
    {
      "cell_type": "code",
      "source": [
        "resultado_resta = var_4 - var_2\n",
        "\n",
        "resultado_resta"
      ],
      "metadata": {
        "colab": {
          "base_uri": "https://localhost:8080/"
        },
        "id": "qeNdaZel8_Pd",
        "outputId": "a7ab74e2-b8bf-4a0c-bba7-aa26b997434b"
      },
      "execution_count": null,
      "outputs": [
        {
          "output_type": "execute_result",
          "data": {
            "text/plain": [
              "35"
            ]
          },
          "metadata": {},
          "execution_count": 33
        }
      ]
    },
    {
      "cell_type": "code",
      "source": [
        "# Ejemplo de operador módulo en Python\n",
        "# Dividimos 10 entre 3 y obtenemos el residuo\n",
        "resultado = 10 % 3\n",
        "resultado"
      ],
      "metadata": {
        "colab": {
          "base_uri": "https://localhost:8080/"
        },
        "id": "WZMC3utu9Fg7",
        "outputId": "3c5f87ed-2625-4677-cf80-8066d1dee3ea"
      },
      "execution_count": null,
      "outputs": [
        {
          "output_type": "execute_result",
          "data": {
            "text/plain": [
              "1"
            ]
          },
          "metadata": {},
          "execution_count": 34
        }
      ]
    },
    {
      "cell_type": "code",
      "source": [
        "# * y **\n",
        "5 * 5"
      ],
      "metadata": {
        "colab": {
          "base_uri": "https://localhost:8080/"
        },
        "id": "hRxmEhsg9Sqy",
        "outputId": "a2808247-0526-4e67-f8c5-e971b715a25c"
      },
      "execution_count": null,
      "outputs": [
        {
          "output_type": "execute_result",
          "data": {
            "text/plain": [
              "25"
            ]
          },
          "metadata": {},
          "execution_count": 35
        }
      ]
    },
    {
      "cell_type": "code",
      "source": [
        "5 ** 5"
      ],
      "metadata": {
        "colab": {
          "base_uri": "https://localhost:8080/"
        },
        "id": "43GEBniz9zCq",
        "outputId": "6b0bc91c-a3d1-426c-c7ae-66225b982b20"
      },
      "execution_count": null,
      "outputs": [
        {
          "output_type": "execute_result",
          "data": {
            "text/plain": [
              "3125"
            ]
          },
          "metadata": {},
          "execution_count": 36
        }
      ]
    },
    {
      "cell_type": "code",
      "source": [
        "if 10 % 2 == 0:\n",
        "  print('Número par')\n",
        "else:\n",
        "  print('Número impar')"
      ],
      "metadata": {
        "colab": {
          "base_uri": "https://localhost:8080/"
        },
        "id": "oUyyDFvp90fy",
        "outputId": "d47ea4e8-a9bb-4f4b-97ab-02846640676a"
      },
      "execution_count": null,
      "outputs": [
        {
          "output_type": "stream",
          "name": "stdout",
          "text": [
            "Número par\n"
          ]
        }
      ]
    },
    {
      "cell_type": "code",
      "source": [],
      "metadata": {
        "id": "l5Nt53ql-PRb"
      },
      "execution_count": null,
      "outputs": []
    },
    {
      "cell_type": "markdown",
      "source": [
        "## Ejemplo 4: Tipos de Dato"
      ],
      "metadata": {
        "id": "VtQZUAGu2Fjv"
      }
    },
    {
      "cell_type": "markdown",
      "source": [
        "## Ejemplo 5: Interpolación de strings"
      ],
      "metadata": {
        "id": "2bik0w8s2MWT"
      }
    },
    {
      "cell_type": "markdown",
      "source": [
        "## Ejemplo 6: Operadores de comparación"
      ],
      "metadata": {
        "id": "9HpcKDlU2Oc5"
      }
    },
    {
      "cell_type": "markdown",
      "source": [
        "## Ejemplo 7: Estructuras de control de flujo"
      ],
      "metadata": {
        "id": "vveUHIzb2Tv5"
      }
    }
  ]
}