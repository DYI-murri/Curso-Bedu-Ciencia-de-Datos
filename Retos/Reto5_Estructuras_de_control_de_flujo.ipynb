{
  "cells": [
    {
      "cell_type": "markdown",
      "metadata": {
        "id": "bPfGtoj-gYZt"
      },
      "source": [
        "## Reto 5: Estructuras de control de flujo\n",
        "\n",
        "### 1. Objetivos:\n",
        "    - Entender el funcionamiento de las estructuras de control de flujo a través de un reto\n",
        "\n",
        "---\n",
        "    \n",
        "### 2. Desarrollo:"
      ]
    },
    {
      "cell_type": "markdown",
      "metadata": {
        "id": "kGHcTEgfgYZw"
      },
      "source": [
        "#### 1. Comparaciones numéricas\n",
        "\n",
        "Vamos a imaginar que estamos analizando un conjunto de datos que contiene las ventas anuales en pesos de unos vendedores que trabajan en nuestra empresa. Obtenemos el total de ventas anuales en pesos y lo tenemos asignado a la variable `ventas_anuales_totales`. Escribe una estructura de control que nos diga de cuánto va a ser el bono de nuestro empleado.\n",
        "\n",
        "Si las ventas son mayores a `$`1,000,000 el bono será de 20% del sueldo; si son entre `$`700,000 y `$`1,000,000 el bono será de 15% del sueldo; entre `$`400,000 y `$`700,000 el bono será de 10% del sueldo; entre `$`100,00 y 400,000 el bono será de 5% del sueldo; y debajo de `$`100,000 el bono será del 1% del sueldo.\n",
        "\n",
        "Escribe tu estructura de control y, por ahora (más adelante tendremos más herramientas para hacer esto más interesante) imprime una string que diga de cuánto va a ser el bono.\n",
        "\n",
        "> Reto opcional: Agrega una variable `sueldo` que sea el sueldo de tu empleado y agrégale el porcentaje de bono a esa variable dependiendo de la condición que se cumpla. Después hasta el final imprime una string interpolada que diga algo como \"Felicidades, tu sueldo es x; tu bono es de x; y el total de sueldo con el bono incluido es de x\". ¡Para que esto funcione también debes de agregar una variable donde guardes la cantidad del bono!"
      ]
    },
    {
      "cell_type": "code",
      "execution_count": null,
      "metadata": {
        "id": "QYJKUq5bgYZx",
        "colab": {
          "base_uri": "https://localhost:8080/"
        },
        "outputId": "0fe9fb8c-2dc5-4175-e197-c9dc4937f192"
      },
      "outputs": [
        {
          "name": "stdout",
          "output_type": "stream",
          "text": [
            "¿Cuál fue tu venta anual? 2000000\n",
            "¿Cuál es tu sueldo? 1000\n"
          ]
        }
      ],
      "source": [
        "ventas_anuales_totales = int(input(\"¿Cuál fue tu venta anual? \"))\n",
        "\n",
        "# OPCIONAL\n",
        "sueldo = int(input(\"¿Cuál es tu sueldo? \"))"
      ]
    },
    {
      "cell_type": "code",
      "execution_count": null,
      "metadata": {
        "id": "UM6DfGykgYZx",
        "colab": {
          "base_uri": "https://localhost:8080/"
        },
        "outputId": "d66dd6d2-b77c-41ef-a341-e37b7d8e041a"
      },
      "outputs": [
        {
          "output_type": "stream",
          "name": "stdout",
          "text": [
            "Felicidades, tu sueldo es 1000; tu bono es de 0.2, y el total de sueldo con el bono incluido es de 1200.0\n"
          ]
        }
      ],
      "source": [
        "# Escribe aquí tu código\n",
        "if ventas_anuales_totales >= 1000000:\n",
        "    bono = 0.2\n",
        "elif ventas_anuales_totales >= 700000:\n",
        "    bono = 0.15\n",
        "elif ventas_anuales_totales >= 400000:\n",
        "    bono = 0.1\n",
        "elif ventas_anuales_totales >= 100000:\n",
        "    bono = 0.05\n",
        "else:\n",
        "    bono = 0.01\n",
        "\n",
        "sueldo_mas_bono = sueldo + sueldo * bono\n",
        "\n",
        "print(f\"Felicidades, tu sueldo es {sueldo}; tu bono es de {bono}, y el total de sueldo con el bono incluido es de {sueldo_mas_bono}\")"
      ]
    },
    {
      "cell_type": "markdown",
      "metadata": {
        "id": "_AvjyVfmgYZy"
      },
      "source": [
        "<details><summary>Solución</summary>\n",
        "\n",
        "```python\n",
        "if ventas_anuales_totales >= 1000000:\n",
        "    bono = 0.2\n",
        "elif ventas_anuales_totales >= 700000:\n",
        "    bono = 0.15\n",
        "elif ventas_anuales_totales >= 400000:\n",
        "    bono = 0.1\n",
        "elif ventas_anuales_totales >= 100000:\n",
        "    bono = 0.05\n",
        "else:\n",
        "    bono = 0.01\n",
        "    \n",
        "sueldo_mas_bono = sueldo + sueldo * bono\n",
        "    \n",
        "print(f\"Felicidades, tu sueldo es {sueldo}; tu bono es de {bono}, y el total de sueldo con el bono incluido es de {sueldo_mas_bono}\")\n",
        "```\n",
        "    \n",
        "</details>"
      ]
    },
    {
      "cell_type": "code",
      "execution_count": null,
      "metadata": {
        "id": "rjras5gxgYZy"
      },
      "outputs": [],
      "source": []
    }
  ],
  "metadata": {
    "kernelspec": {
      "display_name": "Python (data_science)",
      "language": "python",
      "name": "data_science"
    },
    "language_info": {
      "codemirror_mode": {
        "name": "ipython",
        "version": 3
      },
      "file_extension": ".py",
      "mimetype": "text/x-python",
      "name": "python",
      "nbconvert_exporter": "python",
      "pygments_lexer": "ipython3",
      "version": "3.8.5"
    },
    "colab": {
      "provenance": []
    }
  },
  "nbformat": 4,
  "nbformat_minor": 0
}