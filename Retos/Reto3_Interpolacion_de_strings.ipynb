{
  "cells": [
    {
      "cell_type": "markdown",
      "metadata": {
        "id": "I4nX7CxzFDdl"
      },
      "source": [
        "## Reto 3: Interpolación de strings\n",
        "\n",
        "### 1. Objetivos:\n",
        "    - Practicar interpolación de strings\n",
        "\n",
        "---\n",
        "    \n",
        "### 2. Desarrollo:"
      ]
    },
    {
      "cell_type": "markdown",
      "metadata": {
        "id": "xUOBf3dDFDdo"
      },
      "source": [
        "A continuación tienes algunas variables asignadas:"
      ]
    },
    {
      "cell_type": "code",
      "execution_count": null,
      "metadata": {
        "id": "IyCtJMYrFDdo"
      },
      "outputs": [],
      "source": [
        "nombre_1 = \"Jenny\"\n",
        "nombre_2 = \"Marco P.\"\n",
        "\n",
        "edad_1 = 110\n",
        "edad_2 = 42\n",
        "\n",
        "estrella_1 = \"Woopsie Doopsies\"\n",
        "estrella_2 = \"Omega-3\"\n",
        "estrella_3 = \"Justin Bieber\"\n",
        "estrella_4 = \"La Twinkle\"\n",
        "estrella_5 = \"Rosaberta\"\n",
        "\n",
        "total_de_nombres_de_estrellas_mencionados = 5\n",
        "numero_de_estrellas_deseadas = 325"
      ]
    },
    {
      "cell_type": "code",
      "source": [
        "print(f'{nombre_2} y {nombre_1} son grandes amigues. Les mejores. Van y vienen juntes desde hace décadas. Sí, decadas.{nombre_2} tiene {edad_1} \\n años  y {nombre_1} {edad_2}. Si sumas sus edades,obtienes {edad_1+edad_2}, que curiosamente es el numero de estrellas que {nombre_2} y {nombre_1} han \\n nombrado juntes. Sus estrelllas son su mayor fascinación. Las compararon en Best Buy en una ganga de objetos celestes.Están \\n {estrella_1},{estrella_2},{estrella_3},{estrella_4}, {estrella_5} y otras {(edad_1+ edad_2)- total_de_nombres_de_estrellas_mencionados} estrellas más. {nombre_2} y {nombre_1} tienen \\n planeado sobrevivir hasta el siglo XXII.¡Cuántas estrelllas más habrán de comprar y nombrar juntes! Su meta es {numero_de_estrellas_deseadas}.Sólo faltan \\n {numero_de_estrellas_deseadas-(edad_1+edad_2)}.¡Vamos {nombre_2} y {nombre_1}! {nombre_2} y {nombre_1} son las mejores amigues. No hay duda alguna')"
      ],
      "metadata": {
        "id": "eMD70W8uFzhK",
        "colab": {
          "base_uri": "https://localhost:8080/"
        },
        "outputId": "a840b8b2-50f7-428c-95b6-79606a02b26d"
      },
      "execution_count": null,
      "outputs": [
        {
          "output_type": "stream",
          "name": "stdout",
          "text": [
            "Marco P. y Jenny son grandes amigues. Les mejores. Van y vienen juntes desde hace décadas. Sí, decadas.Marco P. tiene 110 \n",
            " años  y Jenny 42. Si sumas sus edades,obtienes 152, que curiosamente es el numero de estrellas que Marco P. y Jenny han \n",
            " nombrado juntes. Sus estrelllas son su mayor fascinación. Las compararon en Best Buy en una ganga de objetos celestes.Están \n",
            " Woopsie Doopsies,Omega-3,Justin Bieber,La Twinkle, Rosaberta y otras 147 estrellas más. Marco P. y Jenny tienen \n",
            " planeado sobrevivir hasta el siglo XXII.¡Cuántas estrelllas más habrán de comprar y nombrar juntes! Su meta es 325.Sólo faltan \n",
            " 173.¡Vamos Marco P. y Jenny! Marco P. y Jenny son las mejores amigues. No hay duda alguna\n"
          ]
        }
      ]
    },
    {
      "cell_type": "markdown",
      "metadata": {
        "id": "5j-ts6QjFDdp"
      },
      "source": [
        "Usando **TODAS** las variables de arriba, crea una (o más) string que, al correr la celda, imprima la siguiente historia:\n",
        "\n",
        "> \"Marco P. y Jenny son grandes amigues. Les mejores. Van y vienen juntes desde hace décadas. Sí, décadas. Marco P. tiene 110 años y Jenny 42. Si sumas sus edades, obtienes 152, que curiosamente es el número de estrellas que Marco P. y Jenny han nombrado juntes. Sus estrellas son su mayor fascinación. Las compraron en Best Buy en una ganga de objetos celestes. Están 'Woopsie Doopsies', 'Omega-3', 'Justin Bieber', 'La Twinkle', 'Rosaberta' y otras 147 estrellas más. Marco P. y Jenny tienen planeado sobrevivir hasta el siglo XXII. ¡Cuántas estrellas más habrán de comprar y nombrar juntes! Su meta es 325. Sólo faltan 173. ¡Vamos Marco P. y Jenny! Marco P. y Jenny son les mejores amigues. No hay duda alguna.\"\n",
        "\n",
        "Recuerda utilizar **TODAS** las variables que hemos asignado. También, todos los números que aparezcan en el texto deben de ser variables interpoladas u operaciones aritméticas. Ningún número puede ser una string simple.\n",
        "\n",
        "¡Mucha suerte!"
      ]
    },
    {
      "cell_type": "markdown",
      "metadata": {
        "id": "Yh2oCupwFDdp"
      },
      "source": [
        "<details><summary>Solución</summary>\n",
        "\n",
        "```python\n",
        "print(f\"{nombre_1} y {nombre_2} son grandes amigues. Les mejores. Van y vienen juntos desde hace décadas. Sí, décadas. {nombre_1} tiene {edad_1} años y {nombre_2} {edad_2}. Si sumas sus edades, obtienes {edad_1 + edad_2}, que curiosamente es el número de estrellas que {nombre_1} y {nombre_2} han nombrado juntos. Sus estrellas son su mayor fascinación. Las compraron en Best Buy en una ganga de objetos celestes. Están {estrella_1}, {estrella_2}, {estrella_3}, {estrella_4}, {estrella_5} y otras {edad_1 + edad_2 - total_de_nombres_de_estrellas_mencionados} estrellas más. {nombre_1} y {nombre_2} tienen planeado sobrevivir hasta el siglo XXII. ¡Cuántas estrellas más habrán de comprar y nombrar juntos! Su meta es {numero_de_estrellas_deseadas}. Sólo faltan {numero_de_estrellas_deseadas - edad_1 + edad_2}. ¡Vamos {nombre_1} y {nombre_2}! {nombre_1} y {nombre_2} son les mejores amigues. No hay duda alguna.\"\n",
        "```\n",
        "    \n",
        "</details>"
      ]
    },
    {
      "cell_type": "code",
      "execution_count": null,
      "metadata": {
        "id": "_nYSJ2tUFDdq"
      },
      "outputs": [],
      "source": []
    }
  ],
  "metadata": {
    "kernelspec": {
      "display_name": "Python (data_science)",
      "language": "python",
      "name": "data_science"
    },
    "language_info": {
      "codemirror_mode": {
        "name": "ipython",
        "version": 3
      },
      "file_extension": ".py",
      "mimetype": "text/x-python",
      "name": "python",
      "nbconvert_exporter": "python",
      "pygments_lexer": "ipython3",
      "version": "3.8.5"
    },
    "colab": {
      "provenance": []
    }
  },
  "nbformat": 4,
  "nbformat_minor": 0
}