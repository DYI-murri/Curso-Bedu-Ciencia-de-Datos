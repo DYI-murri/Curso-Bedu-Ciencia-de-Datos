{
  "cells": [
    {
      "cell_type": "markdown",
      "metadata": {
        "id": "1fIh6zvsYk0E"
      },
      "source": [
        "# Ejemplo 1: Esto es un Notebook de práctica\n",
        "\n",
        "---\n",
        "\n",
        "### 1. Objetivos:\n",
        "  - Repasar rápidamente cómo funciona Jupyter Notebooks para recordar lo que vimos en el Prework.\n",
        "  \n",
        "  \n",
        "### 2. Requisitos:\n",
        "  - Jupyter Notebooks instalado\n",
        "\n",
        "---"
      ]
    },
    {
      "cell_type": "markdown",
      "metadata": {
        "id": "L0vAni-MYk0G"
      },
      "source": [
        "En JN tenemos `modo comando` y `modo edición`.\n",
        "\n",
        "- Para entrar en `modo edición` > `return`\n",
        "- Para entrar en `modo comando` > `esc`\n",
        "\n",
        "- El `modo edición` sirve para editar celdas\n",
        "- El `modo comando` sirve para usar comandos de JN"
      ]
    },
    {
      "cell_type": "markdown",
      "metadata": {
        "id": "X_WD93IsYk0H"
      },
      "source": [
        "Para correr celdas, presionamos `shift + return`.\n",
        "\n",
        "- Una `celda markdown` (de texto), muestra el texto estilizado al ser corrida\n",
        "- Una `celda de código` corre el código que contiene y muestra el output debajo"
      ]
    },
    {
      "cell_type": "markdown",
      "metadata": {
        "id": "DeSJJML6Yk0H"
      },
      "source": [
        "1. Para cambiar una celda a `markdown`, selecciona la celda a cambiar, entra en `modo comando` y presiona `m`.\n",
        "2. Para cambiarla a `código` sigue el mismo proceso pero usa `y`."
      ]
    },
    {
      "cell_type": "markdown",
      "metadata": {
        "id": "-evTc21aYk0H"
      },
      "source": [
        "Esto es una celda de `markdown``"
      ]
    },
    {
      "cell_type": "code",
      "execution_count": null,
      "metadata": {
        "id": "vFrqYaOZYk0H"
      },
      "outputs": [],
      "source": [
        "# Esto es una celda de código\n",
        "# Y yo soy un comentario, por cierto"
      ]
    },
    {
      "cell_type": "markdown",
      "metadata": {
        "id": "eX2OEUnCYk0I"
      },
      "source": [
        "Escribamos algo de código para correrlo:"
      ]
    },
    {
      "cell_type": "code",
      "execution_count": null,
      "metadata": {
        "id": "c9gtlFNAYk0I",
        "outputId": "54740f52-fc8f-4fe7-d864-f19a39e62d54"
      },
      "outputs": [
        {
          "data": {
            "text/plain": [
              "9"
            ]
          },
          "execution_count": 2,
          "metadata": {},
          "output_type": "execute_result"
        }
      ],
      "source": [
        "var_1 = 4\n",
        "var_2 = 5\n",
        "\n",
        "var_1 + var_2"
      ]
    },
    {
      "cell_type": "markdown",
      "metadata": {
        "id": "Ubd5ifhCYk0J"
      },
      "source": [
        "Seguro reconoces las variables y operadores matemáticos por el Prework.\n",
        "\n",
        "Cada vez que corremos una celda de código, aparece un contador a la izquierda.\n",
        "\n",
        "En la siguiente celda vamos a ver un `[3]` después de correrla:"
      ]
    },
    {
      "cell_type": "code",
      "execution_count": null,
      "metadata": {
        "id": "w1Nw0qJzYk0J",
        "outputId": "bc1b9c94-a7c5-4b60-97cb-1f5234829efb"
      },
      "outputs": [
        {
          "data": {
            "text/plain": [
              "-5"
            ]
          },
          "execution_count": 3,
          "metadata": {},
          "output_type": "execute_result"
        }
      ],
      "source": [
        "var_3 = 9\n",
        "\n",
        "var_1 - var_3"
      ]
    },
    {
      "cell_type": "markdown",
      "metadata": {
        "id": "LgmlQ0mlYk0J"
      },
      "source": [
        "Como puedes ver, podemos acceder a variables que asignamos en celdas pasadas (mientras la celda anterior ya haya sido corrida)"
      ]
    },
    {
      "cell_type": "markdown",
      "metadata": {
        "id": "ILbEzsJUYk0K"
      },
      "source": [
        "Para reiniciar nuestro JN, vamos al menú y elegimos `Kernel/Restart & Clear Output`"
      ]
    },
    {
      "cell_type": "markdown",
      "metadata": {
        "id": "WuL-2w6CYk0K"
      },
      "source": [
        "## **¡Estamos Listos!**"
      ]
    },
    {
      "cell_type": "code",
      "execution_count": null,
      "metadata": {
        "id": "5PhecjeLYk0K"
      },
      "outputs": [],
      "source": []
    }
  ],
  "metadata": {
    "kernelspec": {
      "display_name": "Python (data_science)",
      "language": "python",
      "name": "data_science"
    },
    "language_info": {
      "codemirror_mode": {
        "name": "ipython",
        "version": 3
      },
      "file_extension": ".py",
      "mimetype": "text/x-python",
      "name": "python",
      "nbconvert_exporter": "python",
      "pygments_lexer": "ipython3",
      "version": "3.8.1"
    },
    "colab": {
      "provenance": []
    }
  },
  "nbformat": 4,
  "nbformat_minor": 0
}