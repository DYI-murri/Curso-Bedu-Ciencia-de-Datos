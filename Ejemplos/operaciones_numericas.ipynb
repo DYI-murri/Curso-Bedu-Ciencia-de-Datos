{
  "cells": [
    {
      "cell_type": "markdown",
      "metadata": {
        "id": "kKKau6byZFKy"
      },
      "source": [
        "## Ejemplo 3: Operaciones numéricas\n",
        "\n",
        "### 1. Objetivos:\n",
        "\n",
        "- Mostrar cómo usar los operadores aritméticos\n",
        "- Practicar asignación de variables y output de celdas\n",
        "\n",
        "---\n",
        "\n",
        "### 2. Desarrollo:"
      ]
    },
    {
      "cell_type": "markdown",
      "metadata": {
        "id": "y47AB5BMZFK1"
      },
      "source": [
        "Primero asignemos unas variables:"
      ]
    },
    {
      "cell_type": "code",
      "execution_count": null,
      "metadata": {
        "id": "sqUlCvaXZFK2"
      },
      "outputs": [],
      "source": [
        "var_1 = 4\n",
        "var_2 = 54\n",
        "var_3 = 23\n",
        "var_4 = 89"
      ]
    },
    {
      "cell_type": "markdown",
      "metadata": {
        "id": "bUK3YFuXZFK3"
      },
      "source": [
        "Para realizar operaciones numéricas con estas variables, basta con escribir la operación en una celda y correrla. Veremos el resultado como output debajo de la celda:"
      ]
    },
    {
      "cell_type": "code",
      "execution_count": null,
      "metadata": {
        "id": "pTMgBNUTZFK3",
        "outputId": "aefdaf2c-9536-4558-d7cc-53fea4f9d86b"
      },
      "outputs": [
        {
          "data": {
            "text/plain": [
              "58"
            ]
          },
          "execution_count": 5,
          "metadata": {},
          "output_type": "execute_result"
        }
      ],
      "source": [
        "var_1 + var_2"
      ]
    },
    {
      "cell_type": "code",
      "execution_count": null,
      "metadata": {
        "id": "cIx6diBtZFK4",
        "outputId": "ee020c03-2f25-49be-b67a-a6ec701d594d"
      },
      "outputs": [
        {
          "data": {
            "text/plain": [
              "-35"
            ]
          },
          "execution_count": 6,
          "metadata": {},
          "output_type": "execute_result"
        }
      ],
      "source": [
        "var_2 - var_4"
      ]
    },
    {
      "cell_type": "code",
      "execution_count": null,
      "metadata": {
        "id": "TtbDFkDsZFK4",
        "outputId": "da0bf91b-3df7-4dd3-ab7a-0d66c34070a5"
      },
      "outputs": [
        {
          "data": {
            "text/plain": [
              "92"
            ]
          },
          "execution_count": 7,
          "metadata": {},
          "output_type": "execute_result"
        }
      ],
      "source": [
        "var_3 * var_1"
      ]
    },
    {
      "cell_type": "code",
      "execution_count": null,
      "metadata": {
        "id": "GU1oj4ZrZFK4",
        "outputId": "3a9ff49d-c722-4fc1-ba67-4fadbe1cbeed"
      },
      "outputs": [
        {
          "data": {
            "text/plain": [
              "1.6481481481481481"
            ]
          },
          "execution_count": 8,
          "metadata": {},
          "output_type": "execute_result"
        }
      ],
      "source": [
        "var_4 / var_2"
      ]
    },
    {
      "cell_type": "code",
      "execution_count": null,
      "metadata": {
        "id": "bNfnjGypZFK5",
        "outputId": "d605325d-4a00-4cd3-e38f-169ef105b30f"
      },
      "outputs": [
        {
          "data": {
            "text/plain": [
              "8503056"
            ]
          },
          "execution_count": 9,
          "metadata": {},
          "output_type": "execute_result"
        }
      ],
      "source": [
        "var_2 ** var_1"
      ]
    },
    {
      "cell_type": "markdown",
      "metadata": {
        "id": "-q6BLaS_ZFK5"
      },
      "source": [
        "Si queremos imprimir más de una operación en la misma celda, podemos usar la función `print`:"
      ]
    },
    {
      "cell_type": "code",
      "execution_count": null,
      "metadata": {
        "id": "ke7XKs-6ZFK5",
        "outputId": "e2a28ea6-9f36-4cb0-a721-ede60ca4fb06"
      },
      "outputs": [
        {
          "name": "stdout",
          "output_type": "stream",
          "text": [
            "58\n",
            "-66\n",
            "2916\n"
          ]
        }
      ],
      "source": [
        "print(var_1 + var_2)\n",
        "print(var_3 - var_4)\n",
        "print(var_2 * var_2)"
      ]
    },
    {
      "cell_type": "markdown",
      "metadata": {
        "id": "-0cuOXCSZFK5"
      },
      "source": [
        "También podemos asignar los resultados de nuestras operaciones a otras variables:"
      ]
    },
    {
      "cell_type": "code",
      "execution_count": null,
      "metadata": {
        "id": "rOK9dLF9ZFK6",
        "outputId": "02db8cfa-5069-40de-a616-2d0ea1bc4a1b"
      },
      "outputs": [
        {
          "data": {
            "text/plain": [
              "27"
            ]
          },
          "execution_count": 11,
          "metadata": {},
          "output_type": "execute_result"
        }
      ],
      "source": [
        "resultado_suma = var_1 + var_3\n",
        "\n",
        "resultado_suma"
      ]
    },
    {
      "cell_type": "code",
      "execution_count": null,
      "metadata": {
        "id": "TTmcKH7XZFK6",
        "outputId": "9baf44ce-838d-41fb-fb69-dbf51874a86a"
      },
      "outputs": [
        {
          "data": {
            "text/plain": [
              "35"
            ]
          },
          "execution_count": 13,
          "metadata": {},
          "output_type": "execute_result"
        }
      ],
      "source": [
        "resultado_resta = var_4 - var_2\n",
        "\n",
        "resultado_resta"
      ]
    },
    {
      "cell_type": "markdown",
      "metadata": {
        "id": "-iZbfC4xZFK6"
      },
      "source": [
        "¡Hora de practicar!"
      ]
    },
    {
      "cell_type": "code",
      "execution_count": null,
      "metadata": {
        "id": "k4MMei18ZFK6"
      },
      "outputs": [],
      "source": []
    }
  ],
  "metadata": {
    "kernelspec": {
      "display_name": "Python (data_science)",
      "language": "python",
      "name": "data_science"
    },
    "language_info": {
      "codemirror_mode": {
        "name": "ipython",
        "version": 3
      },
      "file_extension": ".py",
      "mimetype": "text/x-python",
      "name": "python",
      "nbconvert_exporter": "python",
      "pygments_lexer": "ipython3",
      "version": "3.8.5"
    },
    "colab": {
      "provenance": []
    }
  },
  "nbformat": 4,
  "nbformat_minor": 0
}