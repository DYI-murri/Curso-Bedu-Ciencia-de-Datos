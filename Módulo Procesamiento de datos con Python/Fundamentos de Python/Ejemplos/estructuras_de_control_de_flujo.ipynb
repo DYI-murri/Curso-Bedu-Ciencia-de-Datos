{
  "cells": [
    {
      "cell_type": "markdown",
      "metadata": {
        "id": "qIT8zQWDaKAl"
      },
      "source": [
        "## Ejemplo 7: Estructuras de control de flujo\n",
        "\n",
        "### 1. Objetivos:\n",
        "    - Conocer las estructuras de control, cómo funcionan y para qué sirven\n",
        "\n",
        "---\n",
        "    \n",
        "### 2. Desarrollo:"
      ]
    },
    {
      "cell_type": "markdown",
      "metadata": {
        "id": "vBN1XP8GaKAn"
      },
      "source": [
        "Queremos darle a nuestro programa la capacidad de tomar decisiones. Esto puede hacerse usando una `sentencia if`. Una `sentencia if` usa una comparación para obtener un booleano. Si el booleano es `True`, el bloque de la sentencia se corre. Si el booleano es `False` nos saltamos a lo que sigue después del bloque."
      ]
    },
    {
      "cell_type": "code",
      "execution_count": null,
      "metadata": {
        "id": "CkWAg-uvaKAn"
      },
      "outputs": [],
      "source": [
        "var_1 = 4\n",
        "var_2 = 5"
      ]
    },
    {
      "cell_type": "code",
      "execution_count": null,
      "metadata": {
        "id": "o29SmnnXaKAo",
        "outputId": "5f794b4f-f413-4711-937b-14a5364a0c51"
      },
      "outputs": [
        {
          "name": "stdout",
          "output_type": "stream",
          "text": [
            "El bloque se ha corrido\n"
          ]
        }
      ],
      "source": [
        "if var_1 < var_2:\n",
        "    print(\"El bloque se ha corrido\")"
      ]
    },
    {
      "cell_type": "code",
      "execution_count": null,
      "metadata": {
        "id": "WtgmqSX4aKAp",
        "outputId": "fd9030dc-46f9-4945-c6b8-11a9507542cb"
      },
      "outputs": [
        {
          "name": "stdout",
          "output_type": "stream",
          "text": [
            "Yo estoy afuera del bloque, y de todas maneras me van a llamar\n"
          ]
        }
      ],
      "source": [
        "if var_1 > var_2:\n",
        "    print(\"El bloque se ha corrido\")\n",
        "\n",
        "print(\"Yo estoy afuera del bloque, y de todas maneras me van a llamar\")"
      ]
    },
    {
      "cell_type": "markdown",
      "metadata": {
        "id": "ZXXNUIduaKAp"
      },
      "source": [
        "Hay veces que queremos tener una acción `default`, que queremos que suceda en caso de que la comparación sea `False`. Para eso podemos usar una sentencia `else`. Piénsalo como preguntarse a uno mismo: \"Si meto mi mano a la bolsa y resulta que encuentro un billete de $50, me compro unos nachos; si no hay nada, veré la película llorando de tristeza\".\n",
        "\n",
        "Implementamos la acción `default` así:"
      ]
    },
    {
      "cell_type": "code",
      "execution_count": null,
      "metadata": {
        "id": "VIlhdE_TaKAp",
        "outputId": "f5e3eda3-0072-4356-de4b-0e6045cd8e8f"
      },
      "outputs": [
        {
          "name": "stdout",
          "output_type": "stream",
          "text": [
            "La condición no se ha cumplido, y por lo tanto yo me imprimo\n"
          ]
        }
      ],
      "source": [
        "if var_1 > var_2:\n",
        "    print(\"La condición se ha cumplido\")\n",
        "else:\n",
        "    print(\"La condición no se ha cumplido, y por lo tanto yo me imprimo\")"
      ]
    },
    {
      "cell_type": "markdown",
      "metadata": {
        "id": "MguTtbFzaKAq"
      },
      "source": [
        "Si queremos que haya más de dos opciones, podemos agregar opciones usando la sentencia `elif`:"
      ]
    },
    {
      "cell_type": "code",
      "execution_count": null,
      "metadata": {
        "id": "mpKxgs20aKAq",
        "outputId": "6ad3c6e8-5fec-425a-bf1e-23fb5659058e"
      },
      "outputs": [
        {
          "name": "stdout",
          "output_type": "stream",
          "text": [
            "La segunda condición se ha cumplido\n"
          ]
        }
      ],
      "source": [
        "if var_1 > var_2:\n",
        "    print(\"La primera condición se ha cumplido\")\n",
        "elif var_1 < var_2:\n",
        "    print(\"La segunda condición se ha cumplido\")\n",
        "else:\n",
        "    print(\"Las primeras dos comparaciones fueron Falsas\")"
      ]
    },
    {
      "cell_type": "markdown",
      "metadata": {
        "id": "xVhUU74PaKAq"
      },
      "source": [
        "¿Puedes pensar bajo condiciones se correría la sentencia `else`?\n",
        "\n",
        "¡Vayamos al último reto de la sesión!"
      ]
    },
    {
      "cell_type": "code",
      "execution_count": null,
      "metadata": {
        "id": "jYz5XnihaKAq"
      },
      "outputs": [],
      "source": []
    }
  ],
  "metadata": {
    "kernelspec": {
      "display_name": "Python (data_science)",
      "language": "python",
      "name": "data_science"
    },
    "language_info": {
      "codemirror_mode": {
        "name": "ipython",
        "version": 3
      },
      "file_extension": ".py",
      "mimetype": "text/x-python",
      "name": "python",
      "nbconvert_exporter": "python",
      "pygments_lexer": "ipython3",
      "version": "3.8.5"
    },
    "colab": {
      "provenance": []
    }
  },
  "nbformat": 4,
  "nbformat_minor": 0
}