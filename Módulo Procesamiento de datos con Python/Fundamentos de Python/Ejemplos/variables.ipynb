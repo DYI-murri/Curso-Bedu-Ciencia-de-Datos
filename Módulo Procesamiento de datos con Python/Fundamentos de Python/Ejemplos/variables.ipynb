{
  "cells": [
    {
      "cell_type": "markdown",
      "metadata": {
        "id": "OdCloQNLY5RC"
      },
      "source": [
        "## Ejemplo 2: Variables\n",
        "\n",
        "### 1. Objetivos:\n",
        "\n",
        "- Entender cuál es la sintaxis de la asignación de variables en Python\n",
        "- Aprender la convención de nombramiento de variables"
      ]
    },
    {
      "cell_type": "markdown",
      "metadata": {
        "id": "2aE-OMOWY5RF"
      },
      "source": [
        "### 2. Desarrollo:\n",
        "\n",
        "Las siguientes son nombres posibles de variables en Python:\n",
        "\n",
        "- var_1\n",
        "- variable_2\n",
        "- variable_dos\n",
        "- variable_nueva_3\n",
        "- esta_es_una_variable_nueva"
      ]
    },
    {
      "cell_type": "markdown",
      "metadata": {
        "id": "y_sqd5mmY5RF"
      },
      "source": [
        "Los siguientes son nombres inválidos para una variable de Python:\n",
        "\n",
        "- 1_2\n",
        "- 1_variable\n",
        "- variableDos\n",
        "- EstaEsUnaVariable\n",
        "- Soy una variable"
      ]
    },
    {
      "cell_type": "markdown",
      "metadata": {
        "id": "mrcQtCvDY5RG"
      },
      "source": [
        "Asignemos unas cuantas variables a continuación:"
      ]
    },
    {
      "cell_type": "code",
      "execution_count": null,
      "metadata": {
        "id": "3r0_phEoY5RG"
      },
      "outputs": [],
      "source": [
        "var_1 = 3\n",
        "var_2 = 6\n",
        "variable_3 = 10\n",
        "variable_nueva_4 = 20"
      ]
    },
    {
      "cell_type": "markdown",
      "metadata": {
        "id": "GZUeK3moY5RI"
      },
      "source": [
        "Podemos acceder a su contenido con tan solo escribir el nombre de la variable en una celda y correr la celda:"
      ]
    },
    {
      "cell_type": "code",
      "execution_count": null,
      "metadata": {
        "id": "exLmVq97Y5RI",
        "outputId": "d6f7684c-20ee-4cfa-8349-1c9fedc93c9b"
      },
      "outputs": [
        {
          "data": {
            "text/plain": [
              "3"
            ]
          },
          "execution_count": 3,
          "metadata": {},
          "output_type": "execute_result"
        }
      ],
      "source": [
        "var_1"
      ]
    },
    {
      "cell_type": "code",
      "execution_count": null,
      "metadata": {
        "id": "jJQRY-yoY5RJ",
        "outputId": "a359176c-47b2-4ab1-8164-235c0be893db"
      },
      "outputs": [
        {
          "data": {
            "text/plain": [
              "20"
            ]
          },
          "execution_count": 4,
          "metadata": {},
          "output_type": "execute_result"
        }
      ],
      "source": [
        "variable_nueva_4"
      ]
    },
    {
      "cell_type": "markdown",
      "metadata": {
        "id": "zwZt8WSPY5RJ"
      },
      "source": [
        "Si intento llamar una variable que no he asignado, JN me va a lanzar un error:"
      ]
    },
    {
      "cell_type": "code",
      "execution_count": null,
      "metadata": {
        "id": "gmyHZ5VkY5RK",
        "outputId": "908f564e-50d6-41a1-8be9-726b2f518adc"
      },
      "outputs": [
        {
          "ename": "NameError",
          "evalue": "name 'var_5' is not defined",
          "output_type": "error",
          "traceback": [
            "\u001b[0;31m---------------------------------------------------------------------------\u001b[0m",
            "\u001b[0;31mNameError\u001b[0m                                 Traceback (most recent call last)",
            "\u001b[0;32m<ipython-input-5-5d17ed98875c>\u001b[0m in \u001b[0;36m<module>\u001b[0;34m\u001b[0m\n\u001b[0;32m----> 1\u001b[0;31m \u001b[0mvar_5\u001b[0m\u001b[0;34m\u001b[0m\u001b[0;34m\u001b[0m\u001b[0m\n\u001b[0m",
            "\u001b[0;31mNameError\u001b[0m: name 'var_5' is not defined"
          ]
        }
      ],
      "source": [
        "var_5"
      ]
    },
    {
      "cell_type": "markdown",
      "metadata": {
        "id": "1nvDlHd0Y5RK"
      },
      "source": [
        "De igual, manera, si escribo una asignación, pero no corro la celda, esa variable no estará disponible para mí más adelante:"
      ]
    },
    {
      "cell_type": "code",
      "execution_count": null,
      "metadata": {
        "id": "EJf7tkIPY5RK"
      },
      "outputs": [],
      "source": [
        "var_5 = 66"
      ]
    },
    {
      "cell_type": "code",
      "execution_count": null,
      "metadata": {
        "id": "Faww9HNrY5RK",
        "outputId": "8f941521-f8ef-4e0d-b06f-42bb64b4e4e9"
      },
      "outputs": [
        {
          "data": {
            "text/plain": [
              "66"
            ]
          },
          "execution_count": 7,
          "metadata": {},
          "output_type": "execute_result"
        }
      ],
      "source": [
        "var_5"
      ]
    },
    {
      "cell_type": "markdown",
      "metadata": {
        "id": "MiPi8dC9Y5RL"
      },
      "source": [
        "Es hora de que tú practiques."
      ]
    }
  ],
  "metadata": {
    "celltoolbar": "Slideshow",
    "kernelspec": {
      "display_name": "Python (data_science)",
      "language": "python",
      "name": "data_science"
    },
    "language_info": {
      "codemirror_mode": {
        "name": "ipython",
        "version": 3
      },
      "file_extension": ".py",
      "mimetype": "text/x-python",
      "name": "python",
      "nbconvert_exporter": "python",
      "pygments_lexer": "ipython3",
      "version": "3.8.5"
    },
    "colab": {
      "provenance": []
    }
  },
  "nbformat": 4,
  "nbformat_minor": 0
}