{
  "cells": [
    {
      "cell_type": "markdown",
      "metadata": {
        "id": "38kWkA9HZ0WQ"
      },
      "source": [
        "## Ejemplo 6: Operadores de comparación\n",
        "\n",
        "### 1. Objetivos:\n",
        "    - Conocer el funcionamiento de los operadores de comparación usando ints, floats y strings\n",
        "\n",
        "---\n",
        "    \n",
        "### 2. Desarrollo:"
      ]
    },
    {
      "cell_type": "code",
      "source": [],
      "metadata": {
        "id": "OE4Ws3_OZ4Og"
      },
      "execution_count": null,
      "outputs": []
    },
    {
      "cell_type": "markdown",
      "metadata": {
        "id": "SGrkyPMRZ0WT"
      },
      "source": [
        "Comencemos asignando algunas variables que después usaremos para realizar comparaciones:"
      ]
    },
    {
      "cell_type": "code",
      "execution_count": null,
      "metadata": {
        "id": "rm42UzNfZ0WT"
      },
      "outputs": [],
      "source": [
        "var_1 = 34\n",
        "var_2 = 12\n",
        "var_3 = 23.24\n",
        "var_4 = 23.56\n",
        "var_5 = \"OK\"\n",
        "var_6 = \"ERROR\"\n",
        "var_7 = True\n",
        "var_8 = False"
      ]
    },
    {
      "cell_type": "markdown",
      "metadata": {
        "id": "iq1ojAi2Z0WU"
      },
      "source": [
        "Ahora veamos algunas comparaciones para ver cómo es que funcionan nuestros operadores."
      ]
    },
    {
      "cell_type": "code",
      "execution_count": null,
      "metadata": {
        "id": "z_aIg-2XZ0WV",
        "outputId": "3c251f2e-f50d-4ab5-9d6e-f89f30b40ce5"
      },
      "outputs": [
        {
          "data": {
            "text/plain": [
              "True"
            ]
          },
          "execution_count": 3,
          "metadata": {},
          "output_type": "execute_result"
        }
      ],
      "source": [
        "var_1 > var_2"
      ]
    },
    {
      "cell_type": "code",
      "execution_count": null,
      "metadata": {
        "id": "1asO-q4XZ0WV",
        "outputId": "5d139e91-65cf-497e-d6e4-70725eadff01"
      },
      "outputs": [
        {
          "data": {
            "text/plain": [
              "False"
            ]
          },
          "execution_count": 4,
          "metadata": {},
          "output_type": "execute_result"
        }
      ],
      "source": [
        "var_1 < var_2"
      ]
    },
    {
      "cell_type": "code",
      "execution_count": null,
      "metadata": {
        "id": "CtZVPR2AZ0WW",
        "outputId": "38d5343f-31bc-4402-b04c-ad23566fffd5"
      },
      "outputs": [
        {
          "data": {
            "text/plain": [
              "True"
            ]
          },
          "execution_count": 5,
          "metadata": {},
          "output_type": "execute_result"
        }
      ],
      "source": [
        "var_3 < var_4"
      ]
    },
    {
      "cell_type": "code",
      "execution_count": null,
      "metadata": {
        "id": "_u5stWWkZ0WW",
        "outputId": "60cd4df9-e6db-4e01-9edb-dc167d96fa7d"
      },
      "outputs": [
        {
          "data": {
            "text/plain": [
              "True"
            ]
          },
          "execution_count": 6,
          "metadata": {},
          "output_type": "execute_result"
        }
      ],
      "source": [
        "var_3 <= var_3"
      ]
    },
    {
      "cell_type": "code",
      "execution_count": null,
      "metadata": {
        "id": "ECp5pJbCZ0WW",
        "outputId": "7f1b7348-f763-45c5-bc74-e0005e8221c2"
      },
      "outputs": [
        {
          "data": {
            "text/plain": [
              "True"
            ]
          },
          "execution_count": 7,
          "metadata": {},
          "output_type": "execute_result"
        }
      ],
      "source": [
        "var_1 >= var_4"
      ]
    },
    {
      "cell_type": "code",
      "execution_count": null,
      "metadata": {
        "id": "wzwu_YPLZ0WW",
        "outputId": "63c46bea-75e4-4e37-98a1-d394c2a7a0c8"
      },
      "outputs": [
        {
          "data": {
            "text/plain": [
              "False"
            ]
          },
          "execution_count": 8,
          "metadata": {},
          "output_type": "execute_result"
        }
      ],
      "source": [
        "var_5 == var_6"
      ]
    },
    {
      "cell_type": "code",
      "execution_count": null,
      "metadata": {
        "id": "du00yIbWZ0WX",
        "outputId": "90e2bc0e-2c70-4a9e-d139-8b6b55610879"
      },
      "outputs": [
        {
          "data": {
            "text/plain": [
              "True"
            ]
          },
          "execution_count": 9,
          "metadata": {},
          "output_type": "execute_result"
        }
      ],
      "source": [
        "var_5 != var_6"
      ]
    },
    {
      "cell_type": "code",
      "execution_count": null,
      "metadata": {
        "id": "qLvE6LtIZ0WX",
        "outputId": "1036a22c-f93c-4b67-9f2a-bf38b02d9b12"
      },
      "outputs": [
        {
          "data": {
            "text/plain": [
              "False"
            ]
          },
          "execution_count": 10,
          "metadata": {},
          "output_type": "execute_result"
        }
      ],
      "source": [
        "var_7 == var_8"
      ]
    },
    {
      "cell_type": "code",
      "execution_count": null,
      "metadata": {
        "id": "cWUaDyfzZ0WY",
        "outputId": "fcf5f48b-b4e8-4272-fbba-384ed7b37052"
      },
      "outputs": [
        {
          "data": {
            "text/plain": [
              "True"
            ]
          },
          "execution_count": 11,
          "metadata": {},
          "output_type": "execute_result"
        }
      ],
      "source": [
        "var_7 == var_7"
      ]
    },
    {
      "cell_type": "markdown",
      "metadata": {
        "id": "mYOw-isqZ0WY"
      },
      "source": [
        "¡Interesante! Vamos al siguiente reto para practicar estos conocimientos."
      ]
    },
    {
      "cell_type": "code",
      "execution_count": null,
      "metadata": {
        "id": "72TNalHvZ0WY"
      },
      "outputs": [],
      "source": []
    }
  ],
  "metadata": {
    "kernelspec": {
      "display_name": "Python (data_science)",
      "language": "python",
      "name": "data_science"
    },
    "language_info": {
      "codemirror_mode": {
        "name": "ipython",
        "version": 3
      },
      "file_extension": ".py",
      "mimetype": "text/x-python",
      "name": "python",
      "nbconvert_exporter": "python",
      "pygments_lexer": "ipython3",
      "version": "3.8.5"
    },
    "colab": {
      "provenance": []
    }
  },
  "nbformat": 4,
  "nbformat_minor": 0
}