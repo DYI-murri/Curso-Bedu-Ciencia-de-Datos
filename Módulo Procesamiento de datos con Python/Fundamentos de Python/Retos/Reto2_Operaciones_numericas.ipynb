{
  "cells": [
    {
      "cell_type": "markdown",
      "metadata": {
        "id": "nGz8d2JWC3PV"
      },
      "source": [
        "## Reto 2: Operaciones numéricas\n",
        "\n",
        "### 1. Objetivos:\n",
        "    - Practicar asignación de variables y operaciones aritméticas en Python\n",
        "\n",
        "---\n",
        "    \n",
        "### 2. Desarrollo:"
      ]
    },
    {
      "cell_type": "markdown",
      "metadata": {
        "id": "-0QdLx0FC3PY"
      },
      "source": [
        "#### 1. Asignación de los números correctos\n",
        "\n",
        "A continuación, verás unas variables que tienen nombre pero que todavía no tienen ningún valor asignado:"
      ]
    },
    {
      "cell_type": "code",
      "execution_count": null,
      "metadata": {
        "id": "-_xkQlZ1C3PY"
      },
      "outputs": [],
      "source": [
        "var_1 =4\n",
        "\n",
        "var_2 =10\n",
        "\n",
        "var_3 =6\n",
        "\n",
        "var_4 =8\n",
        "\n",
        "var_5 =2"
      ]
    },
    {
      "cell_type": "markdown",
      "metadata": {
        "id": "s0y_gTOJC3PZ"
      },
      "source": [
        "Ahora, tenemos debajo operaciones aritméticas que se han realizado con estas variables, junto a los resultados numéricos que esperamos obtener de estas operaciones:"
      ]
    },
    {
      "cell_type": "code",
      "execution_count": null,
      "metadata": {
        "id": "sB02LZp4C3PZ"
      },
      "outputs": [],
      "source": [
        "var_1 + var_2  # Resultado esperado: 14"
      ]
    },
    {
      "cell_type": "code",
      "execution_count": null,
      "metadata": {
        "id": "bFIMHtc7C3Pa"
      },
      "outputs": [],
      "source": [
        "var_3 - var_2  # Resultado esperado: -4"
      ]
    },
    {
      "cell_type": "code",
      "execution_count": null,
      "metadata": {
        "id": "LyQn4ff7C3Pa"
      },
      "outputs": [],
      "source": [
        "var_3 * var_1  # Resultado esperado: 24"
      ]
    },
    {
      "cell_type": "code",
      "execution_count": null,
      "metadata": {
        "id": "XZ7aMT0bC3Pa"
      },
      "outputs": [],
      "source": [
        "var_5 + var_3  # Resultado esperado: 8"
      ]
    },
    {
      "cell_type": "code",
      "execution_count": null,
      "metadata": {
        "id": "w0exUEkwC3Pa"
      },
      "outputs": [],
      "source": [
        "var_4 / var_5  # Resultado esperado: 4"
      ]
    },
    {
      "cell_type": "markdown",
      "metadata": {
        "id": "w9owGNyXC3Pa"
      },
      "source": [
        "El reto es asignar los números correctos a las variables de arriba de manera que al correr las celdas que contienen operaciones numéricas obtengamos los `Resultados esperados`.\n",
        "\n",
        ">*Tip*: Todos los números son pares"
      ]
    },
    {
      "cell_type": "markdown",
      "metadata": {
        "id": "qxpE8WggC3Pb"
      },
      "source": [
        "<details><summary>Solución</summary>\n",
        "\n",
        "```python\n",
        "var_1 = 4\n",
        "\n",
        "var_2 = 10\n",
        "\n",
        "var_3 = 6\n",
        "\n",
        "var_4 = 8\n",
        "\n",
        "var_5 = 2\n",
        "```\n",
        "    \n",
        "</details>"
      ]
    },
    {
      "cell_type": "code",
      "execution_count": null,
      "metadata": {
        "id": "WnJoDn-yC3Pb"
      },
      "outputs": [],
      "source": []
    }
  ],
  "metadata": {
    "kernelspec": {
      "display_name": "Python (data_science)",
      "language": "python",
      "name": "data_science"
    },
    "language_info": {
      "codemirror_mode": {
        "name": "ipython",
        "version": 3
      },
      "file_extension": ".py",
      "mimetype": "text/x-python",
      "name": "python",
      "nbconvert_exporter": "python",
      "pygments_lexer": "ipython3",
      "version": "3.8.5"
    },
    "colab": {
      "provenance": []
    }
  },
  "nbformat": 4,
  "nbformat_minor": 0
}