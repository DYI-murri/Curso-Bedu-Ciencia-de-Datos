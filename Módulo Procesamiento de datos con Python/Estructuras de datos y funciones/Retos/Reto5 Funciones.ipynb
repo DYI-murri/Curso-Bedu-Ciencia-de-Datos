{
  "cells": [
    {
      "cell_type": "markdown",
      "metadata": {
        "id": "MH5h7nbdycCG"
      },
      "source": [
        "## Reto 5: Funciones\n",
        "\n",
        "### 1. Objetivos:\n",
        "    - Practicar la declaración de funciones\n",
        "    - Practicar la definición de parámetros y su uso dentro de la función\n",
        "    - Practicar el uso de los valores retornados por una función\n",
        "    - Practicar el uso de funciones para evitar la repetición de código\n",
        "\n",
        "---\n",
        "    \n",
        "### 2. Desarrollo:"
      ]
    },
    {
      "cell_type": "markdown",
      "metadata": {
        "id": "Rr8TP5gXycCI"
      },
      "source": [
        "#### a) Función `numero_es_par`\n",
        "\n",
        "Debajo tienes una función incompleta:"
      ]
    },
    {
      "cell_type": "code",
      "execution_count": 18,
      "metadata": {
        "id": "7P3heyq9ycCJ"
      },
      "outputs": [],
      "source": [
        "def numero_es_par(numero):\n",
        "    if numero % 2 == 0:\n",
        "      resultado_esperado = True\n",
        "    else:\n",
        "      resultado_esperado = False\n",
        "    return resultado_esperado"
      ]
    },
    {
      "cell_type": "markdown",
      "metadata": {
        "id": "LmfUTuZDycCK"
      },
      "source": [
        "Dicha función debería de tomar un parámetro `numero`, checar si el número es par, regresar `True` si el número es par y regresar `False` si el número no es par.\n",
        "\n",
        "Completa la función para que el código de abajo (que realiza `tests` de la función) regrese todos los `resultados esperados`.\n",
        "\n",
        "> **Pista**: Si no conoces el operador `módulo` (`%`), pídele al experto que explique su funcionamiento.\n",
        "\n",
        "> **PD**: Si no entiendes la función test_funcion no te preocupes, por el momento sólo está ahí para probar tu código y que sepas si tu función funciona correctamente."
      ]
    },
    {
      "cell_type": "code",
      "execution_count": 19,
      "metadata": {
        "id": "olz2mHTFycCK"
      },
      "outputs": [],
      "source": [
        "def test_funcion(funcion_a_probar, num_de_errores, contador, parametros=[], resultado_esperado=None):\n",
        "    resultado_test = funcion_a_probar(*parametros)\n",
        "    print(f'Test {contador}: Resultado esperado es `{resultado_esperado}`, obtuvimos `{resultado_test}`')\n",
        "    if resultado_test != resultado_esperado:\n",
        "        num_de_errores += 1\n",
        "\n",
        "    return num_de_errores"
      ]
    },
    {
      "cell_type": "code",
      "execution_count": 20,
      "metadata": {
        "id": "J9dT4yTuycCK",
        "colab": {
          "base_uri": "https://localhost:8080/"
        },
        "outputId": "8bd199bb-ce24-4c85-ea4b-176ac93f8df0"
      },
      "outputs": [
        {
          "output_type": "stream",
          "name": "stdout",
          "text": [
            "== Tests numero_es_par==\n",
            "\n",
            "Test 1: Resultado esperado es `True`, obtuvimos `True`\n",
            "Test 2: Resultado esperado es `False`, obtuvimos `False`\n",
            "Test 3: Resultado esperado es `True`, obtuvimos `True`\n",
            "Test 4: Resultado esperado es `False`, obtuvimos `False`\n",
            "Test 5: Resultado esperado es `True`, obtuvimos `True`\n",
            "Test 6: Resultado esperado es `False`, obtuvimos `False`\n",
            "\n",
            "Errores encontrados: 0\n"
          ]
        }
      ],
      "source": [
        "print(\"== Tests numero_es_par==\\n\")\n",
        "\n",
        "contador_de_tests = 0\n",
        "errores = 0\n",
        "\n",
        "contador_de_tests += 1\n",
        "errores = test_funcion(numero_es_par, errores, contador_de_tests, parametros=[2], resultado_esperado=True)\n",
        "contador_de_tests += 1\n",
        "errores = test_funcion(numero_es_par, errores, contador_de_tests, parametros=[3], resultado_esperado=False)\n",
        "contador_de_tests += 1\n",
        "errores = test_funcion(numero_es_par, errores, contador_de_tests, parametros=[0], resultado_esperado=True)\n",
        "contador_de_tests += 1\n",
        "errores = test_funcion(numero_es_par, errores, contador_de_tests, parametros=[127], resultado_esperado=False)\n",
        "contador_de_tests += 1\n",
        "errores = test_funcion(numero_es_par, errores, contador_de_tests, parametros=[-88], resultado_esperado=True)\n",
        "contador_de_tests += 1\n",
        "errores = test_funcion(numero_es_par, errores, contador_de_tests, parametros=[-1349], resultado_esperado=False)\n",
        "\n",
        "print(f'\\nErrores encontrados: {errores}')"
      ]
    },
    {
      "cell_type": "markdown",
      "metadata": {
        "id": "q4OoSy5kycCK"
      },
      "source": [
        "<details><summary>Solución</summary>\n",
        "\n",
        "```python\n",
        "def numero_es_par(numero):\n",
        "    \n",
        "    if numero % 2 == 0:\n",
        "        return True\n",
        "    else:\n",
        "        return False\n",
        "```\n",
        "    \n",
        "</details>"
      ]
    },
    {
      "cell_type": "markdown",
      "metadata": {
        "id": "69Nh3UaCycCL"
      },
      "source": [
        "#### b) Reutilización de código\n",
        "\n",
        "Debajo tenemos algo de código."
      ]
    },
    {
      "cell_type": "code",
      "execution_count": 11,
      "metadata": {
        "id": "D6WHSwgEycCL",
        "colab": {
          "base_uri": "https://localhost:8080/"
        },
        "outputId": "94d1950d-ddf6-4cde-f98e-aa77f94dc904"
      },
      "outputs": [
        {
          "output_type": "stream",
          "name": "stdout",
          "text": [
            "34 es el 34.0% del número 100\n",
            "\n",
            "57 es el 44.881889763779526% del número 127\n",
            "\n",
            "12 es el 5.2631578947368425% del número 228\n",
            "\n",
            "87 es el 96.66666666666667% del número 90\n",
            "\n",
            "1 es el 0.1001001001001001% del número 999\n",
            "\n",
            "66 es el 100.0% del número 66\n",
            "\n"
          ]
        }
      ],
      "source": [
        "resultado_1 = 34 * 100 / 100\n",
        "print(f'34 es el {resultado_1}% del número 100\\n')\n",
        "\n",
        "resultado_2 = 57 * 100 / 127\n",
        "print(f'57 es el {resultado_2}% del número 127\\n')\n",
        "\n",
        "resultado_3 = 12 * 100 / 228\n",
        "print(f'12 es el {resultado_3}% del número 228\\n')\n",
        "\n",
        "resultado_4 = 87 * 100 / 90\n",
        "print(f'87 es el {resultado_4}% del número 90\\n')\n",
        "\n",
        "resultado_5 = 1 * 100 / 999\n",
        "print(f'1 es el {resultado_5}% del número 999\\n')\n",
        "\n",
        "resultado_6 = 66 * 100 / 66\n",
        "print(f'66 es el {resultado_6}% del número 66\\n')"
      ]
    },
    {
      "cell_type": "markdown",
      "metadata": {
        "id": "NqUsWRS8ycCL"
      },
      "source": [
        "Este código funciona correctamente, pero como puedes ver, estamos escribiendo el mismo código una y otra vez. En la celda debajo, escribe una función que realice la operación matemática que estamos realizando arriba, para que podamos reusarla múltiples veces para obtener los resultados que queremos. Llena también los `prints` de manera que podamos leer el resultado en un formato comprensible.\n",
        "\n",
        "> Reto extra: Si quieres un reto extra, escribe también una función que genere las strings que vamos a pasar a los `prints`, para no tener que escribirlas desde 0 cada vez."
      ]
    },
    {
      "cell_type": "code",
      "execution_count": 10,
      "metadata": {
        "id": "Iahi9VpLycCL",
        "colab": {
          "base_uri": "https://localhost:8080/"
        },
        "outputId": "46b83553-caef-4d9c-84f7-1f7e77e49b62"
      },
      "outputs": [
        {
          "output_type": "stream",
          "name": "stdout",
          "text": [
            "Ingrese una lista de números separados por comas: 67,78,28,56\n",
            "Ingrese otra lista de números separados por comas: 1098,3456,5678,2234\n",
            "67 es el 6.10200364298725% del número 1098\n",
            "78 es el 2.2569444444444446% del número 3456\n",
            "28 es el 0.49313138429024306% del número 5678\n",
            "56 es el 2.5067144136078783% del número 2234\n"
          ]
        }
      ],
      "source": [
        "#----------------Funcion de la Operacion Matematica-----------------------------\n",
        "def multiplica_y_divide(numero,divisor):#Recibe como parametros dos numeros\n",
        "  #Operacion que calcula el resultado como el porcentaje de numero respecto al divisor\n",
        "  resultado = numero * 100 / divisor\n",
        "\n",
        "  return resultado\n",
        "\n",
        "\n",
        "#----Reto extra- Imprimir los strings para no hacerlos manualmente-------------\n",
        "\n",
        "# Lee una lista de números desde teclado separados por comas\n",
        "#La primera entrada sera para el parametro numero\n",
        "entrada_usuario = input(\"Ingrese una lista de números separados por comas: \")\n",
        "#La segunda entrada sera para el parametro divisor\n",
        "entrada_usuario2 = input(\"Ingrese otra lista de números separados por comas: \")\n",
        "\n",
        "# Divide la cadena de entrada_usuario en elementos individuales utilizando la coma como separador\n",
        "elementos = entrada_usuario.split(',')\n",
        "elementos2 = entrada_usuario2.split(',')\n",
        "\n",
        "# Convierte cada elemento de la lista 'elementos' a un número entero\n",
        "# utilizando una comprensión de lista. La lista resultante 'lista_numeros'\n",
        "# contiene números enteros equivalentes a los elementos originales.\n",
        "lista_numeros= [int(elemento) for elemento in elementos]\n",
        "lista_divisores = [int(elemento2) for elemento2 in elementos2]\n",
        "\n",
        "\n",
        "def imprimir_resultados(lista_numeros, lista_divisores):\n",
        "    # Validar que las listas tengan el mismo tamaño\n",
        "    if len(lista_numeros) != len(lista_divisores):\n",
        "        raise ValueError(\"Las listas deben tener el mismo tamaño.\")\n",
        "\n",
        "# Itera sobre pares correspondientes de elementos en ambas listas\n",
        "    for numero, divisor in zip(lista_numeros, lista_divisores):\n",
        "      # Aplica la función multiplica_y_divide a cada par de elementos\n",
        "        resultado = multiplica_y_divide(numero, divisor)\n",
        "        # Imprime el resultado en un formato específico\n",
        "        print(f'{numero} es el {resultado}% del número {divisor}')\n",
        "\n",
        "#Llama a la funcion que imprime el resultado\n",
        "imprimir_resultados(lista_numeros, lista_divisores)\n",
        "\n"
      ]
    },
    {
      "cell_type": "markdown",
      "metadata": {
        "id": "mGAFF9KqycCM"
      },
      "source": [
        "<details><summary>Solución</summary>\n",
        "\n",
        "```python\n",
        "def sacar_porcentaje(muestra, total):\n",
        "    return muestra * 100 / total\n",
        "    \n",
        "def crear_string_con_porcentaje_de_muestra_al_total(muestra, total, porcentaje):\n",
        "    return f'{muestra} es el {porcentaje}% del número {total}'\n",
        "```\n",
        "    \n",
        "</details>"
      ]
    },
    {
      "cell_type": "markdown",
      "metadata": {
        "id": "qeeCNeX7ycCM"
      },
      "source": [
        "#### c) Función `acceso_autorizado`\n",
        "\n",
        "Debajo tenemos un conjunto de datos que tiene información de varios usuarios de una plataforma web. Este diccionario relaciona `usernames` con un rol y (a veces) con un nip de acceso:"
      ]
    },
    {
      "cell_type": "code",
      "execution_count": 21,
      "metadata": {
        "id": "43gNyCJIycCM"
      },
      "outputs": [],
      "source": [
        "usuarios = {\n",
        "    \"manolito_garcia\": {\n",
        "        \"rol\": \"admin\"\n",
        "    },\n",
        "    \"sebas_macaco_23\": {\n",
        "        \"rol\": \"editor\",\n",
        "        \"nip_de_acceso\": 3594\n",
        "    },\n",
        "    \"la_susanita_maestra\": {\n",
        "        \"rol\": \"admin\"\n",
        "    },\n",
        "    \"pepe_le_pu_88\": {\n",
        "        \"rol\": \"lector\"\n",
        "    },\n",
        "    \"jonny_bravo_estuvo_aqui\": {\n",
        "        \"rol\": \"editor\",\n",
        "        \"nip_de_acceso\": 9730\n",
        "    },\n",
        "    \"alfonso_torres_69\": {\n",
        "        \"rol\": \"editor\",\n",
        "        \"nip_de_acceso\": 2849\n",
        "    },\n",
        "    \"jocosita_99\": {\n",
        "        \"rol\": \"lector\"\n",
        "    }\n",
        "}"
      ]
    },
    {
      "cell_type": "markdown",
      "metadata": {
        "id": "CSPqpYQAycCM"
      },
      "source": [
        "Nuestra plataforma tiene 3 roles:\n",
        "\n",
        "1. Admin: estos pueden editar información sin necesitar un nip de acceso.\n",
        "2. Editor: pueden editar información sólo si escriben correctamenta su nip de acceso.\n",
        "3. Lector: no pueden editar, sólo ver la información, no necesitan nip de acceso.\n",
        "\n",
        "En la celda debajo, crea una función llamada `nivel_de_acceso_para_username` que reciba 3 parámetros:\n",
        "\n",
        "1. `base_de_datos`: que será siempre nuestro diccionario `usuarios`.\n",
        "2. `username`: El `username` del usuario que está solicitando acceso.\n",
        "3. `nip_de_acceso`: El nip de acceso, que puede ser `None` en el caso de que el usuario no tenga uno (o que haya olvidado escribirlo a la hora de pedir acceso.\n",
        "\n",
        "Con estos 3 parámetros, nuestra función tiene que regresar uno de los códigos de acceso siguientes:\n",
        "\n",
        "- `0`: Acceso denegado (esto sucede si el rol es `editor` y el `nip_de_acceso` es incorrecto).\n",
        "- `1`: Modo edición autorizada (esto sucede si el rol es `admin` o si el rol es `editor` y el `nip_de_acesso` es correcto).\n",
        "- `2`: Modo lectura autorizada (esto sucede si el rol es `lector`).\n",
        "\n",
        "Después, corre los tests para asegurarte de que tu función es correcta.\n",
        "\n",
        "> Tip: Recuerda que puedes \"anidar\" `sentencias if` dentro de otras `sentencias if`.\n",
        "\n",
        "> Reto extra: Agrega un chequeo que regrese `0` si el `username` que recibió tu función no existe en la base de datos."
      ]
    },
    {
      "cell_type": "code",
      "execution_count": 22,
      "metadata": {
        "id": "SbhdZD-kycCM"
      },
      "outputs": [],
      "source": [
        "def nivel_de_acceso_para_username(base_de_datos, username, nip_de_acceso):\n",
        "\n",
        "    if username not in base_de_datos:\n",
        "        return -1  # Usuario no encontrado en la base de datos\n",
        "\n",
        "    rol_usuario = base_de_datos[username][\"rol\"]\n",
        "    nip_usuario = base_de_datos[username].get(\"nip_de_acceso\")\n",
        "\n",
        "    if rol_usuario == \"admin\" or (rol_usuario == \"editor\" and nip_de_acceso == nip_usuario):\n",
        "        return 1  # Modo edición autorizada\n",
        "    elif rol_usuario == \"lector\":\n",
        "        return 2  # Modo lectura autorizada\n",
        "    else:\n",
        "        return 0  # Acceso denegado"
      ]
    },
    {
      "cell_type": "code",
      "execution_count": 23,
      "metadata": {
        "id": "DEWGYw-HycCN",
        "colab": {
          "base_uri": "https://localhost:8080/"
        },
        "outputId": "9cbc9a9d-b9ce-449a-8432-91d6835101a5"
      },
      "outputs": [
        {
          "output_type": "stream",
          "name": "stdout",
          "text": [
            "== Tests nivel_de_acceso_para_username==\n",
            "\n",
            "Test 1: Resultado esperado es `1`, obtuvimos `1`\n",
            "Test 2: Resultado esperado es `1`, obtuvimos `1`\n",
            "Test 3: Resultado esperado es `0`, obtuvimos `0`\n",
            "Test 4: Resultado esperado es `2`, obtuvimos `2`\n",
            "Test 5: Resultado esperado es `0`, obtuvimos `0`\n",
            "\n",
            "Errores encontrados: 0\n"
          ]
        }
      ],
      "source": [
        "print(\"== Tests nivel_de_acceso_para_username==\\n\")\n",
        "\n",
        "contador_de_tests = 0\n",
        "errores = 0\n",
        "\n",
        "contador_de_tests += 1\n",
        "errores = test_funcion(nivel_de_acceso_para_username, errores, contador_de_tests,\n",
        "                       parametros=[usuarios, \"manolito_garcia\", None], resultado_esperado=1)\n",
        "contador_de_tests += 1\n",
        "errores = test_funcion(nivel_de_acceso_para_username, errores, contador_de_tests,\n",
        "                       parametros=[usuarios, \"sebas_macaco_23\", 3594], resultado_esperado=1)\n",
        "contador_de_tests += 1\n",
        "errores = test_funcion(nivel_de_acceso_para_username, errores, contador_de_tests,\n",
        "                       parametros=[usuarios, \"jonny_bravo_estuvo_aqui\", 9999], resultado_esperado=0)\n",
        "contador_de_tests += 1\n",
        "errores = test_funcion(nivel_de_acceso_para_username, errores, contador_de_tests,\n",
        "                       parametros=[usuarios, \"pepe_le_pu_88\", None], resultado_esperado=2)\n",
        "contador_de_tests += 1\n",
        "errores = test_funcion(nivel_de_acceso_para_username, errores, contador_de_tests,\n",
        "                       parametros=[usuarios, \"alfonso_torres_69\", None], resultado_esperado=0)\n",
        "\n",
        "# Corre el siguiente código sólo si decidiste realizar el reto extra\n",
        "#\n",
        "# contador_de_tests += 1\n",
        "# errores = test_funcion(nivel_de_acceso_para_username, errores, contador_de_tests,\n",
        "#                        parametros=[usuarios, \"los_yeah_yeahs_97\", 1345], resultado_esperado=0)\n",
        "\n",
        "print(f'\\nErrores encontrados: {errores}')"
      ]
    },
    {
      "cell_type": "markdown",
      "metadata": {
        "id": "x8Ko_oOsycCN"
      },
      "source": [
        "<details><summary>Solución</summary>\n",
        "\n",
        "```python\n",
        "def nivel_de_acceso_para_username(base_de_datos, username,  nip_de_acceso):\n",
        "    # Reto extra\n",
        "    if username not in base_de_datos:\n",
        "        return 0\n",
        "    \n",
        "    # Reto estandar\n",
        "    if base_de_datos[username][\"rol\"] == \"admin\":\n",
        "        return 1\n",
        "    elif base_de_datos[username][\"rol\"] == \"lector\":\n",
        "        return 2\n",
        "    else:\n",
        "        if base_de_datos[username][\"nip_de_acceso\"] == nip_de_acceso:\n",
        "            return 1\n",
        "        else:\n",
        "            return 0\n",
        "```\n",
        "    \n",
        "</details>"
      ]
    }
  ],
  "metadata": {
    "kernelspec": {
      "display_name": "Python (data_science)",
      "language": "python",
      "name": "data_science"
    },
    "language_info": {
      "codemirror_mode": {
        "name": "ipython",
        "version": 3
      },
      "file_extension": ".py",
      "mimetype": "text/x-python",
      "name": "python",
      "nbconvert_exporter": "python",
      "pygments_lexer": "ipython3",
      "version": "3.8.5"
    },
    "colab": {
      "provenance": []
    }
  },
  "nbformat": 4,
  "nbformat_minor": 0
}