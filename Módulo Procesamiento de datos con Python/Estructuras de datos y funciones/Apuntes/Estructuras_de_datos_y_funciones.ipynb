{
  "nbformat": 4,
  "nbformat_minor": 0,
  "metadata": {
    "colab": {
      "provenance": []
    },
    "kernelspec": {
      "name": "python3",
      "display_name": "Python 3"
    },
    "language_info": {
      "name": "python"
    }
  },
  "cells": [
    {
      "cell_type": "markdown",
      "source": [
        "<center><h2>Prework</h2></center>\n",
        "<hr>\n",
        "\n",
        "<h2>Intro Parcial a Programación Funcional</h2>\n",
        "\n",
        "\n",
        "*   Cuando pensamos en datos solemos pensar en bases de datos, en archivos CSV, en hojas de Excel, y otros. Cada uno de estos tiene su propia estructura de datos. Las computadoras necesitan estas estructuras de datos para organizar los datos de manera eficiente.\n",
        "\n",
        "<h3>Listas</h3>\n",
        "\n",
        "Las listas son colecciones ordenadas de elementos.\n",
        "\n",
        "Para crear una lista, usamos corchetes ([]) y luego colocamos nuestros elementos dentro de los corchetes.\n"
      ],
      "metadata": {
        "id": "EzwvXkNGHPZ6"
      }
    },
    {
      "cell_type": "code",
      "execution_count": null,
      "metadata": {
        "id": "mpp52PeuHLfJ"
      },
      "outputs": [],
      "source": [
        "soy_una_lista_feliz = [3,6,1,4,8,7,2,4,3]"
      ]
    },
    {
      "cell_type": "markdown",
      "source": [
        "Como puedes ver, el orden lo determino yo. Es decir, los números no están ordenados de menor a mayor. Yo decido en qué orden ponerlos y así se quedan.\n",
        "\n",
        "También podemos observar que es posible repetir elementos idénticos en diferentes lugares de la lista. En este caso hicimos una lista de ints, pero, como ya dijimos, podemos tener listas de prácticamente cualquier cosa:"
      ],
      "metadata": {
        "id": "4mNOC6xpJbj-"
      }
    },
    {
      "cell_type": "code",
      "source": [
        "lista_de_floats = [1.4,5.78,2.34,5.21,8.9]\n",
        "\n",
        "lista_de_strings = [\"hola\",\"mundo\",\"me\",\"llamo\",\"Marco.P\"]\n",
        "\n",
        "lista_de_boleanos = [True,False,True,True,False,False]\n",
        "\n",
        "listas_de_listas = [[1,4,3],[6,8,7],[2,4,3],[0,9,8]]"
      ],
      "metadata": {
        "id": "M-IyzDJrJjNK"
      },
      "execution_count": null,
      "outputs": []
    },
    {
      "cell_type": "markdown",
      "source": [
        "En Python se pueden hacer listas con diferentes tipos de datos."
      ],
      "metadata": {
        "id": "m_as5eH1KqVq"
      }
    },
    {
      "cell_type": "code",
      "source": [
        "lista_mixta = [3,True,7.5,[3,5,4],\"Hola\"]"
      ],
      "metadata": {
        "id": "OWxHqRgsK6Y2"
      },
      "execution_count": 1,
      "outputs": []
    },
    {
      "cell_type": "markdown",
      "source": [
        "Aunque en principio es posible, mezclar diferentes tipos de datos en una misma lista es una mala idea. Al hacerlo estamos haciendo más complicado procesar los datos que tenemos en esa lista. Es decir, va en contra de una de las razones principales que tenemos para usar estructuras de datos: la eficiencia. A veces es inevitable, pero debemos evitarlo siempre que sea posible.\n",
        "\n",
        "oda lista tiene un índice ligado a cada elemento que la conforma. Como las listas son ordenadas, el índice empieza con 0 para el primer elemento, y luego va ascendiendo de uno en uno para los elementos subsecuentes. Podemos revisar la lista usando el operador de índice: [] . Lo usamos pasándole el índice del elemento al que quiero acceder:"
      ],
      "metadata": {
        "id": "DnNwQcRxc5z5"
      }
    },
    {
      "cell_type": "code",
      "source": [
        "lista_1 = [4,8,3,6,2]\n",
        "\n",
        "lista_1[0]"
      ],
      "metadata": {
        "colab": {
          "base_uri": "https://localhost:8080/"
        },
        "id": "Z5Pr6o13dA73",
        "outputId": "f1172407-e031-4902-82cc-595fb002b334"
      },
      "execution_count": 2,
      "outputs": [
        {
          "output_type": "execute_result",
          "data": {
            "text/plain": [
              "4"
            ]
          },
          "metadata": {},
          "execution_count": 2
        }
      ]
    },
    {
      "cell_type": "code",
      "source": [
        "print(lista_1[3])\n",
        "\n",
        "print(lista_1[2])"
      ],
      "metadata": {
        "colab": {
          "base_uri": "https://localhost:8080/"
        },
        "id": "kyPMj4ErdTxz",
        "outputId": "66199be3-94f4-407e-8eee-9e25a25c6104"
      },
      "execution_count": 4,
      "outputs": [
        {
          "output_type": "stream",
          "name": "stdout",
          "text": [
            "6\n",
            "3\n"
          ]
        }
      ]
    },
    {
      "cell_type": "markdown",
      "source": [
        "El orden de los elementos se mantiene a menos que algo lo modifique, así que la sentencia lista_1[0] me va a regresar siempre un 4 (el primer elemento de la lista), a menos que la lista sea modificada.\n",
        "\n",
        "Es importante tener cuidado cuando accedemos a índices en una lista. Si pedimos un índice que no está ligado a ningún elemento (porque es un índice mayor al número de elementos que tenemos en la lista), vamos a obtener un error (algo que no es buena idea obtener, como podrán imaginarse):"
      ],
      "metadata": {
        "id": "3WSo5AWEdhEI"
      }
    },
    {
      "cell_type": "markdown",
      "source": [],
      "metadata": {
        "id": "T9NhBftIK3sW"
      }
    },
    {
      "cell_type": "code",
      "source": [
        "lista_1[5]"
      ],
      "metadata": {
        "colab": {
          "base_uri": "https://localhost:8080/",
          "height": 176
        },
        "id": "26sm64cYdiGZ",
        "outputId": "c42af037-f52b-4153-a656-4833f0f75cc7"
      },
      "execution_count": 5,
      "outputs": [
        {
          "output_type": "error",
          "ename": "IndexError",
          "evalue": "ignored",
          "traceback": [
            "\u001b[0;31m---------------------------------------------------------------------------\u001b[0m",
            "\u001b[0;31mIndexError\u001b[0m                                Traceback (most recent call last)",
            "\u001b[0;32m<ipython-input-5-f2e8ba98b710>\u001b[0m in \u001b[0;36m<cell line: 1>\u001b[0;34m()\u001b[0m\n\u001b[0;32m----> 1\u001b[0;31m \u001b[0mlista_1\u001b[0m\u001b[0;34m[\u001b[0m\u001b[0;36m5\u001b[0m\u001b[0;34m]\u001b[0m\u001b[0;34m\u001b[0m\u001b[0;34m\u001b[0m\u001b[0m\n\u001b[0m",
            "\u001b[0;31mIndexError\u001b[0m: list index out of range"
          ]
        }
      ]
    },
    {
      "cell_type": "markdown",
      "source": [
        "<h2>Metodos para agregar datos a una lista</h2>\n",
        "\n",
        "<h3>Append</h3>\n",
        "\n",
        "el método append() sirve para agregar un elemento al final de una lista existente.\n",
        "\n",
        "* Sintaxis: lista.append(elemento)\n",
        "* Argumento: Recibe un único argumento, que es el elemento que se desea añadir a la lista.\n",
        "* Retorno: No retorna ningún valor, sino que modifica la lista original en su lugar.\n",
        "* Tipos de datos: Puede agregar elementos de cualquier tipo de dato (números, cadenas, listas, diccionarios, etc.).\n",
        "\n",
        "\n"
      ],
      "metadata": {
        "id": "WYezV7JIdncF"
      }
    },
    {
      "cell_type": "code",
      "source": [
        "numeros = [1, 2, 3]\n",
        "numeros.append(4)  # Agrega el número 4 al final de la lista\n",
        "print(numeros)  # Salida: [1, 2, 3, 4]"
      ],
      "metadata": {
        "colab": {
          "base_uri": "https://localhost:8080/"
        },
        "id": "9m0XS5CAe-GW",
        "outputId": "cec6fa9e-d5b3-44bf-96f4-02297c5b842d"
      },
      "execution_count": 6,
      "outputs": [
        {
          "output_type": "stream",
          "name": "stdout",
          "text": [
            "[1, 2, 3, 4]\n"
          ]
        }
      ]
    },
    {
      "cell_type": "code",
      "source": [
        "frutas = [\"manzana\", \"banana\"]\n",
        "frutas.append(\"naranja\")  # Agrega la cadena \"naranja\" al final de la lista\n",
        "print(frutas)  # Salida: [\"manzana\", \"banana\", \"naranja\"]"
      ],
      "metadata": {
        "colab": {
          "base_uri": "https://localhost:8080/"
        },
        "id": "kW7VX3VXfB_2",
        "outputId": "5b4d985a-02d1-481f-d05b-9dfb18b9e0a1"
      },
      "execution_count": 7,
      "outputs": [
        {
          "output_type": "stream",
          "name": "stdout",
          "text": [
            "['manzana', 'banana', 'naranja']\n"
          ]
        }
      ]
    },
    {
      "cell_type": "code",
      "source": [
        "lista1 = [1, 2]\n",
        "lista2 = [3, 4]\n",
        "lista1.append(lista2)  # Agrega la lista2 como un único elemento al final de lista1\n",
        "print(lista1)  # Salida: [1, 2, [3, 4]]"
      ],
      "metadata": {
        "colab": {
          "base_uri": "https://localhost:8080/"
        },
        "id": "Xq49SWFtfHyu",
        "outputId": "902f4790-db53-4f8f-c72b-4f11aec8bb75"
      },
      "execution_count": 8,
      "outputs": [
        {
          "output_type": "stream",
          "name": "stdout",
          "text": [
            "[1, 2, [3, 4]]\n"
          ]
        }
      ]
    },
    {
      "cell_type": "markdown",
      "source": [
        "* Modifica la lista original: El método append() modifica la lista original, no crea una nueva lista.\n",
        "* Agrega un solo elemento: Solo agrega un elemento a la vez. Si se quiere agregar varios elementos, se utiliza el método extend().\n",
        "* Acepta cualquier tipo de dato: No tiene restricciones en cuanto al tipo de dato del elemento que se quiere agregar."
      ],
      "metadata": {
        "id": "1Bjg4zV9fN2Q"
      }
    },
    {
      "cell_type": "code",
      "source": [
        "lista_2 = [4,7,6,2,5]\n",
        "\n",
        "lista_2.append(10)\n",
        "\n",
        "lista_2"
      ],
      "metadata": {
        "colab": {
          "base_uri": "https://localhost:8080/"
        },
        "id": "f7IT2L4lfMoR",
        "outputId": "54f4c48f-7274-48dd-a652-f181743ba21b"
      },
      "execution_count": 9,
      "outputs": [
        {
          "output_type": "execute_result",
          "data": {
            "text/plain": [
              "[4, 7, 6, 2, 5, 10]"
            ]
          },
          "metadata": {},
          "execution_count": 9
        }
      ]
    },
    {
      "cell_type": "code",
      "source": [
        "lista_2[5]"
      ],
      "metadata": {
        "colab": {
          "base_uri": "https://localhost:8080/"
        },
        "id": "DsUwrv3_fnn2",
        "outputId": "e8fd22ff-b381-450b-e61b-753f97af73e0"
      },
      "execution_count": 10,
      "outputs": [
        {
          "output_type": "execute_result",
          "data": {
            "text/plain": [
              "10"
            ]
          },
          "metadata": {},
          "execution_count": 10
        }
      ]
    },
    {
      "cell_type": "markdown",
      "source": [
        "<h3>Metodo extend</h3>\n",
        "\n",
        "El método extend() es una función útil en Python para agregar o concatenar elementos al final de una lista existente. A diferencia de append(), que solo agrega un elemento a la vez, extend() puede agregar varios elementos de una sola vez.\n",
        "\n",
        "Características principales:\n",
        "* Sintaxis: lista.extend(iterable)\n",
        "* Argumento: Recibe un único argumento, que debe ser un iterable (un objeto que contiene una secuencia de elementos). Ejemplos de iterables incluyen listas, tuplas, cadenas, conjuntos, etc.\n",
        "* Retorno: No retorna ningún valor, sino que modifica la lista original en su lugar.\n",
        "* Tipos de datos: Puede agregar elementos de cualquier tipo de dato (números, cadenas, listas, diccionarios, etc.)."
      ],
      "metadata": {
        "id": "jjgtPv2Cf0zK"
      }
    },
    {
      "cell_type": "code",
      "source": [
        "lista1 = [1, 2, 3]\n",
        "lista2 = [4, 5, 6]\n",
        "lista1.extend(lista2)  # Agrega todos los elementos de lista2 al final de lista1\n",
        "print(lista1)  # Salida: [1, 2, 3, 4, 5, 6]"
      ],
      "metadata": {
        "colab": {
          "base_uri": "https://localhost:8080/"
        },
        "id": "MLp60OhIgJrd",
        "outputId": "d1167e06-bee8-4169-d0b6-3648a6bc6521"
      },
      "execution_count": 11,
      "outputs": [
        {
          "output_type": "stream",
          "name": "stdout",
          "text": [
            "[1, 2, 3, 4, 5, 6]\n"
          ]
        }
      ]
    },
    {
      "cell_type": "code",
      "source": [
        "lista = [\"a\", \"b\", \"c\"]\n",
        "cadena = \"xyz\"\n",
        "lista.extend(cadena)  # Agrega cada carácter de la cadena como un elemento individual\n",
        "print(lista)  # Salida: ['a', 'b', 'c', 'x', 'y', 'z']"
      ],
      "metadata": {
        "colab": {
          "base_uri": "https://localhost:8080/"
        },
        "id": "NB6LhY6SgTTf",
        "outputId": "2e52957f-c965-4eb7-e865-078db08b411a"
      },
      "execution_count": 12,
      "outputs": [
        {
          "output_type": "stream",
          "name": "stdout",
          "text": [
            "['a', 'b', 'c', 'x', 'y', 'z']\n"
          ]
        }
      ]
    },
    {
      "cell_type": "code",
      "source": [
        "lista = []\n",
        "rango = range(1, 7)\n",
        "lista.extend(rango)  # Agrega todos los números del rango a la lista\n",
        "print(lista)  # Salida: [1, 2, 3, 4, 5, 6]"
      ],
      "metadata": {
        "colab": {
          "base_uri": "https://localhost:8080/"
        },
        "id": "AhgKfubRgV3N",
        "outputId": "b51936e6-9c57-4eed-ba0e-bf8026ce523b"
      },
      "execution_count": 13,
      "outputs": [
        {
          "output_type": "stream",
          "name": "stdout",
          "text": [
            "[1, 2, 3, 4, 5, 6]\n"
          ]
        }
      ]
    },
    {
      "cell_type": "markdown",
      "source": [
        "Aspectos importantes a recordar:\n",
        "* Modifica la lista original: El método extend() modifica la lista original, no crea una nueva lista.\n",
        "* Acepta cualquier iterable: No tiene restricciones en cuanto al tipo de iterable que se puede pasar como argumento.\n",
        "* Puede ser más eficiente: Es más eficiente que agregar elementos individualmente con un bucle for.\n",
        "\n",
        "\n",
        "Comparación con append():\n",
        "* append() agrega un solo elemento al final de la lista, mientras que extend() agrega varios elementos de una sola vez.\n",
        "* append() es más simple de usar para casos sencillos, mientras que extend() es más eficiente para agregar muchos elementos."
      ],
      "metadata": {
        "id": "Ck_CcEYIge1y"
      }
    },
    {
      "cell_type": "markdown",
      "source": [
        "<h2>Método Insert</h2>\n",
        "El método insert es una función útil en Python para agregar un elemento a una lista en una posición específica. Esta opción te permite controlar dónde se inserta el nuevo elemento, a diferencia de append que solo agrega al final.\n",
        "\n",
        "Características principales:\n",
        "* Sintaxis: lista.insert(índice, elemento)\n",
        "Argumentos:\n",
        "* índice: Define la posición en la lista donde se insertará el nuevo elemento. La posición 0 corresponde al primer elemento, 1 al segundo, y así sucesivamente.\n",
        "* elemento: Es el elemento que se va a insertar en la lista.\n",
        "Retorno: No retorna ningún valor, sino que modifica la lista original en su lugar.\n",
        "* Tipos de datos: Puede insertar elementos de cualquier tipo de dato (números, cadenas, listas, diccionarios, etc.)."
      ],
      "metadata": {
        "id": "ajY9_tNjgppa"
      }
    },
    {
      "cell_type": "code",
      "source": [
        "lista = [\"banana\", \"manzana\", \"pera\"]\n",
        "lista.insert(0, \"mango\")  # Inserta \"mango\" al principio de la lista\n",
        "print(lista)  # Salida: [\"mango\", \"banana\", \"manzana\", \"pera\"]"
      ],
      "metadata": {
        "colab": {
          "base_uri": "https://localhost:8080/"
        },
        "id": "wyfRyFovh-n4",
        "outputId": "272948a5-499f-4a7f-89cb-1dd2e0e144e9"
      },
      "execution_count": 14,
      "outputs": [
        {
          "output_type": "stream",
          "name": "stdout",
          "text": [
            "['mango', 'banana', 'manzana', 'pera']\n"
          ]
        }
      ]
    },
    {
      "cell_type": "code",
      "source": [
        "lista = [1, 2, 3, 4, 5]\n",
        "lista.insert(2, \"hola\")  # Inserta la cadena \"hola\" en la posición 2 (entre 2 y 3)\n",
        "print(lista)  # Salida: [1, 2, \"hola\", 3, 4, 5]"
      ],
      "metadata": {
        "colab": {
          "base_uri": "https://localhost:8080/"
        },
        "id": "xx1qqla8iK-N",
        "outputId": "b76c5289-1119-45f5-bbbf-9892179527c1"
      },
      "execution_count": 15,
      "outputs": [
        {
          "output_type": "stream",
          "name": "stdout",
          "text": [
            "[1, 2, 'hola', 3, 4, 5]\n"
          ]
        }
      ]
    },
    {
      "cell_type": "code",
      "source": [
        "lista = [\"rojo\", \"verde\", \"azul\"]\n",
        "lista.insert(len(lista), \"amarillo\")  # Inserta \"amarillo\" al final de la lista\n",
        "print(lista)  # Salida: [\"rojo\", \"verde\", \"azul\", \"amarillo\"]"
      ],
      "metadata": {
        "colab": {
          "base_uri": "https://localhost:8080/"
        },
        "id": "3pt57buziRrO",
        "outputId": "39f301ac-965c-45a5-adbf-bf6835805280"
      },
      "execution_count": 16,
      "outputs": [
        {
          "output_type": "stream",
          "name": "stdout",
          "text": [
            "['rojo', 'verde', 'azul', 'amarillo']\n"
          ]
        }
      ]
    },
    {
      "cell_type": "markdown",
      "source": [
        "Aspectos importantes a recordar:\n",
        "* Modifica la lista original: El método insert modifica la lista original, no crea una nueva lista.\n",
        "* Controla la posición del elemento: Puedes insertar el elemento en cualquier posición de la lista que desees.\n",
        "* Maneja índice fuera de rango: Si el índice especificado está fuera del rango de la lista, se producirá un error.\n",
        "\n",
        "\n",
        "Comparación con append:\n",
        "* append agrega un elemento al final de la lista, mientras que insert te permite agregar un elemento en cualquier posición de la lista.\n",
        "* append es más simple de usar para agregar al final, mientras que insert es más flexible para controlar la posición del nuevo elemento."
      ],
      "metadata": {
        "id": "J1HTy3QSiY6D"
      }
    },
    {
      "cell_type": "markdown",
      "source": [
        "<h2>Metodos de eliminacion de listas</h2>\n",
        "\n",
        "<h3>Metodo pop</h3>\n",
        "El método pop() en Python se utiliza para eliminar un elemento de una lista y devolverlo. El elemento eliminado se devuelve como un valor, por lo que se puede almacenar o utilizar posteriormente.\n",
        "\n",
        "* Sintaxis: lista.pop([índice])\n",
        "\n",
        "\n",
        "Argumentos:\n",
        "* índice: Opcional. Define la posición del elemento que se desea eliminar. Si no se especifica, se eliminará el último elemento de la lista.\n",
        "* Retorno: Devuelve el elemento eliminado.\n",
        "* Tipos de datos: Puede eliminar elementos de cualquier tipo de dato (números, cadenas, listas, diccionarios, etc.).\n",
        "\n"
      ],
      "metadata": {
        "id": "u-GpMcMpijtM"
      }
    },
    {
      "cell_type": "code",
      "source": [
        "lista = [\"a\", \"b\", \"c\"]\n",
        "elemento_eliminado = lista.pop()  # Elimina el último elemento de la lista\n",
        "print(lista)  # Salida: [\"a\", \"b\"]\n",
        "print(elemento_eliminado)  # Salida: \"c\""
      ],
      "metadata": {
        "colab": {
          "base_uri": "https://localhost:8080/"
        },
        "id": "u0ubGadGyefT",
        "outputId": "4794b2ef-a3d7-47e2-e483-47537230664e"
      },
      "execution_count": 17,
      "outputs": [
        {
          "output_type": "stream",
          "name": "stdout",
          "text": [
            "['a', 'b']\n",
            "c\n"
          ]
        }
      ]
    },
    {
      "cell_type": "code",
      "source": [
        "lista = [\"a\", \"b\", \"c\"]\n",
        "elemento_eliminado = lista.pop(1)  # Elimina el elemento en la posición 1\n",
        "print(lista)  # Salida: [\"a\", \"c\"]\n",
        "print(elemento_eliminado)  # Salida: \"b\""
      ],
      "metadata": {
        "colab": {
          "base_uri": "https://localhost:8080/"
        },
        "id": "L4m1v5rbiUBF",
        "outputId": "5c37412e-5324-43c5-ff82-cff62b9b0c90"
      },
      "execution_count": 18,
      "outputs": [
        {
          "output_type": "stream",
          "name": "stdout",
          "text": [
            "['a', 'c']\n",
            "b\n"
          ]
        }
      ]
    },
    {
      "cell_type": "code",
      "source": [
        "estrellas = [\"Woopsie Dopsies\",\"Omega-3\",\"Justin Bieber\",\"La Twinkle\",\"Rosaberta\"]\n",
        "\n",
        "estrellas.pop()\n",
        "\n",
        "estrellas"
      ],
      "metadata": {
        "colab": {
          "base_uri": "https://localhost:8080/"
        },
        "id": "kAnZkdglypPI",
        "outputId": "4de13428-8ba0-4b7f-f3be-e473d69ce8bf"
      },
      "execution_count": 19,
      "outputs": [
        {
          "output_type": "execute_result",
          "data": {
            "text/plain": [
              "['Woopsie Dopsies', 'Omega-3', 'Justin Bieber', 'La Twinkle']"
            ]
          },
          "metadata": {},
          "execution_count": 19
        }
      ]
    },
    {
      "cell_type": "markdown",
      "source": [
        "Podemos pasarle un índice a pop para que remueva el elemento que está en ese índice:"
      ],
      "metadata": {
        "id": "cISg0WfAzPJB"
      }
    },
    {
      "cell_type": "code",
      "source": [
        "estrellas.pop(2)\n",
        "estrellas"
      ],
      "metadata": {
        "colab": {
          "base_uri": "https://localhost:8080/"
        },
        "id": "Np4_k2YczIkd",
        "outputId": "5eb8a765-1187-433c-c00b-bf8d8e3ed5a5"
      },
      "execution_count": 20,
      "outputs": [
        {
          "output_type": "execute_result",
          "data": {
            "text/plain": [
              "['Woopsie Dopsies', 'Omega-3', 'La Twinkle']"
            ]
          },
          "metadata": {},
          "execution_count": 20
        }
      ]
    },
    {
      "cell_type": "code",
      "source": [
        "estrellas[2]"
      ],
      "metadata": {
        "colab": {
          "base_uri": "https://localhost:8080/",
          "height": 35
        },
        "id": "oW3aQEtHzcDw",
        "outputId": "45f34f22-7102-4958-d17e-5232d6df4f15"
      },
      "execution_count": 21,
      "outputs": [
        {
          "output_type": "execute_result",
          "data": {
            "text/plain": [
              "'La Twinkle'"
            ],
            "application/vnd.google.colaboratory.intrinsic+json": {
              "type": "string"
            }
          },
          "metadata": {},
          "execution_count": 21
        }
      ]
    },
    {
      "cell_type": "markdown",
      "source": [
        "Aspectos importantes a recordar:\n",
        "* Modifica la lista original: El método pop() modifica la lista original, no crea una nueva lista.\n",
        "* Devuelve el elemento eliminado: El método pop() devuelve el elemento eliminado como un valor.\n",
        "* Maneja índice fuera de rango: Si el índice especificado está fuera del rango de la lista, se producirá un error.\n",
        "\n",
        "\n",
        "Comparación con del:\n",
        "* pop() devuelve el elemento eliminado, mientras que del simplemente elimina el elemento sin devolverlo.\n",
        "* pop() es más flexible para controlar qué elemento se elimina, mientras que del es más simple de usar para eliminar cualquier elemento."
      ],
      "metadata": {
        "id": "O7oi2UBbze59"
      }
    },
    {
      "cell_type": "markdown",
      "source": [
        "<h3>Metodo DEL</h3>\n",
        "\n",
        "\n",
        "El método del en Python se utiliza para eliminar un elemento de una lista, un diccionario o una tupla.\n",
        "\n",
        "La sintaxis del método del es la siguiente:\n",
        "* del variable[índice]\n",
        "\n",
        "El argumento índice es opcional. Si no se especifica, se eliminará el último elemento de la lista, el diccionario o la tupla."
      ],
      "metadata": {
        "id": "hcUiEhiszqGM"
      }
    },
    {
      "cell_type": "code",
      "source": [
        "lista = [\"a\", \"b\", \"c\"]\n",
        "\n",
        "# Elimina el último elemento de la lista\n",
        "del lista[-1]\n",
        "print(lista)  # Salida: [\"a\", \"b\"]\n",
        "\n",
        "# Elimina el elemento en la posición 1\n",
        "del lista[1]\n",
        "print(lista)  # Salida: [\"a\", \"c\"]\n",
        "\n",
        "# Elimina el elemento \"b\"\n",
        "del lista[0]\n",
        "print(lista)  # Salida: [\"a\", \"c\"]\n",
        "\n",
        "# Elimina la lista entera\n",
        "del lista\n",
        "\n"
      ],
      "metadata": {
        "colab": {
          "base_uri": "https://localhost:8080/"
        },
        "id": "R2y0ORQJ0ZV7",
        "outputId": "a8b04694-e449-4286-cb06-c3279e551de6"
      },
      "execution_count": 25,
      "outputs": [
        {
          "output_type": "stream",
          "name": "stdout",
          "text": [
            "['a', 'b']\n",
            "['a']\n",
            "[]\n"
          ]
        }
      ]
    },
    {
      "cell_type": "markdown",
      "source": [
        "El método del también se puede utilizar para eliminar un elemento de una variable que no es una lista, un diccionario o una tupla. En este caso, el método eliminará la variable por completo."
      ],
      "metadata": {
        "id": "kSMOTv5I0sHs"
      }
    },
    {
      "cell_type": "code",
      "source": [
        "variable = \"Hola\"\n",
        "\n",
        "# Elimina la variable \"variable\"\n",
        "del variable\n",
        "\n"
      ],
      "metadata": {
        "id": "RCsUA9Ca0nlf"
      },
      "execution_count": 27,
      "outputs": []
    },
    {
      "cell_type": "markdown",
      "source": [
        "Es importante tener en cuenta que el método del no devuelve ningún valor."
      ],
      "metadata": {
        "id": "2BspcvCH0xFM"
      }
    },
    {
      "cell_type": "markdown",
      "source": [
        "<h3>Metodo remove</h3>\n",
        "\n",
        "El método remove() se utiliza para eliminar un elemento de una lista en función de su valor.\n",
        "\n",
        "* Sintaxis: lista.remove(valor)\n",
        "* Argumento:\n",
        "valor: El valor del elemento que se desea eliminar.\n",
        "Retorno: No retorna ningún valor.\n",
        "* Tipos de datos: Puede eliminar elementos de cualquier tipo de dato (números, cadenas, listas, diccionarios, etc.)."
      ],
      "metadata": {
        "id": "pPRH8WZl1cnF"
      }
    },
    {
      "cell_type": "code",
      "source": [
        "lista = [\"a\", \"b\", \"c\"]\n",
        "\n",
        "# Elimina el elemento \"c\" de la lista\n",
        "lista.remove(\"c\")\n",
        "print(lista)  # Salida: [\"a\", \"b\"]\n",
        "\n",
        "# Si el elemento no se encuentra en la lista, se producirá un error\n",
        "try:\n",
        "    lista.remove(\"d\")\n",
        "except ValueError:\n",
        "    print(\"El elemento 'd' no se encuentra en la lista\")\n"
      ],
      "metadata": {
        "colab": {
          "base_uri": "https://localhost:8080/"
        },
        "id": "q7LO_6F6128-",
        "outputId": "3f193ef5-8e00-49dd-e1ee-3e6a6101c540"
      },
      "execution_count": 28,
      "outputs": [
        {
          "output_type": "stream",
          "name": "stdout",
          "text": [
            "['a', 'b']\n",
            "El elemento 'd' no se encuentra en la lista\n"
          ]
        }
      ]
    },
    {
      "cell_type": "code",
      "source": [
        "lista = [1, 2, 3, 2, 1, 4]\n",
        "\n",
        "# Elimina todos los elementos duplicados de la lista\n",
        "for elemento in lista:\n",
        "    while lista.count(elemento) > 1:\n",
        "        lista.remove(elemento)\n",
        "\n",
        "print(lista)  # Salida: [1, 2, 3, 4]\n"
      ],
      "metadata": {
        "colab": {
          "base_uri": "https://localhost:8080/"
        },
        "id": "ANXfBc1v141q",
        "outputId": "18dfe613-3fe8-4f0d-8268-3fe25be6387a"
      },
      "execution_count": 29,
      "outputs": [
        {
          "output_type": "stream",
          "name": "stdout",
          "text": [
            "[3, 2, 1, 4]\n"
          ]
        }
      ]
    },
    {
      "cell_type": "markdown",
      "source": [
        "Aspectos importantes a recordar:\n",
        "* Elimina la primera aparición del valor: Si el valor se encuentra varias veces en la lista, solo se eliminará la primera aparición.\n",
        "* Maneja errores: Si el valor no se encuentra en la lista, se producirá un error del tipo ValueError.\n",
        "* Modifica la lista original: El método remove() modifica la lista original, no crea una nueva lista.\n",
        "\n",
        "\n",
        "Comparación con del:\n",
        "* remove() elimina un elemento en función de su valor, mientras que del elimina un elemento en función de su índice.\n",
        "* remove() es más fácil de usar si se conoce el valor del elemento que se desea eliminar, mientras que del es más flexible si se conoce la posición del elemento.\n",
        "\n",
        "\n",
        "Comparación con pop():\n",
        "* remove() elimina la primera aparición del valor, mientras que pop() elimina el elemento en la posición especificada o el último elemento de la lista.\n",
        "* remove() es más rápido para eliminar elementos en función de su valor, mientras que pop() es más rápido para eliminar elementos en una posición específica."
      ],
      "metadata": {
        "id": "psx8kwfY19Z4"
      }
    },
    {
      "cell_type": "markdown",
      "source": [
        "<h3>Metodo clear</h3>\n",
        "\n",
        "El método clear() se utiliza para eliminar todos los elementos de una lista.\n",
        "* Sintaxis: lista.clear()\n",
        "* Argumentos: No tiene argumentos.\n",
        "* Retorno: No retorna ningún valor.\n",
        "* Modifica la lista original: Sí, modifica la lista original en su lugar."
      ],
      "metadata": {
        "id": "IPTJnnuq2aiy"
      }
    },
    {
      "cell_type": "code",
      "source": [
        "lista = [\"a\", \"b\", \"c\"]\n",
        "\n",
        "lista.clear()\n",
        "print(lista)  # Salida: []\n"
      ],
      "metadata": {
        "colab": {
          "base_uri": "https://localhost:8080/"
        },
        "id": "Z5q4NmFN2tpQ",
        "outputId": "368ee8ee-dd92-4680-d34e-65015aed0ad0"
      },
      "execution_count": 30,
      "outputs": [
        {
          "output_type": "stream",
          "name": "stdout",
          "text": [
            "[]\n"
          ]
        }
      ]
    },
    {
      "cell_type": "code",
      "source": [
        "lista = [\"a\", \"b\", \"c\"]\n",
        "\n",
        "# Vaciar la lista\n",
        "lista.clear()\n",
        "\n",
        "# Agregar nuevos elementos\n",
        "lista.append(\"d\")\n",
        "lista.append(\"e\")\n",
        "\n",
        "print(lista)  # Salida: [\"d\", \"e\"]\n"
      ],
      "metadata": {
        "colab": {
          "base_uri": "https://localhost:8080/"
        },
        "id": "vna1vkkH2xg7",
        "outputId": "9f055562-c5ea-4ade-bcdd-74fb4e1874b1"
      },
      "execution_count": 31,
      "outputs": [
        {
          "output_type": "stream",
          "name": "stdout",
          "text": [
            "['d', 'e']\n"
          ]
        }
      ]
    },
    {
      "cell_type": "markdown",
      "source": [
        "Aspectos importantes a recordar:\n",
        "* Elimina todos los elementos: El método clear() elimina todos los elementos de la lista, sin importar su valor o posición.\n",
        "* Modifica la lista original: El método clear() modifica la lista original, no crea una nueva lista vacía.\n",
        "\n",
        "\n",
        "Comparación con del:\n",
        "* clear() es más rápido y eficiente para eliminar todos los elementos de una lista, mientras que del requiere eliminar cada elemento individualmente.\n",
        "* clear() es más simple de usar para vaciar una lista por completo, mientras que del puede ser más útil para eliminar elementos específicos.\n",
        "\n",
        "Comparación con pop():\n",
        "* clear() elimina todos los elementos de una sola vez, mientras que pop() elimina un elemento a la vez.\n",
        "* clear() es más eficiente para vaciar una lista, mientras que pop() es más útil para eliminar elementos individualmente."
      ],
      "metadata": {
        "id": "0LUu6W4W22Uf"
      }
    },
    {
      "cell_type": "markdown",
      "source": [
        "<h2>Diccionario</h2>\n",
        "\n",
        "Los diccionarios se parecen bastante a los diccionarios léxicos. En un diccionario léxico, tienes pares de palabra-significado. si quieres saber el significado de una palabra, vas y buscas la palabra. Esa palabra está ligada a su significado. Por lo tanto, los diccionarios están organizados por pares. De igual manera, los diccionarios en Python están organizados en pares \"llave-valor\". Cada llave tiene un valor asignado y para acceder al valor basta con pedir la llave. Una diferencia importante con los diccionarios léxicos es que los diccionarios en Python no están ordenados. Esto en realidad no importa demasiado, ya que buscar valores en un diccionario de Python es mucho más fácil y eficiente que en un diccionario léxico."
      ],
      "metadata": {
        "id": "hbbedqRf3FB1"
      }
    },
    {
      "cell_type": "code",
      "source": [
        "diccionario = {\n",
        "    \"llave 1\": 1,\n",
        "    \"llave 2\": 2,\n",
        "    \"llave 3\":3\n",
        "}"
      ],
      "metadata": {
        "id": "0F9SMj2F4DLr"
      },
      "execution_count": 32,
      "outputs": []
    },
    {
      "cell_type": "markdown",
      "source": [
        "para crear diccionarios usamos llaves {} en vez de corchetes. Después, escribimos el nombre de una llave y su respectivo valor separados por dos puntos (:). Cada par llave-valor está separado de los demás por comas. En este caso las llaves son strings, pero también podrían ser números:"
      ],
      "metadata": {
        "id": "5lcZ0dGj4dAL"
      }
    },
    {
      "cell_type": "code",
      "source": [
        "diccionario_numerico = {\n",
        "    1 : \"uno\",\n",
        "    2 : \"dos\",\n",
        "    3 : \"tres\",\n",
        "    4 : \"cuatro\",\n",
        "    5 : \"cinco\"\n",
        "}"
      ],
      "metadata": {
        "id": "JpcJq1-G4eGL"
      },
      "execution_count": 33,
      "outputs": []
    },
    {
      "cell_type": "markdown",
      "source": [
        "Ahora, cómo accedemos a los valores que hemos guardado en nuestro diccionario. Es simple: usamos corchetes como con las listas, pero en vez de pasar un índice, pasamos el nombre de la llave:"
      ],
      "metadata": {
        "id": "HaSgx2HY44cI"
      }
    },
    {
      "cell_type": "code",
      "source": [
        "nombre_a_profesion = {\n",
        "    \"Marco.P\" : \"Fontanero\",\n",
        "    \"Jenny\" : \"Bailarina de tap\",\n",
        "    \"Chaveta Xtreme\" : \"Inventor de tennis deportivos\",\n",
        "    \"Justin Bieber\" : \"Estrella celeste\"\n",
        "}\n",
        "\n",
        "nombre_a_profesion[\"Jenny\"]"
      ],
      "metadata": {
        "colab": {
          "base_uri": "https://localhost:8080/",
          "height": 35
        },
        "id": "tzPJ5ep345nh",
        "outputId": "24c0b6a3-bca9-4387-c338-92e94ffa9b45"
      },
      "execution_count": 34,
      "outputs": [
        {
          "output_type": "execute_result",
          "data": {
            "text/plain": [
              "'Bailarina de tap'"
            ],
            "application/vnd.google.colaboratory.intrinsic+json": {
              "type": "string"
            }
          },
          "metadata": {},
          "execution_count": 34
        }
      ]
    },
    {
      "cell_type": "markdown",
      "source": [
        "<h2>Agregar datos</h2>\n",
        "\n",
        "Agregar datos a nuestros diccionarios es bastante sencillo. Para agregar un dato, se realiza una asignación como ésta:"
      ],
      "metadata": {
        "id": "9QSUzHsP5x84"
      }
    },
    {
      "cell_type": "code",
      "source": [
        "nombre_a_profesion[\"Pepe Juan\"] = \"Analista de datos\"\n",
        "\n",
        "nombre_a_profesion[\"Pepe Juan\"]"
      ],
      "metadata": {
        "colab": {
          "base_uri": "https://localhost:8080/",
          "height": 35
        },
        "id": "m_zQNNnX53GJ",
        "outputId": "f07ec89e-442f-4c5a-8eb7-762d5c1cccb6"
      },
      "execution_count": 35,
      "outputs": [
        {
          "output_type": "execute_result",
          "data": {
            "text/plain": [
              "'Analista de datos'"
            ],
            "application/vnd.google.colaboratory.intrinsic+json": {
              "type": "string"
            }
          },
          "metadata": {},
          "execution_count": 35
        }
      ]
    },
    {
      "cell_type": "markdown",
      "source": [
        "Como ves, \"selecciono\" la llave que aún no existe y simplemente le paso el valor que le quiero asignar. Como se ve en la imagen, esa llave ahora existe en mi diccionario y puedo acceder a ella."
      ],
      "metadata": {
        "id": "F2XjARyZ6WAH"
      }
    },
    {
      "cell_type": "markdown",
      "source": [
        "<h2>Modificar datos</h2>\n",
        "\n",
        "También puedo modificar datos que ya se encuentran en mi diccionario. Para hacer esto, simplemente vuelvo a asignar el nuevo valor a la llave que quiero modificar. Por ejemplo, digamos que Jenny acaba de cambiar de profesión. Podemos actualizar nuestro diccionario de la siguiente manera:"
      ],
      "metadata": {
        "id": "9-KVIkAV6aiu"
      }
    },
    {
      "cell_type": "code",
      "source": [
        "nombre_a_profesion[\"Jenny\"] =\"Coach de equipo de Futbol femenil\"\n",
        "\n",
        "nombre_a_profesion['Jenny']"
      ],
      "metadata": {
        "colab": {
          "base_uri": "https://localhost:8080/",
          "height": 35
        },
        "id": "VelGfp9O6W32",
        "outputId": "90ef3f55-67e8-4f2c-be03-507750efe70b"
      },
      "execution_count": 36,
      "outputs": [
        {
          "output_type": "execute_result",
          "data": {
            "text/plain": [
              "'Coach de equipo de Futbol femenil'"
            ],
            "application/vnd.google.colaboratory.intrinsic+json": {
              "type": "string"
            }
          },
          "metadata": {},
          "execution_count": 36
        }
      ]
    },
    {
      "cell_type": "markdown",
      "source": [
        "Los valores de los diccionarios también pueden ser listas u otros diccionarios (¡Inception!). Por ejemplo, mira esto:"
      ],
      "metadata": {
        "id": "AL11b5jF62Dp"
      }
    },
    {
      "cell_type": "code",
      "source": [
        "datos_compras = {\n",
        "    \"nombre\" : \"alberto suares\",\n",
        "    \"productos comprados\" : [\"TV\",\"Chromebook\",\"VGA-USB-C\"],\n",
        "    \"direccion de facturacion\" : {\n",
        "        \"colonia\": \"Escandon\",\n",
        "        \"calle\": \"Mutualismo\",\n",
        "        \"Numero\" : 44,\n",
        "        \"cp\": 11800\n",
        "\n",
        "    }\n",
        "}"
      ],
      "metadata": {
        "id": "RDO54iyK63I3"
      },
      "execution_count": 37,
      "outputs": []
    },
    {
      "cell_type": "markdown",
      "source": [
        "En un caso como éste, también es posible modificar la lista y el diccionario que hay dentro. Es tan simple como pedir el valor y luego modificar ese valor (la lista o diccionario) con las técnicas que ya conocemos:"
      ],
      "metadata": {
        "id": "SciNzWhB7-Ar"
      }
    },
    {
      "cell_type": "code",
      "source": [
        "datos_compras['productos comprados'].append(\"Ipad nano\")\n",
        "datos_compras['direccion de facturacion'][\"numero\"] = 55\n",
        "print(datos_compras)"
      ],
      "metadata": {
        "colab": {
          "base_uri": "https://localhost:8080/"
        },
        "id": "7FNZ39gC8Ao8",
        "outputId": "6bda63bc-484a-45ca-d018-65a78cfae000"
      },
      "execution_count": 40,
      "outputs": [
        {
          "output_type": "stream",
          "name": "stdout",
          "text": [
            "{'nombre': 'alberto suares', 'productos comprados': ['TV', 'Chromebook', 'VGA-USB-C', 'Ipad nano', 'Ipad nano', 'Ipad nano'], 'direccion de facturacion': {'colonia': 'Escandon', 'calle': 'Mutualismo', 'Numero': 44, 'cp': 11800, 'numero': 55}}\n"
          ]
        }
      ]
    },
    {
      "cell_type": "markdown",
      "source": [
        "<h2>Eliminar datos</h2>\n",
        "\n",
        "Para finalizar nuestra exploración de diccionarios aprenderemos a eliminar datos de un diccionario. Esto puede realizarse usando el método pop (¡sí, se llama igual al método pop de las listas!). A diferencia del método de listas, este pop recibe el nombre de la llave que queremos eliminar. Una vez llamado este método, nuestra llave deja de estar en nuestro diccionario"
      ],
      "metadata": {
        "id": "bFGDuUKG8isD"
      }
    },
    {
      "cell_type": "code",
      "source": [
        "nombre_a_profesion.pop(\"Justin Bieber\")\n",
        "nombre_a_profesion"
      ],
      "metadata": {
        "colab": {
          "base_uri": "https://localhost:8080/"
        },
        "id": "_dooZ9Jw8pVy",
        "outputId": "cedb2628-b8b8-4675-f0f2-2ce9b66a43b6"
      },
      "execution_count": 41,
      "outputs": [
        {
          "output_type": "execute_result",
          "data": {
            "text/plain": [
              "{'Marco.P': 'Fontanero',\n",
              " 'Jenny': 'Coach de equipo de Futbol femenil',\n",
              " 'Chaveta Xtreme': 'Inventor de tennis deportivos',\n",
              " 'Pepe Juan': 'Analista de datos'}"
            ]
          },
          "metadata": {},
          "execution_count": 41
        }
      ]
    },
    {
      "cell_type": "markdown",
      "source": [
        "<h2>Funciones</h2>\n",
        "\n",
        "En Python, una función es un bloque de código que se puede reutilizar en diferentes partes del programa. Las funciones se definen utilizando la palabra clave def.\n",
        "Imaginemos que tenemos un código como éste (bueno, no hace falta imaginarlo, podemos escribirlo en nuestro JN):"
      ],
      "metadata": {
        "id": "deOpWzhw9DCu"
      }
    },
    {
      "cell_type": "code",
      "source": [
        "total_de_alumnos = 360883\n",
        "alumnos_en_posgrado = 30634\n",
        "alumnos_en_licenciatura = 217808\n",
        "alumnos_en_bachillerato = 111569\n",
        "alumnos_en_prope_de_musica = 872"
      ],
      "metadata": {
        "id": "JxtYNSmgE4Av"
      },
      "execution_count": 42,
      "outputs": []
    },
    {
      "cell_type": "markdown",
      "source": [
        "Queremos saber el porcentaje del total de alumnos que estudian en cada uno de los distintos niveles. Un primer acercamiento podría ser éste:"
      ],
      "metadata": {
        "id": "uH7wLr5aFwP4"
      }
    },
    {
      "cell_type": "code",
      "source": [
        "alumnos_en_posgrado_porc = alumnos_en_posgrado * 100 / total_de_alumnos\n",
        "alumnos_en_licenciatura_porc = alumnos_en_licenciatura * 100 / total_de_alumnos\n",
        "alumnos_en_bachillerato_porc = alumnos_en_bachillerato * 100 / total_de_alumnos\n",
        "alumnos_en_prope_de_musica_porc = alumnos_en_prope_de_musica * 100 / total_de_alumnos"
      ],
      "metadata": {
        "id": "3wRS6OE_F04j"
      },
      "execution_count": 43,
      "outputs": []
    },
    {
      "cell_type": "markdown",
      "source": [
        "No se ve tan mal, ¿verdad? Pues en realidad hay un problema más o menos grave: estamos repitiendo mucho código. Esa operación matemática para sacar el porcentaje, la regla de tres, ¡es exactamente igual siempre y la estamos escribiendo cuatro veces!\n",
        "\n",
        "Si quiero sacar el porcentaje de otra estadística, tendría que volver a escribir la regla de tres. ¿Qué solución tengo? Crear una especie de \"contenedor\" donde tenga la lógica de mi operación, para que pueda repetir el proceso varias veces sin tener que volver a escribirlo. Justamente para eso sirven las funciones."
      ],
      "metadata": {
        "id": "uFU_6KqcG2tN"
      }
    },
    {
      "cell_type": "markdown",
      "source": [
        "<h3>Sintaxis</h3>\n",
        "\n",
        "Para declarar una función empezamos con la palabra def:\n",
        "\n",
        "Después, elegimos un nombre para nuestra función (por favor nota que los nombres de las funciones también se escriben usando camel_case y siguen las mismas convenciones que los nombres de las variables):\n",
        "\n",
        "Después agregamos paréntesis:\n",
        "\n",
        "Ahora, dentro de los paréntesis agregamos los nombres de los parámetros. Estos parámetros son datos que la función requiere para funcionar correctamente (podemos pensarlos como los \"ingredientes\" de nuestro proceso):\n",
        "\n",
        "Ahora agregamos dos puntos:\n",
        "\n",
        "Después, pasamos a la siguiente línea y agregamos una indentación. Así como en las sentencias if, la indentación indica qué código es parte del bloque de la función. Una vez que escribimos una línea no indentada, estamos de nuevo fuera del bloque de la función:\n",
        "\n",
        "Ahora tenemos que escribir el proceso que queremos que esté contenido dentro de esta función para poderlo repetir fácilmente a través de nuestro programa:\n",
        "\n",
        "Si observas bien, estoy usando el parámetro que definí en la primera línea. Este \"ingrediente\" de mi función se lo voy a pasar yo cada vez que llame la función. Dentro de la función se puede usar como si fuera una variable que toma el valor del dato que le paso cada vez que llamo la función. El resultado de mi suma (numero + 2) lo estoy guardando en una variable llamada suma.\n",
        "\n",
        "Ahora, si eso fuera todo, no podría acceder a ese resultado fuera de mi función. Para poder acceder al resultado, necesito regresar el resultado. Esto se hace usando la palabra return:"
      ],
      "metadata": {
        "id": "_I7xzD5QG8Z-"
      }
    },
    {
      "cell_type": "code",
      "source": [
        "def sumar_dos_a_numero(numero):\n",
        "  suma = numero + 2\n",
        "\n",
        "  return suma"
      ],
      "metadata": {
        "id": "wJEZX5ToG36i"
      },
      "execution_count": 45,
      "outputs": []
    },
    {
      "cell_type": "markdown",
      "source": [
        "Usando la palabra return mi función regresa el resultado de su proceso para que pueda ser utilizado en otras partes de mi programa.\n",
        "\n",
        "Vamos a utilizar esta función:"
      ],
      "metadata": {
        "id": "4yomyb5DHzZi"
      }
    },
    {
      "cell_type": "code",
      "source": [
        "suma_de_5_mas_2 = sumar_dos_a_numero(5)\n",
        "\n",
        "suma_de_5_mas_2"
      ],
      "metadata": {
        "colab": {
          "base_uri": "https://localhost:8080/"
        },
        "id": "WhctkXUNH2jE",
        "outputId": "b5c8538e-fd19-4fa5-eda4-9b7f24e1f12e"
      },
      "execution_count": 46,
      "outputs": [
        {
          "output_type": "execute_result",
          "data": {
            "text/plain": [
              "7"
            ]
          },
          "metadata": {},
          "execution_count": 46
        }
      ]
    },
    {
      "cell_type": "markdown",
      "source": [
        "Tengo una variable llamada suma_de_5_mas_2. A esta variable voy a asignarle el resultado de llamar mi función sumar_dos_a_numero con un 5 como argumento (se llaman parámetros dentro de la función pero argumentos a la hora de pasarlos... es confuso, lo sé). Dicho de otra manera: Llamo mi función sumar_dos_a_numero; le paso un 5 para que le sume 2; regreso el resultado de esa suma (7) y asigno ese resultado a una variable llamada suma_de_5_mas_2 que después puedo usar para lo que quiera (en este caso solamente estoy checando qué hay dentro de ella).\n",
        "\n",
        "Lo interesante comienza cuando reutilizamos la función pasándole distintos argumentos:"
      ],
      "metadata": {
        "id": "XMVt7j-uIbhU"
      }
    },
    {
      "cell_type": "code",
      "source": [
        "print(sumar_dos_a_numero(3))\n",
        "print(sumar_dos_a_numero(10))\n",
        "print(sumar_dos_a_numero(222))\n",
        "print(sumar_dos_a_numero(1036))"
      ],
      "metadata": {
        "colab": {
          "base_uri": "https://localhost:8080/"
        },
        "id": "Lj-5t0I0Ic8g",
        "outputId": "5c1047d4-8242-426a-abb4-c94cf63e8718"
      },
      "execution_count": 47,
      "outputs": [
        {
          "output_type": "stream",
          "name": "stdout",
          "text": [
            "5\n",
            "12\n",
            "224\n",
            "1038\n"
          ]
        }
      ]
    },
    {
      "cell_type": "markdown",
      "source": [
        "En este caso estoy imprimiendo los resultados de las llamadas a sumar_dos_a_numero sin asignarlos antes a una variable."
      ],
      "metadata": {
        "id": "D8qa8UWfIzXX"
      }
    },
    {
      "cell_type": "markdown",
      "source": [
        "<h3>Función para cuantificar porcentajes</h3>\n",
        "\n",
        "Regresemos entonces a nuestro problema original: calcular los porcentajes del total de alumnos de la UNAM que estudian en cada nivel.\n",
        "\n",
        "Vamos a construir una función que realice esta operación:"
      ],
      "metadata": {
        "id": "McY-gPQZI427"
      }
    },
    {
      "cell_type": "code",
      "source": [
        "def calcular_prcentaje(muestra,total):\n",
        "  porcentaje = muestra*100/total\n",
        "  return porcentaje"
      ],
      "metadata": {
        "id": "LPxNUtDXIyg0"
      },
      "execution_count": 48,
      "outputs": []
    },
    {
      "cell_type": "markdown",
      "source": [
        "Estoy declarando esta función con dos parámetros: muestra y total, muestra es el subconjunto del total que quiero expresar en porcentajes, total es el total de la población de mi conjunto de datos. Puedo declarar funciones con un número indeterminado de parámetros, cuantos sea que necesite, pero en general se recomienda mantener el número de parámetros a lo mínimo necesario. Entre menos parámetros, mejor."
      ],
      "metadata": {
        "id": "rQC3GNqHJZd8"
      }
    },
    {
      "cell_type": "code",
      "source": [
        "alumnos_en_posgrado_porc = calcular_prcentaje(alumnos_en_posgrado,total_de_alumnos)\n",
        "alumnos_en_licenciatura_porc = calcular_prcentaje(alumnos_en_licenciatura,total_de_alumnos)\n",
        "alumnos_en_bachillerato_porc = calcular_prcentaje(alumnos_en_bachillerato,total_de_alumnos)\n",
        "alumnos_en_prope_de_musica_porc = calcular_prcentaje(alumnos_en_prope_de_musica,total_de_alumnos)"
      ],
      "metadata": {
        "id": "KA6U5iLsJcg9"
      },
      "execution_count": 49,
      "outputs": []
    },
    {
      "cell_type": "markdown",
      "source": [
        "En este caso pareciera que no estamos ahorrando tanto trabajo, ¿no? La cantidad de código que estamos escribiendo es prácticamente la misma. Pero imagina que el proceso de sacar porcentajes fuera mucho más largo y complicado.\n",
        "\n",
        "En ese caso tendría mucho más sentido. Además, tenemos otras ventajas que voy a enumerar a continuación.\n",
        "\n",
        "Otras ventajas de las funciones además de la reutilización de código:\n",
        "\n",
        "* Nuestra función tiene un nombre (calcular porcentaje). Por lo tanto, si alguien está leyendo nuestro código y no sabe que la operación para obtener el porcentaje es muestra * 100 / total, puede enterarse de ello a través del nombre de nuestra función. Es algo muy bueno hacer nuestro código lo más comprensible posible, ¡nunca sabemos quién más va a tener que leerlo y entenderlo además de nosotros!\n",
        "* En caso de que descubramos una operación más eficiente para calcular el porcentaje (en este caso es muy poco probable que suceda, pero puede suceder fácilmente con funciones más complejas), lo único que tenemos que hacer es ir a nuestra función y cambiar el código que hay dentro. *  Automáticamente, el resto de nuestro código que está utilizando esta función va a utilizar la función optimizada. Si no hubiéramos escrito una función, tendríamos que buscar todos los lugares donde realizamos esa operación para cambiarlos. Una regla de oro en la programación es: ¡Nunca repitas código! A la hora de corregir errores u optimizar tu código, vas a agradecer no repetir código.\n",
        "* En general es una buena idea pensar en nuestros programas modularmente. Esto significa pensarlo en los procesos más simples posibles y esos procesos encapsularlos en funciones (u otras estructuras). Separar nuestro código en \"cachitos\" va a hacerlo mucho más fácil de entender, corregir y aumentar."
      ],
      "metadata": {
        "id": "3Hnyf3A6KV0a"
      }
    },
    {
      "cell_type": "markdown",
      "source": [
        "<h3>Contexto de las variables</h3>\n",
        "\n",
        "Para terminar este Prework, vamos a hablar de algo llamado contexto en Python. contexto se refiere al área en tu código donde cada variable puede ser accesada. No todas las variables en tu código pueden ser accesadas desde cualquier lugar."
      ],
      "metadata": {
        "id": "fIzFbS46Knwl"
      }
    },
    {
      "cell_type": "code",
      "source": [
        "variable_global = \"Global\""
      ],
      "metadata": {
        "id": "bbeb5pYkKs1Z"
      },
      "execution_count": 50,
      "outputs": []
    },
    {
      "cell_type": "markdown",
      "source": [
        "Tenemos una variable llamada variable_global. Esta variable fue asignada en lo que se llama el contexto global. Podemos saber que es el contexto global porque no hay ni un solo nivel de indentación antes del nombre de la variable. Al estar en el contexto global, esta variable puede ser accedida desde cualquier lugar, en la misma celda en la que fue asignada o en alguna otra celda distinta:"
      ],
      "metadata": {
        "id": "Ndm59mnwK3ps"
      }
    },
    {
      "cell_type": "code",
      "source": [
        "variable_global"
      ],
      "metadata": {
        "colab": {
          "base_uri": "https://localhost:8080/",
          "height": 35
        },
        "id": "AvBmdDRYK5Wk",
        "outputId": "406840f4-5ffc-47ba-f4ee-9ee5749af8ac"
      },
      "execution_count": 51,
      "outputs": [
        {
          "output_type": "execute_result",
          "data": {
            "text/plain": [
              "'Global'"
            ],
            "application/vnd.google.colaboratory.intrinsic+json": {
              "type": "string"
            }
          },
          "metadata": {},
          "execution_count": 51
        }
      ]
    },
    {
      "cell_type": "markdown",
      "source": [
        "Vemos ahora qué pasa con una variable declarada dentro de una sentencia if:"
      ],
      "metadata": {
        "id": "P5TK79Y-K-Nv"
      }
    },
    {
      "cell_type": "code",
      "source": [
        "status = \"OK\"\n",
        "\n",
        "if status == \"OK\":\n",
        "  respuesta = \"El proceso fue llevado con exito\"\n",
        "\n",
        "respuesta"
      ],
      "metadata": {
        "colab": {
          "base_uri": "https://localhost:8080/",
          "height": 35
        },
        "id": "xm8VDMrEK_BD",
        "outputId": "ad3be079-8f9f-4a11-8ccd-a1b99efd8832"
      },
      "execution_count": 52,
      "outputs": [
        {
          "output_type": "execute_result",
          "data": {
            "text/plain": [
              "'El proceso fue llevado con exito'"
            ],
            "application/vnd.google.colaboratory.intrinsic+json": {
              "type": "string"
            }
          },
          "metadata": {},
          "execution_count": 52
        }
      ]
    },
    {
      "cell_type": "markdown",
      "source": [
        "Como puedes ver, podemos acceder a la variable respuesta desde cualquier lugar. Eso quiere decir que en Python una sentencia if no cambia el contexto actual. Seguimos estando en el contexto desde el cual se declaró la sentencia if. Como esta sentencia se declaró en el contexto global, las variables que asignemos dentro del bloque de la sentencia seguirán teniendo contexto global.\n",
        "\n",
        "Pero veamos ahora qué pasa con las variables declaradas dentro de una función:"
      ],
      "metadata": {
        "id": "YsFp2GQBLggq"
      }
    },
    {
      "cell_type": "code",
      "source": [
        "def sumar_dos_a_numero(numero):\n",
        "  suma = numero + 2\n",
        "\n",
        "  return suma"
      ],
      "metadata": {
        "id": "zWjZ42-sMLeO"
      },
      "execution_count": 55,
      "outputs": []
    },
    {
      "cell_type": "code",
      "source": [
        "print(numero)"
      ],
      "metadata": {
        "colab": {
          "base_uri": "https://localhost:8080/",
          "height": 176
        },
        "id": "Y-NKdqTJLhbT",
        "outputId": "0f018e2c-a662-4649-ef27-39a19600587d"
      },
      "execution_count": 56,
      "outputs": [
        {
          "output_type": "error",
          "ename": "NameError",
          "evalue": "ignored",
          "traceback": [
            "\u001b[0;31m---------------------------------------------------------------------------\u001b[0m",
            "\u001b[0;31mNameError\u001b[0m                                 Traceback (most recent call last)",
            "\u001b[0;32m<ipython-input-56-3b4537653337>\u001b[0m in \u001b[0;36m<cell line: 1>\u001b[0;34m()\u001b[0m\n\u001b[0;32m----> 1\u001b[0;31m \u001b[0mprint\u001b[0m\u001b[0;34m(\u001b[0m\u001b[0mnumero\u001b[0m\u001b[0;34m)\u001b[0m\u001b[0;34m\u001b[0m\u001b[0;34m\u001b[0m\u001b[0m\n\u001b[0m",
            "\u001b[0;31mNameError\u001b[0m: name 'numero' is not defined"
          ]
        }
      ]
    },
    {
      "cell_type": "markdown",
      "source": [
        "Lo que está pasando es que las funciones en Python sí cambian el contexto de las variables que \"viven\" dentro de la función.\n",
        "\n",
        "Todas las variables que viven dentro de la función, tanto parámetros como variables asignadas, sólo pueden ser accedidas desde dentro de la función. Su contexto dejó de ser global y se convierte en el contexto de la función que las contiene.\n",
        "\n",
        "La única manera de acceder a los datos que hemos generado dentro de la función es a través del return:"
      ],
      "metadata": {
        "id": "8KQC4ij0MaWz"
      }
    },
    {
      "cell_type": "code",
      "source": [
        "valor_retornado_por_la_funcion = sumar_dos_a_numero(20)\n",
        "valor_retornado_por_la_funcion"
      ],
      "metadata": {
        "colab": {
          "base_uri": "https://localhost:8080/"
        },
        "id": "e-YNFO5QMben",
        "outputId": "c4e2f450-1a2d-41fb-ad5a-6c9aa62a0cac"
      },
      "execution_count": 57,
      "outputs": [
        {
          "output_type": "execute_result",
          "data": {
            "text/plain": [
              "22"
            ]
          },
          "metadata": {},
          "execution_count": 57
        }
      ]
    },
    {
      "cell_type": "markdown",
      "source": [
        "Los valores regresados en el return, \"traspasan\" contextos. Son como viajeros intergalácticos que pasan de una dimensión a otra a través de un hoyo negro."
      ],
      "metadata": {
        "id": "aszooVYbMvOM"
      }
    }
  ]
}