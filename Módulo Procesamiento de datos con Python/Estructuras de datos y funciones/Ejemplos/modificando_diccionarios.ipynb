{
  "cells": [
    {
      "cell_type": "markdown",
      "metadata": {
        "id": "TjgMCH0MOJjg"
      },
      "source": [
        "## Ejemplo 4: Modificando diccionarios\n",
        "\n",
        "### 1. Objetivos:\n",
        "    - Practicar los 3 métodos básicos de modificación de diccionarios: agregar datos, modificar datos y borrar llaves.\n",
        "\n",
        "---\n",
        "    \n",
        "### 2. Desarrollo:"
      ]
    },
    {
      "cell_type": "markdown",
      "metadata": {
        "id": "2nCc1g30OJjk"
      },
      "source": [
        "Tenemos 3 maneras básicas de modificar nuestros diccionarios:"
      ]
    },
    {
      "cell_type": "markdown",
      "metadata": {
        "id": "XdXodLEsOJjk"
      },
      "source": [
        "#### Agregar datos\n",
        "\n",
        "Para agregar un dato a un diccionario ya existente, basta con \"llamar\" la llave que queremos agregar y asignarle un valor:"
      ]
    },
    {
      "cell_type": "code",
      "execution_count": null,
      "metadata": {
        "id": "iIbM1oIZOJjl"
      },
      "outputs": [],
      "source": [
        "from pprint import pprint"
      ]
    },
    {
      "cell_type": "code",
      "execution_count": null,
      "metadata": {
        "id": "hyjEyvpPOJjl",
        "outputId": "cb5876f2-a9e4-4402-9d5a-4ebb452cabbf"
      },
      "outputs": [
        {
          "name": "stdout",
          "output_type": "stream",
          "text": [
            "{'dir': {'calle': 'Pilares',\n",
            "         'colonia': 'Del Valle Centro',\n",
            "         'cp': '03100',\n",
            "         'num': 69},\n",
            " 'nombre': 'Isabel',\n",
            " 'tel': 5546352431}\n"
          ]
        }
      ],
      "source": [
        "info_de_contacto = {\n",
        "    \"nombre\": \"Isabel\",\n",
        "    \"tel\": 5546352431,\n",
        "    \"dir\": {\n",
        "        \"colonia\": \"Del Valle Centro\",\n",
        "        \"calle\": \"Pilares\",\n",
        "        \"num\": 69,\n",
        "        \"cp\": \"03100\"\n",
        "    }\n",
        "}\n",
        "\n",
        "pprint(info_de_contacto)"
      ]
    },
    {
      "cell_type": "code",
      "execution_count": null,
      "metadata": {
        "id": "fuNH8xD6OJjm",
        "outputId": "695c6d70-56fa-4c2c-9701-8f62f7cb7fb3"
      },
      "outputs": [
        {
          "name": "stdout",
          "output_type": "stream",
          "text": [
            "{'dir': {'calle': 'Pilares',\n",
            "         'colonia': 'Del Valle Centro',\n",
            "         'cp': '03100',\n",
            "         'num': 69},\n",
            " 'email': 'isabel.arriaga@gmail.com',\n",
            " 'nombre': 'Isabel',\n",
            " 'tel': 5546352431}\n"
          ]
        }
      ],
      "source": [
        "info_de_contacto[\"email\"] = \"isabel.arriaga@gmail.com\"\n",
        "\n",
        "pprint(info_de_contacto)"
      ]
    },
    {
      "cell_type": "markdown",
      "metadata": {
        "id": "KLgrNczlOJjm"
      },
      "source": [
        "#### Modificar pares llave-valor existentes\n",
        "\n",
        "Para modificar un par llave-valor ya existente, basta con reasignar a una llave de nuestro diccionario el nuevo valor que queremos agregar. Por ejemplo, imaginemos que esta persona cambió de dirección:"
      ]
    },
    {
      "cell_type": "code",
      "execution_count": null,
      "metadata": {
        "id": "x4tHzfFROJjn",
        "outputId": "e4780492-7f12-4b4b-e327-69626e91dc9a"
      },
      "outputs": [
        {
          "name": "stdout",
          "output_type": "stream",
          "text": [
            "{'dir': {'calle': 'Progreso', 'colonia': 'Escandón', 'cp': '11800', 'num': 189},\n",
            " 'email': 'isabel.arriaga@gmail.com',\n",
            " 'nombre': 'Isabel',\n",
            " 'tel': 5546352431}\n"
          ]
        }
      ],
      "source": [
        "info_de_contacto[\"dir\"] = {\n",
        "        \"colonia\": \"Escandón\",\n",
        "        \"calle\": \"Progreso\",\n",
        "        \"num\": 189,\n",
        "        \"cp\": \"11800\"\n",
        "    }\n",
        "\n",
        "pprint(info_de_contacto)"
      ]
    },
    {
      "cell_type": "markdown",
      "metadata": {
        "id": "oZoeBel2OJjn"
      },
      "source": [
        "Podemos incluso modificar estructuras de datos dentro de nuestro diccionario. Por ejemplo, ¿qué tal si hubo un error al agregar la nueva dirección y ahora tenemos que cambiar solamente el número de residencia:"
      ]
    },
    {
      "cell_type": "code",
      "execution_count": null,
      "metadata": {
        "id": "nF1LCEsEOJjn",
        "outputId": "909d07ed-2b4a-40a8-cc7b-6479a7e33758"
      },
      "outputs": [
        {
          "name": "stdout",
          "output_type": "stream",
          "text": [
            "{'dir': {'calle': 'Progreso', 'colonia': 'Escandón', 'cp': '11800', 'num': 289},\n",
            " 'email': 'isabel.arriaga@gmail.com',\n",
            " 'nombre': 'Isabel',\n",
            " 'tel': 5546352431}\n"
          ]
        }
      ],
      "source": [
        "info_de_contacto[\"dir\"][\"num\"] = 289\n",
        "\n",
        "pprint(info_de_contacto)"
      ]
    },
    {
      "cell_type": "markdown",
      "metadata": {
        "id": "xAHYl5Y2OJjn"
      },
      "source": [
        "#### Eliminando datos\n",
        "\n",
        "Para eliminar datos, se puede usar el método `pop`. Como bien recordarás, el nombre de este método es idéntico al método para eliminar elementos de una lista. La diferencia es que el método `pop` de las listas recibe índices como argumentos, el método `pop` de diccionarios recibe llaves como argumentos:"
      ]
    },
    {
      "cell_type": "code",
      "execution_count": null,
      "metadata": {
        "id": "U-JDzdd6OJjo",
        "outputId": "721701c0-fa01-4a0b-cc23-bfa0d4669b41"
      },
      "outputs": [
        {
          "name": "stdout",
          "output_type": "stream",
          "text": [
            "{'dir': {'calle': 'Progreso', 'colonia': 'Escandón', 'cp': '11800', 'num': 289},\n",
            " 'email': 'isabel.arriaga@gmail.com',\n",
            " 'nombre': 'Isabel'}\n"
          ]
        }
      ],
      "source": [
        "info_de_contacto.pop(\"tel\")\n",
        "\n",
        "pprint(info_de_contacto)"
      ]
    },
    {
      "cell_type": "markdown",
      "metadata": {
        "id": "h7f87SsmOJjo"
      },
      "source": [
        "---\n",
        "\n",
        "Vayamos ahora a nuestro cuarto Reto para practicar estas herramientas a profundidad."
      ]
    },
    {
      "cell_type": "code",
      "execution_count": null,
      "metadata": {
        "id": "F7d1ojVkOJjo"
      },
      "outputs": [],
      "source": []
    }
  ],
  "metadata": {
    "kernelspec": {
      "display_name": "Python (data_science)",
      "language": "python",
      "name": "data_science"
    },
    "language_info": {
      "codemirror_mode": {
        "name": "ipython",
        "version": 3
      },
      "file_extension": ".py",
      "mimetype": "text/x-python",
      "name": "python",
      "nbconvert_exporter": "python",
      "pygments_lexer": "ipython3",
      "version": "3.8.5"
    },
    "colab": {
      "provenance": []
    }
  },
  "nbformat": 4,
  "nbformat_minor": 0
}