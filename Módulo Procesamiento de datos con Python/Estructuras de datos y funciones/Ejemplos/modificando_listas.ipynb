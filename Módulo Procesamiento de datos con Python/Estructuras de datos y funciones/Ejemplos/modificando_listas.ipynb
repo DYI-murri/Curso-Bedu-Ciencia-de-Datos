{
  "cells": [
    {
      "cell_type": "markdown",
      "metadata": {
        "id": "ry9sk0VcN1dx"
      },
      "source": [
        "## Ejemplo 2: Modificando listas\n",
        "\n",
        "### 1. Objetivos:\n",
        "    - Conocer los 2 métodos básicos que tenemos para modificar listas\n",
        "\n",
        "---\n",
        "    \n",
        "### 2. Desarrollo:"
      ]
    },
    {
      "cell_type": "markdown",
      "metadata": {
        "id": "hkb3SJuhN1d0"
      },
      "source": [
        "#### Append\n",
        "\n",
        "`append` agrega un elemento al final de la lista:"
      ]
    },
    {
      "cell_type": "code",
      "execution_count": null,
      "metadata": {
        "id": "lWWcu6jON1d0",
        "outputId": "e4234e5e-c823-40d3-847e-cd358a94c843"
      },
      "outputs": [
        {
          "data": {
            "text/plain": [
              "[1, 2, 3, 4, 5, 6, 7]"
            ]
          },
          "execution_count": 1,
          "metadata": {},
          "output_type": "execute_result"
        }
      ],
      "source": [
        "lista_1 = [1, 2, 3, 4, 5, 6]\n",
        "\n",
        "lista_1.append(7)\n",
        "\n",
        "lista_1"
      ]
    },
    {
      "cell_type": "markdown",
      "metadata": {
        "id": "EFJpkvAUN1d2"
      },
      "source": [
        "#### Pop\n",
        "\n",
        "`pop` remueve el último elemento de la lista si lo llamamos sin argumentos. Si le pasamos un índice, remueve el elemento que se encuentre almacenado en ese índice:"
      ]
    },
    {
      "cell_type": "code",
      "execution_count": null,
      "metadata": {
        "id": "DRfpIFIWN1d2",
        "outputId": "b85ae27e-982b-46da-e111-8a7602482d9e"
      },
      "outputs": [
        {
          "data": {
            "text/plain": [
              "[1, 2, 3, 4, 5]"
            ]
          },
          "execution_count": 2,
          "metadata": {},
          "output_type": "execute_result"
        }
      ],
      "source": [
        "lista_2 = [1, 2, 3, 4, 5, 6]\n",
        "\n",
        "lista_2.pop()\n",
        "\n",
        "lista_2"
      ]
    },
    {
      "cell_type": "code",
      "execution_count": null,
      "metadata": {
        "id": "tBLYMoI5N1d2",
        "outputId": "ba3441fd-24b8-4684-80d9-203f19128135"
      },
      "outputs": [
        {
          "data": {
            "text/plain": [
              "[1, 3, 4, 5]"
            ]
          },
          "execution_count": 3,
          "metadata": {},
          "output_type": "execute_result"
        }
      ],
      "source": [
        "lista_2.pop(1)\n",
        "\n",
        "lista_2"
      ]
    },
    {
      "cell_type": "markdown",
      "metadata": {
        "id": "AHlYIKtKN1d2"
      },
      "source": [
        "---\n",
        "\n",
        "¡Practiquemos ahora con un segundo reto!"
      ]
    }
  ],
  "metadata": {
    "kernelspec": {
      "display_name": "Python (data_science)",
      "language": "python",
      "name": "data_science"
    },
    "language_info": {
      "codemirror_mode": {
        "name": "ipython",
        "version": 3
      },
      "file_extension": ".py",
      "mimetype": "text/x-python",
      "name": "python",
      "nbconvert_exporter": "python",
      "pygments_lexer": "ipython3",
      "version": "3.8.5"
    },
    "colab": {
      "provenance": []
    }
  },
  "nbformat": 4,
  "nbformat_minor": 0
}