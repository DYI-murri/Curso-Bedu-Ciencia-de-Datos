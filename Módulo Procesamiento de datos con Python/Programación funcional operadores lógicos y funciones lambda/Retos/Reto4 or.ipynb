{
  "cells": [
    {
      "cell_type": "markdown",
      "metadata": {
        "id": "AY7piBN18KEi"
      },
      "source": [
        "## Reto 4: Or\n",
        "\n",
        "### 1. Objetivos:\n",
        "    - Practicar el operador `or` y usarlo para realizar filtros más complejos\n",
        "\n",
        "---\n",
        "    \n",
        "### 2. Desarrollo:"
      ]
    },
    {
      "cell_type": "markdown",
      "metadata": {
        "id": "MU-rZF-K8KEm"
      },
      "source": [
        "#### a) Filtrando palabras\n",
        "\n",
        "Eres el organizador del Concurso Nacional de Deletreo \"Salvador Novo\". Por una bella coincidencia, este año el día del concurso cae justo el mismo día que el Día del Orgullo LGBT. Dado que Salvador Novo era homosexual, te parece muy apropiado que el concurso de deletreo funcione como una celebración de su \"belicosa homosexualidad\" (como la llamaba Carlos Monsiváis). Se te ocurre hacer lo siguiente:\n",
        "\n",
        "De la lista de palabras que tenías originalmente para el concurso, vas a filtrar las palabras para que sólo tengas palabras que empiecen con \"l\" **o** o con \"g\" **o** con \"b\" **o** con \"t\".\n",
        "\n",
        "Aquí está tu lista original de palabras:"
      ]
    },
    {
      "cell_type": "code",
      "execution_count": 1,
      "metadata": {
        "id": "7lZZP0YF8KEm"
      },
      "outputs": [],
      "source": [
        "palabras = ['cabildo', 'genocidio', 'severo', 'jarana', 'enigmático', 'jaguar', 'solidaridad', 'reivindicar', 'bálsamo', 'panteón',\n",
        "            'cabestrillo', 'boicotear', 'letargo', 'jaqueca', 'tentáculo', 'legislar', 'gnomo', 'blasfemia', 'camposanto',\n",
        "            'factible', 'eficaz', 'sintonía', 'lloriquear', 'fachada', 'edificante', 'pétalo', 'libélula', 'pavimento', 'llovizna',\n",
        "            'racimo', 'gargantilla', 'relieve', 'bóveda', 'tecnicismo', 'terraplén', 'basílica']"
      ]
    },
    {
      "cell_type": "markdown",
      "metadata": {
        "id": "6YQ9d-UO8KEo"
      },
      "source": [
        "1. Escribe 4 funciones, para cada una de las letras del acrónimo LGBT. Las funciones van a regresar `True` sólo si la palabra comienza con la letra que le corresponde.\n",
        "\n",
        "    Por ejemplo, la función `palabra_comienza_con_l` va a regresar `True` sólo si la palabra comienza con `l`.\n",
        "\n",
        "2. Después, define una función que sea la unión de estas 4 funciones y regrese `True` si la palabra comienza con alguna de las letras del acrónimo LGBT.\n",
        "\n",
        "3. Finalmente filtra la `lista` `palabras` para tener una nueva lista que será la `lista` usada para el concurso.\n",
        "\n",
        "> **Tip #1**: Las `strings` pueden ser accedas igual que las listas, así que si quieres acceder a la primera letra de una palabra basta con usar `palabra[0]`, como si fuera el primer índice de una `lista`.\n",
        "\n",
        "> **Tip #2**: Hasta ahora sólo hemos usando operadores `lógicos` con 1 o 2 comparaciones. Juntar más de dos comparaciones es tan fácil como escribir:\n",
        "\n",
        "```python\n",
        "comparacion_1 or comparacion_2 or comparacion_3 or comparacion_4\n",
        "```"
      ]
    },
    {
      "cell_type": "code",
      "execution_count": 2,
      "metadata": {
        "id": "NZcCugM-8KEo"
      },
      "outputs": [],
      "source": [
        "def palabra_empieza_con_l(palabra):\n",
        "  if palabra[0] == \"l\":\n",
        "    return True\n",
        "  else:\n",
        "    return False"
      ]
    },
    {
      "cell_type": "code",
      "execution_count": 3,
      "metadata": {
        "id": "7R7gGFng8KEo"
      },
      "outputs": [],
      "source": [
        "def palabra_empieza_con_g(palabra):\n",
        "  if palabra[0] == \"g\":\n",
        "    return True\n",
        "  else:\n",
        "    return False"
      ]
    },
    {
      "cell_type": "code",
      "execution_count": 4,
      "metadata": {
        "id": "E_nVnaSd8KEp"
      },
      "outputs": [],
      "source": [
        "def palabra_empieza_con_b(palabra):\n",
        "  if palabra[0] == \"b\":\n",
        "    return True\n",
        "  else:\n",
        "    return False"
      ]
    },
    {
      "cell_type": "code",
      "execution_count": 5,
      "metadata": {
        "id": "hZqGEoob8KEp"
      },
      "outputs": [],
      "source": [
        "def palabra_empieza_con_t(palabra):\n",
        "  if palabra[0] == \"t\":\n",
        "    return True\n",
        "  else:\n",
        "    return False"
      ]
    },
    {
      "cell_type": "code",
      "execution_count": 6,
      "metadata": {
        "id": "X07UyNES8KEq"
      },
      "outputs": [],
      "source": [
        "def filtrado_de_palabras_con_lgbt(palabra):\n",
        "  if palabra_empieza_con_l(palabra) or palabra_empieza_con_g(palabra) or palabra_empieza_con_b(palabra) or palabra_empieza_con_t(palabra):\n",
        "    return True\n",
        "  else:\n",
        "    return False"
      ]
    },
    {
      "cell_type": "code",
      "execution_count": 7,
      "metadata": {
        "id": "T0CGFX9W8KEq",
        "colab": {
          "base_uri": "https://localhost:8080/"
        },
        "outputId": "9f369728-f882-427c-cf2a-74bff5a261a8"
      },
      "outputs": [
        {
          "output_type": "stream",
          "name": "stdout",
          "text": [
            "['genocidio', 'bálsamo', 'boicotear', 'letargo', 'tentáculo', 'legislar', 'gnomo', 'blasfemia', 'lloriquear', 'libélula', 'llovizna', 'gargantilla', 'bóveda', 'tecnicismo', 'terraplén', 'basílica']\n"
          ]
        }
      ],
      "source": [
        "palabras_filtradas =list(filter(filtrado_de_palabras_con_lgbt,palabras))\n",
        "print(palabras_filtradas)"
      ]
    },
    {
      "cell_type": "code",
      "execution_count": 8,
      "metadata": {
        "id": "vnn7ji0l8KEr",
        "colab": {
          "base_uri": "https://localhost:8080/"
        },
        "outputId": "afa5f3e6-7451-426d-8634-119bfcb41f7a"
      },
      "outputs": [
        {
          "output_type": "stream",
          "name": "stdout",
          "text": [
            "==Concurso Nacional de Deletreo \"Salvador Novo\"==\n",
            "\n",
            "Lista oficial de palabras: ['genocidio', 'bálsamo', 'boicotear', 'letargo', 'tentáculo', 'legislar', 'gnomo', 'blasfemia', 'lloriquear', 'libélula', 'llovizna', 'gargantilla', 'bóveda', 'tecnicismo', 'terraplén', 'basílica']\n"
          ]
        }
      ],
      "source": [
        "print(f'==Concurso Nacional de Deletreo \"Salvador Novo\"==\\n')\n",
        "print(f'Lista oficial de palabras: {palabras_filtradas}')"
      ]
    },
    {
      "cell_type": "markdown",
      "metadata": {
        "id": "qtH0wrdv8KEr"
      },
      "source": [
        "<details><summary>Solución</summary>\n",
        "\n",
        "```python\n",
        "def palabra_comienza_con_l(palabra):\n",
        "    return palabra[0] == \"l\"\n",
        "    \n",
        "def palabra_comienza_con_g(palabra):\n",
        "    return palabra[0] == \"g\"\n",
        "    \n",
        "def palabra_comienza_con_b(palabra):\n",
        "    return palabra[0] == \"b\"\n",
        "    \n",
        "def palabra_comienza_con_t(palabra):\n",
        "    return palabra[0] == \"t\"\n",
        "\n",
        "def palabra_comienza_con_lgbt(palabra):\n",
        "    return palabra_comienza_con_l(palabra) or palabra_comienza_con_g(palabra) or\\\n",
        "           palabra_comienza_con_b(palabra) or palabra_comienza_con_t(palabra)\n",
        "    \n",
        "palabras_filtradas = list(filter(palabra_comienza_con_lgbt, palabras))\n",
        "```\n",
        "    \n",
        "</details>"
      ]
    }
  ],
  "metadata": {
    "kernelspec": {
      "display_name": "Python (data_science)",
      "language": "python",
      "name": "data_science"
    },
    "language_info": {
      "codemirror_mode": {
        "name": "ipython",
        "version": 3
      },
      "file_extension": ".py",
      "mimetype": "text/x-python",
      "name": "python",
      "nbconvert_exporter": "python",
      "pygments_lexer": "ipython3",
      "version": "3.8.5"
    },
    "colab": {
      "provenance": []
    }
  },
  "nbformat": 4,
  "nbformat_minor": 0
}