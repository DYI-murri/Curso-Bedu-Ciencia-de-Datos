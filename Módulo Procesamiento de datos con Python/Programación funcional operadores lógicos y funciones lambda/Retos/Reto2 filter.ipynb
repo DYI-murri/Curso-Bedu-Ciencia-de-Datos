{
  "cells": [
    {
      "cell_type": "markdown",
      "metadata": {
        "id": "wfcbwr-Osp97"
      },
      "source": [
        "## Reto 2: Filter\n",
        "\n",
        "### 1. Objetivos:\n",
        "    - Practicar el uso de `filter` para filtrar los datos en una `lista`\n",
        "\n",
        "---\n",
        "    \n",
        "### 2. Desarrollo:"
      ]
    },
    {
      "cell_type": "markdown",
      "metadata": {
        "id": "NoH5dInxsp-H"
      },
      "source": [
        "#### a) Limpiando datos nulos\n",
        "\n",
        "Debajo tenemos una `lista` que incluye datos acerca de las edades de las personas que han atendido a un curso de Cocina Medieval (ya sabes: puerco al horno, manzanas asadas, aguardiente, sangre fresca de tus enemigos). Algunas de las personas que atendieron no quisieron dar su edad. Es por eso que algunos de los elementos son `None`:"
      ]
    },
    {
      "cell_type": "code",
      "execution_count": 12,
      "metadata": {
        "id": "8ft0EpKgsp-J"
      },
      "outputs": [],
      "source": [
        "edades = [12, 16, 19, None, 21, 25, 24, None, None, 16, 17, 25, 23, 28, None, 23, 35, 59, 67, None, 34, 21, 23, 15, 14, None, 18, 24, 23, 17]"
      ]
    },
    {
      "cell_type": "markdown",
      "metadata": {
        "id": "HoSDqqo3sp-M"
      },
      "source": [
        "Queremos realizar una pequeña visualización (un histograma, que ya aprenderás a hacer más tarde) con nuestros datos. Pero no nos interesan los datos que vienen como `None`. Escribe una función llamada `valor_no_es_none` que reciba un valor, cheque si el valor es `None`, regrese `False` si el valor es `None` o regrese `True` si el valor **no** es `None`. Después úsala para filtrar tus datos:"
      ]
    },
    {
      "cell_type": "code",
      "execution_count": 13,
      "metadata": {
        "id": "1s2lV6eZsp-O"
      },
      "outputs": [],
      "source": [
        "def valor_no_es_none(valores):\n",
        "  if valores == None:\n",
        "    return False\n",
        "  else:\n",
        "    return True"
      ]
    },
    {
      "cell_type": "code",
      "execution_count": 14,
      "metadata": {
        "id": "KOsy03bPsp-P",
        "colab": {
          "base_uri": "https://localhost:8080/"
        },
        "outputId": "4ef0569d-436d-4be0-c238-4b6546eceabd"
      },
      "outputs": [
        {
          "output_type": "stream",
          "name": "stdout",
          "text": [
            "[12, 16, 19, 21, 25, 24, 16, 17, 25, 23, 28, 23, 35, 59, 67, 34, 21, 23, 15, 14, 18, 24, 23, 17]\n"
          ]
        }
      ],
      "source": [
        "edades_filtradas =list(filter(valor_no_es_none,edades))\n",
        "print(edades_filtradas)"
      ]
    },
    {
      "cell_type": "markdown",
      "metadata": {
        "id": "wo68_LAUsp-R"
      },
      "source": [
        "Pídele a tu experta la función de verificación `crear_histograma_con` (encontrada en el archivo `helpers.py` de la carpeta donde se encuentra este Reto), pégala debajo y corre la celda para verificar tu resultado:"
      ]
    },
    {
      "cell_type": "code",
      "execution_count": 6,
      "metadata": {
        "id": "ZtCJZ11Ysp-S",
        "colab": {
          "base_uri": "https://localhost:8080/",
          "height": 430
        },
        "outputId": "a66a1608-ea42-4118-9193-84abe7beae5f"
      },
      "outputs": [
        {
          "output_type": "display_data",
          "data": {
            "text/plain": [
              "<Figure size 640x480 with 1 Axes>"
            ],
            "image/png": "[encoded data removed]"
          },
          "metadata": {}
        }
      ],
      "source": [
        "def crear_histograma_con(datos):\n",
        "    import seaborn as sns\n",
        "    import numpy as np\n",
        "\n",
        "    sns.histplot(datos, kde=False, bins=len(np.unique(datos)))\n",
        "\n",
        "crear_histograma_con(edades_filtradas)"
      ]
    },
    {
      "cell_type": "markdown",
      "metadata": {
        "id": "o_Zb-Tg4sp-T"
      },
      "source": [
        "<details><summary>Solución</summary>\n",
        "\n",
        "```python\n",
        "def valor_no_es_none(valor):\n",
        "    \n",
        "    if valor == None:\n",
        "        return False\n",
        "    else:\n",
        "        return True\n",
        "    \n",
        "edades_filtradas = list(filter(valor_no_es_none, edades))\n",
        "```\n",
        "    \n",
        "</details>"
      ]
    },
    {
      "cell_type": "markdown",
      "metadata": {
        "id": "Mgg4nf_Gsp-U"
      },
      "source": [
        "#### b) Filtrando datos atípicos\n",
        "\n",
        "Aquí tenemos una `lista` que contiene datos acerca de los sueldos (cada número representa \"miles de pesos\") de los empleados de EyePoker Inc. (la empresa donde se producen los mejores picadores de ojos en todo el Hemisferio Occidental):"
      ]
    },
    {
      "cell_type": "code",
      "execution_count": 15,
      "metadata": {
        "id": "dYPv4mEIsp-U"
      },
      "outputs": [],
      "source": [
        "sueldos = [26, 32, 26, 30, 30, 32, 28, 30, 28, 110, 34, 30, 28, 26, 28, 30, 28, 85, 25, 30, 34, 34, 30, 30, 120, 28, 28, 120, 125]"
      ]
    },
    {
      "cell_type": "markdown",
      "metadata": {
        "id": "cHPsCiMrsp-V"
      },
      "source": [
        "En general todos los sueldos se encuentran en un rango bastante restringido, pero tenemos algunos datos sobre sueldos \"anormalmente\" grandes. Los sueldos tan grandes son los de los ejecutivos, que claramente no tienen ninguna noción de \"justicia\" (eso pasa cuando tus picadores de ojos son los mejores de todo el Hemisferio Occidental). Nosotros queremos usar el promedio para tener una idea de cuál es el sueldo `típico` en esta empresa. Nuestros valores `atípicos` (los sueldos anormalmente grandes) van a arruinar nuestro cálculo.\n",
        "\n",
        "Mira cuál es el sueldo `típico` si no filtramos nuestros valores anormalmente grandes:"
      ]
    },
    {
      "cell_type": "code",
      "execution_count": 16,
      "metadata": {
        "id": "m9PkrmVysp-W",
        "colab": {
          "base_uri": "https://localhost:8080/"
        },
        "outputId": "d65ed997-655c-4794-c5ea-cfeae150a08f"
      },
      "outputs": [
        {
          "output_type": "stream",
          "name": "stdout",
          "text": [
            "El sueldo \"típico\" en EyePoker Inc. es de 43.62068965517241\n"
          ]
        }
      ],
      "source": [
        "print(f'El sueldo \"típico\" en EyePoker Inc. es de {sum(sueldos) / len(sueldos)}')"
      ]
    },
    {
      "cell_type": "markdown",
      "metadata": {
        "id": "__QhQgLxsp-W"
      },
      "source": [
        "Para corregir esto haz una función llamada `numero_es_menor_que_40` que descarte los números mayores de 40, y úsala para filtrar la lista `sueldos`, para tener un cálculo más apropiado del sueldo `típico` en esta empresa."
      ]
    },
    {
      "cell_type": "code",
      "execution_count": 17,
      "metadata": {
        "id": "_JfqCv8Wsp-W"
      },
      "outputs": [],
      "source": [
        "def numero_es_menor_que_40(numero):\n",
        "  if numero < 40 :\n",
        "    return True\n",
        "  else:\n",
        "    return False"
      ]
    },
    {
      "cell_type": "code",
      "execution_count": 18,
      "metadata": {
        "id": "YdSbLx5asp-X",
        "colab": {
          "base_uri": "https://localhost:8080/"
        },
        "outputId": "e6bf88a2-61a4-45cf-ac96-35001b5f0c61"
      },
      "outputs": [
        {
          "output_type": "stream",
          "name": "stdout",
          "text": [
            "[26, 32, 26, 30, 30, 32, 28, 30, 28, 34, 30, 28, 26, 28, 30, 28, 25, 30, 34, 34, 30, 30, 28, 28]\n"
          ]
        }
      ],
      "source": [
        "sueldos_filtrados =list(filter(numero_es_menor_que_40,sueldos))\n",
        "print(sueldos_filtrados)"
      ]
    },
    {
      "cell_type": "code",
      "execution_count": 11,
      "metadata": {
        "id": "Zd9iApb6sp-X",
        "colab": {
          "base_uri": "https://localhost:8080/"
        },
        "outputId": "031c2a64-44c2-4e47-d3ad-a40657f9d56b"
      },
      "outputs": [
        {
          "output_type": "stream",
          "name": "stdout",
          "text": [
            "El sueldo \"típico\" en EyePoker Inc. es de 29.375\n"
          ]
        }
      ],
      "source": [
        "print(f'El sueldo \"típico\" en EyePoker Inc. es de {sum(sueldos_filtrados) / len(sueldos_filtrados)}')"
      ]
    },
    {
      "cell_type": "markdown",
      "metadata": {
        "id": "fN0KHnuJsp-X"
      },
      "source": [
        "<details><summary>Solución</summary>\n",
        "\n",
        "```python\n",
        "def numero_es_menor_que_40(numero):\n",
        "    \n",
        "    if numero < 40:\n",
        "        return True\n",
        "    else:\n",
        "        return False\n",
        "    \n",
        "sueldos_filtrados = list(filter(numero_es_menor_que_40, sueldos))\n",
        "```\n",
        "    \n",
        "</details>"
      ]
    },
    {
      "cell_type": "code",
      "execution_count": null,
      "metadata": {
        "id": "iS7Wj5DHsp-Y"
      },
      "outputs": [],
      "source": []
    }
  ],
  "metadata": {
    "kernelspec": {
      "display_name": "Python (data_science)",
      "language": "python",
      "name": "data_science"
    },
    "language_info": {
      "codemirror_mode": {
        "name": "ipython",
        "version": 3
      },
      "file_extension": ".py",
      "mimetype": "text/x-python",
      "name": "python",
      "nbconvert_exporter": "python",
      "pygments_lexer": "ipython3",
      "version": "3.8.5"
    },
    "colab": {
      "provenance": []
    }
  },
  "nbformat": 4,
  "nbformat_minor": 0
}