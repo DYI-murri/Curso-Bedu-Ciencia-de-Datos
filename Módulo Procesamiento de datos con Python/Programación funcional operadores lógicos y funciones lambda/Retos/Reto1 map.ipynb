{
  "cells": [
    {
      "cell_type": "markdown",
      "source": [],
      "metadata": {
        "id": "OY71rJA6brC8"
      }
    },
    {
      "cell_type": "code",
      "source": [],
      "metadata": {
        "id": "0k3OUKYWYVtt"
      },
      "execution_count": null,
      "outputs": []
    },
    {
      "cell_type": "markdown",
      "metadata": {
        "id": "BlwTc3SFbZmY"
      },
      "source": [
        "## Reto 1: Map\n",
        "\n",
        "### 1. Objetivos:\n",
        "    - Practicar el uso de `map` para transformar los datos en una `lista`\n",
        "\n",
        "---\n",
        "    \n",
        "### 2. Desarrollo:"
      ]
    },
    {
      "cell_type": "markdown",
      "metadata": {
        "id": "7i1nbXUibZma"
      },
      "source": [
        "#### a) Proporción a porcentajes\n",
        "\n",
        "Tenemos una lista que contiene proporciones:"
      ]
    },
    {
      "cell_type": "code",
      "execution_count": null,
      "metadata": {
        "id": "n09DKznEbZmb"
      },
      "outputs": [],
      "source": [
        "proporciones = [0.45, 0.2, 0.78, 0.4, 0.77, 0.9, 0.4, 0.5, 0.67, 0.24, 0.73]"
      ]
    },
    {
      "cell_type": "markdown",
      "metadata": {
        "id": "1-OiKL8zbZmc"
      },
      "source": [
        "Queremos convertir esta lista en una lista `porcentajes`, donde las proporciones hayan sido convertidas a porcentajes. Termina la función `proporcion_a_porcentajes` y después utiliza `map` para convertir `proporciones` y asignar la lista transformada a `porcentajes`:"
      ]
    },
    {
      "cell_type": "code",
      "execution_count": null,
      "metadata": {
        "id": "chMTyYFYbZmc"
      },
      "outputs": [],
      "source": [
        "def proporcion_a_porcentajes(proporcion):\n",
        "    # Multiplica la proporcion por 100 y formatea el resultado con dos decimales\n",
        "    return \"{:.2f}\".format(proporcion * 100)\n"
      ]
    },
    {
      "cell_type": "code",
      "execution_count": null,
      "metadata": {
        "id": "M_MtNRtPbZmc"
      },
      "outputs": [],
      "source": [
        "# Aplica la función proporcion_a_porcentajes a cada elemento de la lista proporciones\n",
        "# utilizando la función map y luego convierte el resultado a una lista\n",
        "porcentajes = list(map(proporcion_a_porcentajes, proporciones))"
      ]
    },
    {
      "cell_type": "markdown",
      "metadata": {
        "id": "2zLlFbOUbZmc"
      },
      "source": [
        "Corre después la siguiente celda para obtener una representación en `string`. No importa si no entiendes por completo qué está pasando en la siguiente celda. Más adelante en el módulo aprenderemos a hacer esto y más."
      ]
    },
    {
      "cell_type": "code",
      "execution_count": null,
      "metadata": {
        "id": "O2rbvNGDbZmc",
        "colab": {
          "base_uri": "https://localhost:8080/"
        },
        "outputId": "28ced54c-491b-40e5-fa10-0dce76f866c1"
      },
      "outputs": [
        {
          "output_type": "stream",
          "name": "stdout",
          "text": [
            "0.45 en equivalencia a 45.00\n",
            "0.2 en equivalencia a 20.00\n",
            "0.78 en equivalencia a 78.00\n",
            "0.4 en equivalencia a 40.00\n",
            "0.77 en equivalencia a 77.00\n",
            "0.9 en equivalencia a 90.00\n",
            "0.4 en equivalencia a 40.00\n",
            "0.5 en equivalencia a 50.00\n",
            "0.67 en equivalencia a 67.00\n",
            "0.24 en equivalencia a 24.00\n",
            "0.73 en equivalencia a 73.00\n"
          ]
        }
      ],
      "source": [
        "def imprimir_proporciones_en_equivalencia_a_porcentajes(proporciones, porcentajes):\n",
        "    # Iterar simultáneamente sobre ambas listas usando zip\n",
        "    for proporcion, porcentaje in zip(proporciones, porcentajes):\n",
        "        # Imprimir cada par en formato legible\n",
        "        print(f\"{proporcion} en equivalencia a {porcentaje}\")\n",
        "\n",
        "# Llamada a la función\n",
        "imprimir_proporciones_en_equivalencia_a_porcentajes(proporciones, porcentajes)"
      ]
    },
    {
      "cell_type": "markdown",
      "metadata": {
        "id": "iUcV_s0kbZmc"
      },
      "source": [
        "<details><summary>Solución</summary>\n",
        "\n",
        "```python\n",
        "def proporcion_a_porcentajes(proporcion):\n",
        "  \n",
        "    return proporcion * 100\n",
        "    \n",
        "porcentajes = list(map(proporcion_a_porcentajes, proporciones))\n",
        "```\n",
        "    \n",
        "</details>"
      ]
    },
    {
      "cell_type": "markdown",
      "metadata": {
        "id": "3PP2bmTcbZmc"
      },
      "source": [
        "#### b) Strings a números\n",
        "\n",
        "Tenemos una `lista` con strings que representan valores númericos:"
      ]
    },
    {
      "cell_type": "code",
      "execution_count": null,
      "metadata": {
        "id": "FuK8QtBIbZmc"
      },
      "outputs": [],
      "source": [
        "numeros_como_strings = [\"3\", \"7\", \"45\", \"89\", \"12\", \"9\", \"5\", \"89\", \"78\", \"87\", \"44\", \"45\", \"26\", \"84\", \"98\", \"46\", \"99\", \"84\"]"
      ]
    },
    {
      "cell_type": "markdown",
      "metadata": {
        "id": "eQHPk3IrbZmd"
      },
      "source": [
        "Para poder realizar algunos cálculos estádisticos, necesitamos que estas `strings` sean convertidas a `ints`. Escribe la función `string_a_int` y asigna el resultado de su aplicación a `numeros_como_strings` a la variable `numeros_como_ints`:"
      ]
    },
    {
      "cell_type": "code",
      "execution_count": null,
      "metadata": {
        "id": "N-VSGdCNbZmd"
      },
      "outputs": [],
      "source": [
        "#funcion que Convierte un string a un entero.\n",
        "def string_a_int(string):\n",
        "   # string (str): El string que se desea convertir a entero.\n",
        "\n",
        "  #  Returns: El entero resultante de la conversión.\n",
        "\n",
        "    return int(string)"
      ]
    },
    {
      "cell_type": "code",
      "execution_count": null,
      "metadata": {
        "id": "kwaH7lpWbZmd"
      },
      "outputs": [],
      "source": [
        "numeros_como_ints = list(map(string_a_int, numeros_como_strings))"
      ]
    },
    {
      "cell_type": "markdown",
      "metadata": {
        "id": "Y8OW20U3bZmd"
      },
      "source": [
        "Pídele a tu experta la función de verificación `imprimir_analisis_estadistico` (encontrada en el archivo `helpers.py` de la carpeta donde se encuentra este Reto), pégala debajo y corre la celda para verificar tu resultado:"
      ]
    },
    {
      "cell_type": "code",
      "execution_count": null,
      "metadata": {
        "id": "0Ib5ClPSbZmd",
        "colab": {
          "base_uri": "https://localhost:8080/"
        },
        "outputId": "89a2cedd-ed9d-4c79-f3bf-b1810f0463de"
      },
      "outputs": [
        {
          "output_type": "stream",
          "name": "stdout",
          "text": [
            "Análisis Estadístico:\n",
            "Números: [3, 7, 45, 89, 12, 9, 5, 89, 78, 87, 44, 45, 26, 84, 98, 46, 99, 84]\n",
            "Cantidad de Números: 18\n",
            "Máximo: 99\n",
            "Mínimo: 3\n",
            "Suma: 950\n",
            "Promedio: 52.78\n"
          ]
        }
      ],
      "source": [
        "# Estadísticas básicas\n",
        "maximo = max(numeros_como_ints)\n",
        "minimo = min(numeros_como_ints)\n",
        "suma = sum(numeros_como_ints)\n",
        "promedio = suma / len(numeros_como_ints)\n",
        "\n",
        "    # Imprimir resultados\n",
        "print(f\"Análisis Estadístico:\")\n",
        "print(f\"Números: {numeros_como_ints}\")\n",
        "print(f\"Cantidad de Números: {len(numeros_como_ints)}\")\n",
        "print(f\"Máximo: {maximo}\")\n",
        "print(f\"Mínimo: {minimo}\")\n",
        "print(f\"Suma: {suma}\")\n",
        "print(f\"Promedio: {promedio:.2f}\")"
      ]
    },
    {
      "cell_type": "markdown",
      "metadata": {
        "id": "Hc0daRqObZmd"
      },
      "source": [
        "<details><summary>Solución</summary>\n",
        "\n",
        "```python\n",
        "def string_a_int(string):\n",
        "    \n",
        "    return int(string)\n",
        "    \n",
        "numeros_como_ints = list(map(string_a_int, numeros_como_strings))\n",
        "```\n",
        "    \n",
        "</details>"
      ]
    },
    {
      "cell_type": "code",
      "execution_count": null,
      "metadata": {
        "id": "QydgRkZXbZmd"
      },
      "outputs": [],
      "source": []
    }
  ],
  "metadata": {
    "kernelspec": {
      "display_name": "Python (data_science)",
      "language": "python",
      "name": "data_science"
    },
    "language_info": {
      "codemirror_mode": {
        "name": "ipython",
        "version": 3
      },
      "file_extension": ".py",
      "mimetype": "text/x-python",
      "name": "python",
      "nbconvert_exporter": "python",
      "pygments_lexer": "ipython3",
      "version": "3.8.5"
    },
    "colab": {
      "provenance": []
    }
  },
  "nbformat": 4,
  "nbformat_minor": 0
}