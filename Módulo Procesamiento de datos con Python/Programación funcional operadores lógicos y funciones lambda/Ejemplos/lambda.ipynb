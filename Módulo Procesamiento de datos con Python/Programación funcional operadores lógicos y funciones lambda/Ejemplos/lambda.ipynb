{
  "cells": [
    {
      "cell_type": "markdown",
      "metadata": {
        "id": "WJm6hGRXZni4"
      },
      "source": [
        "## Ejemplo 6: Lambda\n",
        "\n",
        "### 1. Objetivos:\n",
        "    - Aprender la sintaxis `lambda` para poderla aplicar en `map` y `filter`.\n",
        "\n",
        "---\n",
        "    \n",
        "### 2. Desarrollo:"
      ]
    },
    {
      "cell_type": "markdown",
      "metadata": {
        "id": "CYL15zBUZni7"
      },
      "source": [
        "Una función `lambda` se define así:"
      ]
    },
    {
      "cell_type": "code",
      "execution_count": null,
      "metadata": {
        "id": "w5vNPstqZni7",
        "outputId": "e73cfdda-c40b-46f1-bcda-adb1c3f5116f"
      },
      "outputs": [
        {
          "data": {
            "text/plain": [
              "<function __main__.<lambda>(x)>"
            ]
          },
          "execution_count": 1,
          "metadata": {},
          "output_type": "execute_result"
        }
      ],
      "source": [
        "lambda x: x * 100"
      ]
    },
    {
      "cell_type": "markdown",
      "metadata": {
        "id": "5n-uKJvUZni9"
      },
      "source": [
        "Se usa la palabra `lambda`, luego se definen los parámetros, y al final se agrega el cuerpo de la función, que en este caso sólo puede incluir una sola sentencia: la `sentencia return`. No hace falta escribir `return`, `lambda` sabe que tiene que regresar la única línea de código que tiene.\n",
        "\n",
        "Ahora veamos cómo se usaría para revertir nuestra comparación anterior en un `filter`."
      ]
    },
    {
      "cell_type": "code",
      "execution_count": null,
      "metadata": {
        "id": "3zwwC6dzZni9"
      },
      "outputs": [],
      "source": [
        "def numero_es_divisible_entre_3(numero):\n",
        "\n",
        "    if numero % 3 == 0:\n",
        "        return True\n",
        "    else:\n",
        "        return False"
      ]
    },
    {
      "cell_type": "code",
      "execution_count": null,
      "metadata": {
        "id": "8s2WhBh-Zni9"
      },
      "outputs": [],
      "source": [
        "numeros = [1, 2, 3, 4, 5, 6, 7, 8, 9, 10, 11, 12, 13, 14, 15, 16, 17, 18, 19, 20]"
      ]
    },
    {
      "cell_type": "code",
      "execution_count": null,
      "metadata": {
        "id": "6Fcnt3zrZni-",
        "outputId": "a3d26bef-3b3f-4f6c-d8f4-cbd3f33d508d"
      },
      "outputs": [
        {
          "data": {
            "text/plain": [
              "[1, 2, 4, 5, 7, 8, 10, 11, 13, 14, 16, 17, 19, 20]"
            ]
          },
          "execution_count": 4,
          "metadata": {},
          "output_type": "execute_result"
        }
      ],
      "source": [
        "list(filter(lambda x: not numero_es_divisible_entre_3(x), numeros))"
      ]
    },
    {
      "cell_type": "markdown",
      "metadata": {
        "id": "Q9duW3NlZni-"
      },
      "source": [
        "Como puedes ver, esta sentencia nos regresa todos los números que **no** son divisibles entre 3. Revierte el funcionamiento de la función `numero_es_divisible_entre_3`. Podríamos hacerlo de esta manera, pero requiere de más código:"
      ]
    },
    {
      "cell_type": "code",
      "execution_count": null,
      "metadata": {
        "id": "3SB7ZjrfZni-"
      },
      "outputs": [],
      "source": [
        "def numero_no_es_divisible_entre_3(numero):\n",
        "\n",
        "    if not numero_es_divisible_entre_3(numero):\n",
        "        return True\n",
        "    else:\n",
        "        return False"
      ]
    },
    {
      "cell_type": "markdown",
      "metadata": {
        "id": "4Jsu6i8iZni-"
      },
      "source": [
        "Usar una u otra de las opciones dependerá del contexto y de tu criterio. Veamos un par de `lambdas` más:"
      ]
    },
    {
      "cell_type": "code",
      "execution_count": null,
      "metadata": {
        "id": "TXBRMLyhZni-",
        "outputId": "a4f4288e-891b-4478-f9cb-80c8aa1ece6e"
      },
      "outputs": [
        {
          "data": {
            "text/plain": [
              "['achicoria', 'loquillo', 'moquillo', 'jacaranda']"
            ]
          },
          "execution_count": 7,
          "metadata": {},
          "output_type": "execute_result"
        }
      ],
      "source": [
        "palabras = [\"achicoria\", \"pasto\", \"sol\", \"loquillo\", \"moquillo\", \"sed\", \"pez\", \"jacaranda\", \"mil\"]\n",
        "\n",
        "list(filter(lambda x: len(x) > 5, palabras))"
      ]
    },
    {
      "cell_type": "code",
      "execution_count": null,
      "metadata": {
        "id": "WAXlG01YZni_",
        "outputId": "4dea5fe9-acba-47eb-c92d-db73bb941bb6"
      },
      "outputs": [
        {
          "data": {
            "text/plain": [
              "[-1, -7, -8, -78, -46, -1, -2, -4]"
            ]
          },
          "execution_count": 8,
          "metadata": {},
          "output_type": "execute_result"
        }
      ],
      "source": [
        "numeros = [3, 5, -1, -7, -8, 4, -78, 5, -46, 56, 98, 9, -1, -2, -4]\n",
        "\n",
        "list(filter(lambda x: x < 0, numeros))"
      ]
    },
    {
      "cell_type": "code",
      "execution_count": null,
      "metadata": {
        "id": "OZm4qZAhZni_",
        "outputId": "32034051-d63a-4e3b-cb1b-556f736a113a"
      },
      "outputs": [
        {
          "data": {
            "text/plain": [
              "[3, 5, 4, 5, 56, 98, 9]"
            ]
          },
          "execution_count": 9,
          "metadata": {},
          "output_type": "execute_result"
        }
      ],
      "source": [
        "list(filter(lambda x: not(x < 0), numeros))"
      ]
    },
    {
      "cell_type": "markdown",
      "metadata": {
        "id": "gdt7lKnFZni_"
      },
      "source": [
        "¡Es hora de nuestro reto final!"
      ]
    }
  ],
  "metadata": {
    "kernelspec": {
      "display_name": "Python (data_science)",
      "language": "python",
      "name": "data_science"
    },
    "language_info": {
      "codemirror_mode": {
        "name": "ipython",
        "version": 3
      },
      "file_extension": ".py",
      "mimetype": "text/x-python",
      "name": "python",
      "nbconvert_exporter": "python",
      "pygments_lexer": "ipython3",
      "version": "3.8.5"
    },
    "colab": {
      "provenance": []
    }
  },
  "nbformat": 4,
  "nbformat_minor": 0
}