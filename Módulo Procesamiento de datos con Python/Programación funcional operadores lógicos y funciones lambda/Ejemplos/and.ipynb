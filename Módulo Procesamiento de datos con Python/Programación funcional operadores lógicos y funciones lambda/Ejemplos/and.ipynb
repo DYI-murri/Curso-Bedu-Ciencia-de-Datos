{
  "cells": [
    {
      "cell_type": "markdown",
      "metadata": {
        "id": "Tw3_uS12Y97Z"
      },
      "source": [
        "## Ejemplo 3: And\n",
        "\n",
        "### 1. Objetivos:\n",
        "    - Aprender a extender las capacidades de los `operadores de comparación` usando `and`.\n",
        "    - Usar `and` para llamar `filter` con múltiples filtros.\n",
        "\n",
        "---\n",
        "    \n",
        "### 2. Desarrollo:"
      ]
    },
    {
      "cell_type": "code",
      "source": [],
      "metadata": {
        "id": "wycPpTQcY_C0"
      },
      "execution_count": null,
      "outputs": []
    },
    {
      "cell_type": "markdown",
      "metadata": {
        "id": "L591A-I2Y97d"
      },
      "source": [
        "Muchas veces una sola `sentencia de comparación` no va ser suficiente para filtrar los datos como queremos. En ese caso, `and` puede ayudarnos a unir dos sentencias. `and` regresa `True` cuando ambas sentencias regresan True.\n",
        "\n",
        "Digamos que tenemos dos funciones que realizan una comparación y regresan `True` cuando la comparación se cumple:"
      ]
    },
    {
      "cell_type": "code",
      "execution_count": null,
      "metadata": {
        "id": "7yCpjuEkY97d"
      },
      "outputs": [],
      "source": [
        "def numero_es_divisible_entre_3(numero):\n",
        "\n",
        "    if numero % 3 == 0:\n",
        "        return True\n",
        "    else:\n",
        "        return False"
      ]
    },
    {
      "cell_type": "code",
      "execution_count": null,
      "metadata": {
        "id": "-XX5bQEoY97f"
      },
      "outputs": [],
      "source": [
        "def numero_es_menor_que_10(numero):\n",
        "\n",
        "    if numero < 10:\n",
        "        return True\n",
        "    else:\n",
        "        return False"
      ]
    },
    {
      "cell_type": "markdown",
      "metadata": {
        "id": "BUmLSQ9HY97f"
      },
      "source": [
        "Vamos a realizar algunas comparaciones usando ambas funciones para evaluar el mismo número:"
      ]
    },
    {
      "cell_type": "code",
      "execution_count": null,
      "metadata": {
        "id": "Ur5rV7QEY97f",
        "outputId": "6fc67b08-9cac-4731-f1be-f2473a854971"
      },
      "outputs": [
        {
          "data": {
            "text/plain": [
              "True"
            ]
          },
          "execution_count": 16,
          "metadata": {},
          "output_type": "execute_result"
        }
      ],
      "source": [
        "numero_es_divisible_entre_3(9) and numero_es_menor_que_10(9)"
      ]
    },
    {
      "cell_type": "code",
      "execution_count": null,
      "metadata": {
        "id": "VLSB_pZ0Y97g",
        "outputId": "2dee825c-71e9-4e4a-c023-de2c660cff22"
      },
      "outputs": [
        {
          "data": {
            "text/plain": [
              "False"
            ]
          },
          "execution_count": 17,
          "metadata": {},
          "output_type": "execute_result"
        }
      ],
      "source": [
        "numero_es_divisible_entre_3(12) and numero_es_menor_que_10(12)"
      ]
    },
    {
      "cell_type": "code",
      "execution_count": null,
      "metadata": {
        "id": "EaOMbV2NY97g",
        "outputId": "f3b49ed2-e9bb-4b42-86e6-04fc7bc1e1c4"
      },
      "outputs": [
        {
          "data": {
            "text/plain": [
              "False"
            ]
          },
          "execution_count": 18,
          "metadata": {},
          "output_type": "execute_result"
        }
      ],
      "source": [
        "numero_es_divisible_entre_3(8) and numero_es_menor_que_10(8)"
      ]
    },
    {
      "cell_type": "code",
      "execution_count": null,
      "metadata": {
        "id": "ZNz7jD8uY97h",
        "outputId": "3a61635c-b9b4-47aa-e651-9b1e04fd42df"
      },
      "outputs": [
        {
          "data": {
            "text/plain": [
              "False"
            ]
          },
          "execution_count": 19,
          "metadata": {},
          "output_type": "execute_result"
        }
      ],
      "source": [
        "numero_es_divisible_entre_3(16) and numero_es_menor_que_10(16)"
      ]
    },
    {
      "cell_type": "markdown",
      "metadata": {
        "id": "7Yhn0lliY97h"
      },
      "source": [
        "Como puedes ver, `and` sólo regresa `True` cuando ambas comparaciones regresan `True`."
      ]
    },
    {
      "cell_type": "markdown",
      "metadata": {
        "id": "aT1viwoGY97h"
      },
      "source": [
        "Veamos ahora cómo aplicarlo a un `filter`. Tenemos una lista que queremos filtrar:"
      ]
    },
    {
      "cell_type": "code",
      "execution_count": null,
      "metadata": {
        "id": "CMngYwSIY97h"
      },
      "outputs": [],
      "source": [
        "numeros = [1, 2, 3, 4, 5, 6, 7, 8, 9, 10, 11, 12, 13, 14, 15, 16, 17, 18, 19, 20]"
      ]
    },
    {
      "cell_type": "markdown",
      "metadata": {
        "id": "N_GjGckZY97h"
      },
      "source": [
        "En esta ocasión vamos a construir una función que reúna ambas funciones que tenemos, porque `filter` sólo recibe una función (más adelante veremos otras opciones):"
      ]
    },
    {
      "cell_type": "code",
      "execution_count": null,
      "metadata": {
        "id": "Ij_St93fY97h"
      },
      "outputs": [],
      "source": [
        "def numero_es_divisible_entre_3_y_menor_que_10(numero):\n",
        "\n",
        "    return numero_es_divisible_entre_3(numero) and numero_es_menor_que_10(numero)"
      ]
    },
    {
      "cell_type": "markdown",
      "metadata": {
        "id": "AyHVl9dlY97i"
      },
      "source": [
        "Ahora la aplicamos:"
      ]
    },
    {
      "cell_type": "code",
      "execution_count": null,
      "metadata": {
        "id": "F_xv9lptY97i",
        "outputId": "6dce85f8-c178-4c3d-f7ed-925fb313e5cf"
      },
      "outputs": [
        {
          "data": {
            "text/plain": [
              "[3, 6, 9]"
            ]
          },
          "execution_count": 23,
          "metadata": {},
          "output_type": "execute_result"
        }
      ],
      "source": [
        "list(filter(numero_es_divisible_entre_3_y_menor_que_10, numeros))"
      ]
    },
    {
      "cell_type": "markdown",
      "metadata": {
        "id": "nWxveUX1Y97i"
      },
      "source": [
        "¡Genial! ¿No es así? Vayamos ahora a practicar esta herramienta."
      ]
    },
    {
      "cell_type": "code",
      "execution_count": null,
      "metadata": {
        "id": "unmstCt0Y97i"
      },
      "outputs": [],
      "source": []
    }
  ],
  "metadata": {
    "kernelspec": {
      "display_name": "Python (data_science)",
      "language": "python",
      "name": "data_science"
    },
    "language_info": {
      "codemirror_mode": {
        "name": "ipython",
        "version": 3
      },
      "file_extension": ".py",
      "mimetype": "text/x-python",
      "name": "python",
      "nbconvert_exporter": "python",
      "pygments_lexer": "ipython3",
      "version": "3.8.5"
    },
    "colab": {
      "provenance": []
    }
  },
  "nbformat": 4,
  "nbformat_minor": 0
}