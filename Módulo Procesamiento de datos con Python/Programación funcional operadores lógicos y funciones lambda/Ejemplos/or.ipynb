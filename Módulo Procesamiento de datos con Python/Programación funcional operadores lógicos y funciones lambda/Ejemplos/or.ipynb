{
  "cells": [
    {
      "cell_type": "markdown",
      "metadata": {
        "id": "KAQAl4bSZMTH"
      },
      "source": [
        "## Ejemplo 4: Or\n",
        "\n",
        "### 1. Objetivos:\n",
        "    - Aprender a extender las capacidades de los `operadores de comparación` usando `or`.\n",
        "    - Usar `or` para llamar `filter` con múltiples filtros.\n",
        "\n",
        "---\n",
        "    \n",
        "### 2. Desarrollo:"
      ]
    },
    {
      "cell_type": "code",
      "source": [],
      "metadata": {
        "id": "Bcw_a0kBZRxQ"
      },
      "execution_count": null,
      "outputs": []
    },
    {
      "cell_type": "markdown",
      "metadata": {
        "id": "l6RF_3xBZMTJ"
      },
      "source": [
        "Vamos a usar las mismas funciones que definimos en nuestro ejemplo pasado:"
      ]
    },
    {
      "cell_type": "code",
      "execution_count": null,
      "metadata": {
        "id": "6-mmWkICZMTK"
      },
      "outputs": [],
      "source": [
        "def numero_es_divisible_entre_3(numero):\n",
        "\n",
        "    if numero % 3 == 0:\n",
        "        return True\n",
        "    else:\n",
        "        return False"
      ]
    },
    {
      "cell_type": "code",
      "execution_count": null,
      "metadata": {
        "id": "965s-9j8ZMTL"
      },
      "outputs": [],
      "source": [
        "def numero_es_menor_que_10(numero):\n",
        "\n",
        "    if numero < 10:\n",
        "        return True\n",
        "    else:\n",
        "        return False"
      ]
    },
    {
      "cell_type": "markdown",
      "metadata": {
        "id": "L8140rGrZMTL"
      },
      "source": [
        "Pero ahora veamos qué sucede cuando usamos `or` para unir dos comparaciones:"
      ]
    },
    {
      "cell_type": "code",
      "execution_count": null,
      "metadata": {
        "id": "ZrmDXsIBZMTL",
        "outputId": "6188758f-7e97-4f7c-ec93-3e92308ee9fb"
      },
      "outputs": [
        {
          "data": {
            "text/plain": [
              "True"
            ]
          },
          "execution_count": 4,
          "metadata": {},
          "output_type": "execute_result"
        }
      ],
      "source": [
        "numero_es_divisible_entre_3(9) or numero_es_menor_que_10(9)"
      ]
    },
    {
      "cell_type": "code",
      "execution_count": null,
      "metadata": {
        "id": "UR-xeY70ZMTM",
        "outputId": "cbf79a51-37a9-46d0-baff-20155850d308"
      },
      "outputs": [
        {
          "data": {
            "text/plain": [
              "True"
            ]
          },
          "execution_count": 6,
          "metadata": {},
          "output_type": "execute_result"
        }
      ],
      "source": [
        "numero_es_divisible_entre_3(12) or numero_es_menor_que_10(12)"
      ]
    },
    {
      "cell_type": "code",
      "execution_count": null,
      "metadata": {
        "id": "h5JYmg-_ZMTN",
        "outputId": "a68a225d-3ca2-4972-93b9-61434b05bf27"
      },
      "outputs": [
        {
          "data": {
            "text/plain": [
              "True"
            ]
          },
          "execution_count": 7,
          "metadata": {},
          "output_type": "execute_result"
        }
      ],
      "source": [
        "numero_es_divisible_entre_3(8) or numero_es_menor_que_10(8)"
      ]
    },
    {
      "cell_type": "code",
      "execution_count": null,
      "metadata": {
        "id": "1W5DJ0M1ZMTN",
        "outputId": "62b98f2d-9f51-4711-f922-e50d16c40b5b"
      },
      "outputs": [
        {
          "data": {
            "text/plain": [
              "False"
            ]
          },
          "execution_count": 8,
          "metadata": {},
          "output_type": "execute_result"
        }
      ],
      "source": [
        "numero_es_divisible_entre_3(16) or numero_es_menor_que_10(16)"
      ]
    },
    {
      "cell_type": "markdown",
      "metadata": {
        "id": "iSK0dN87ZMTN"
      },
      "source": [
        "Como ves, `or` regresa `True` cuando una de las dos comparaciones regresa `True` o cuando ambas regresan `True`. En cambio, sólo regresa `False` cuando **ambas** comparaciones regresan `False`."
      ]
    },
    {
      "cell_type": "markdown",
      "metadata": {
        "id": "-9rfLPBnZMTO"
      },
      "source": [
        "Veamos ahora qué sucede si lo aplicamos a la misma lista de la vez pasada:"
      ]
    },
    {
      "cell_type": "code",
      "execution_count": null,
      "metadata": {
        "id": "bxunaYYkZMTO"
      },
      "outputs": [],
      "source": [
        "numeros = [1, 2, 3, 4, 5, 6, 7, 8, 9, 10, 11, 12, 13, 14, 15, 16, 17, 18, 19, 20]"
      ]
    },
    {
      "cell_type": "code",
      "execution_count": null,
      "metadata": {
        "id": "jE99uQF6ZMTO"
      },
      "outputs": [],
      "source": [
        "def numero_es_divisible_entre_3_o_menor_que_10(numero):\n",
        "\n",
        "    return numero_es_divisible_entre_3(numero) or numero_es_menor_que_10(numero)"
      ]
    },
    {
      "cell_type": "code",
      "execution_count": null,
      "metadata": {
        "id": "Xbc08w4aZMTO",
        "outputId": "c43381eb-c408-4d41-bd36-985ed8c36099"
      },
      "outputs": [
        {
          "data": {
            "text/plain": [
              "[1, 2, 3, 4, 5, 6, 7, 8, 9, 12, 15, 18]"
            ]
          },
          "execution_count": 12,
          "metadata": {},
          "output_type": "execute_result"
        }
      ],
      "source": [
        "list(filter(numero_es_divisible_entre_3_o_menor_que_10, numeros))"
      ]
    },
    {
      "cell_type": "markdown",
      "metadata": {
        "id": "6jJC0AhYZMTP"
      },
      "source": [
        "¡Interesante! Quedará mucho más claro después de realizar algunos Retos."
      ]
    },
    {
      "cell_type": "code",
      "execution_count": null,
      "metadata": {
        "id": "3sLm9MlEZMTP"
      },
      "outputs": [],
      "source": []
    }
  ],
  "metadata": {
    "kernelspec": {
      "display_name": "Python (data_science)",
      "language": "python",
      "name": "data_science"
    },
    "language_info": {
      "codemirror_mode": {
        "name": "ipython",
        "version": 3
      },
      "file_extension": ".py",
      "mimetype": "text/x-python",
      "name": "python",
      "nbconvert_exporter": "python",
      "pygments_lexer": "ipython3",
      "version": "3.8.5"
    },
    "colab": {
      "provenance": []
    }
  },
  "nbformat": 4,
  "nbformat_minor": 0
}