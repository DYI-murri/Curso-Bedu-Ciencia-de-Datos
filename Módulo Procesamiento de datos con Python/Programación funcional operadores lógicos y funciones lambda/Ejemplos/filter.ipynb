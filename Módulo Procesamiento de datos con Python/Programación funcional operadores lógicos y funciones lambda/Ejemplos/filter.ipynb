{
  "cells": [
    {
      "cell_type": "markdown",
      "metadata": {
        "id": "_y_sQHJOYtWS"
      },
      "source": [
        "## Ejemplo 2: Filter\n",
        "\n",
        "### 1. Objetivos:\n",
        "    - Entender cómo funciona la función `filter` y verla aplicada en ejemplos para después poder reproducir su uso\n",
        "\n",
        "---\n",
        "    \n",
        "### 2. Desarrollo:"
      ]
    },
    {
      "cell_type": "markdown",
      "metadata": {
        "id": "z4OhEb5QYtWV"
      },
      "source": [
        "`filter` nos permite filtrar nuestras `listas` para dejar fuera elementos que no queremos. Tal vez te parezca un poco extraño esto. ¿Por qué queremos filtrar datos? Una de nuestras tareas más importantes como procesadores de datos es la de limpiar nuestros conjuntos de datos para que tengan solamente los datos que necesitamos para nuestro análisis. Una de las técnicas de limpieza más comunes es la de filtrar nuestro conjunto de datos. Vamos a aprender a hacer esto usando `filter`."
      ]
    },
    {
      "cell_type": "markdown",
      "metadata": {
        "id": "eq3toC_MYtWW"
      },
      "source": [
        "Como ya vimos, `filter` recibe una función y una lista, y regresa una nueva lista con los elementos que fueron filtrados. La función debe de regresar `True` o `False`. Cada que la función regresa `True`, el elemento al que le fue aplicado la función se agrega a la nueva `lista`. Cada que la función regresa `False` (o `None`), el elemento al que le fue aplicado la función es descartado.\n",
        "\n",
        "Veamos esto en acción:"
      ]
    },
    {
      "cell_type": "code",
      "execution_count": null,
      "metadata": {
        "id": "vQHSpMDgYtWW"
      },
      "outputs": [],
      "source": [
        "numeros = [1, 2, 3, 4, 5, 6, 7, 8, 9, 10]"
      ]
    },
    {
      "cell_type": "code",
      "execution_count": null,
      "metadata": {
        "id": "ZfFuS58JYtWX"
      },
      "outputs": [],
      "source": [
        "def numero_es_par(numero):\n",
        "\n",
        "    if numero % 2 == 0:\n",
        "        return True\n",
        "    else:\n",
        "        return False"
      ]
    },
    {
      "cell_type": "code",
      "execution_count": null,
      "metadata": {
        "id": "GMQqXCq6YtWY",
        "outputId": "b10b28ae-58d5-4226-efdb-663cf6db8efa"
      },
      "outputs": [
        {
          "data": {
            "text/plain": [
              "[2, 4, 6, 8, 10]"
            ]
          },
          "execution_count": 3,
          "metadata": {},
          "output_type": "execute_result"
        }
      ],
      "source": [
        "list(filter(numero_es_par, numeros))"
      ]
    },
    {
      "cell_type": "markdown",
      "metadata": {
        "id": "ijoN69XKYtWY"
      },
      "source": [
        "Como nuestra función regresa `True` si el valor es par, nuestra `lista` resultante sólo tiene valores pares.\n",
        "\n",
        "Veamos otro ejemplo:"
      ]
    },
    {
      "cell_type": "code",
      "execution_count": null,
      "metadata": {
        "id": "Qe5PoIF6YtWZ",
        "outputId": "07fd9629-b48a-4816-e438-0becd8e93bdb"
      },
      "outputs": [
        {
          "data": {
            "text/plain": [
              "[6, 7, 8, 9, 10]"
            ]
          },
          "execution_count": 6,
          "metadata": {},
          "output_type": "execute_result"
        }
      ],
      "source": [
        "def numero_es_mayor_a_5(numero):\n",
        "\n",
        "    if numero > 5:\n",
        "        return True\n",
        "\n",
        "list(filter(numero_es_mayor_a_5, numeros))"
      ]
    },
    {
      "cell_type": "markdown",
      "metadata": {
        "id": "YqCiK4_iYtWZ"
      },
      "source": [
        "En este caso no agregamos el `if else: return False` porque Python asume que si una función no regresa nada ha regresado un `None`, que cuenta como `False`. Usamos entonces `filter` para quedarnos solamente con los valores que nos interesan de una lista.\n",
        "\n",
        "Algunos ejemplos más:"
      ]
    },
    {
      "cell_type": "code",
      "execution_count": null,
      "metadata": {
        "id": "AXCYrRk4YtWZ",
        "outputId": "f55eaff3-689c-4b99-cc6c-991eb9d2b38a"
      },
      "outputs": [
        {
          "data": {
            "text/plain": [
              "['achicoria', 'loquillo', 'moquillo', 'jacaranda']"
            ]
          },
          "execution_count": 8,
          "metadata": {},
          "output_type": "execute_result"
        }
      ],
      "source": [
        "def palabra_tiene_mas_de_5_caracteres(palabra):\n",
        "\n",
        "    if len(palabra) > 5:\n",
        "        return True\n",
        "\n",
        "palabras = [\"achicoria\", \"pasto\", \"sol\", \"loquillo\", \"moquillo\", \"sed\", \"pez\", \"jacaranda\", \"mil\"]\n",
        "\n",
        "list(filter(palabra_tiene_mas_de_5_caracteres, palabras))"
      ]
    },
    {
      "cell_type": "code",
      "execution_count": null,
      "metadata": {
        "id": "PK9oFPyaYtWa",
        "outputId": "f7154102-797c-4f5a-b21e-202811038c0f"
      },
      "outputs": [
        {
          "data": {
            "text/plain": [
              "[-1, -7, -8, -78, -46, -1, -2, -4]"
            ]
          },
          "execution_count": 9,
          "metadata": {},
          "output_type": "execute_result"
        }
      ],
      "source": [
        "def numero_es_negativo(numero):\n",
        "\n",
        "    if numero < 0:\n",
        "        return True\n",
        "\n",
        "numeros = [3, 5, -1, -7, -8, 4, -78, 5, -46, 56, 98, 9, -1, -2, -4]\n",
        "\n",
        "list(filter(numero_es_negativo, numeros))"
      ]
    },
    {
      "cell_type": "code",
      "execution_count": null,
      "metadata": {
        "id": "nep8OgJHYtWa",
        "outputId": "38fef675-ce08-4d39-f397-7e6f6b4c7aa0"
      },
      "outputs": [
        {
          "data": {
            "text/plain": [
              "[9, 72, 90, 99, 18]"
            ]
          },
          "execution_count": 10,
          "metadata": {},
          "output_type": "execute_result"
        }
      ],
      "source": [
        "def numero_es_divisible_entre_9(numero):\n",
        "\n",
        "    if numero % 9 == 0:\n",
        "        return True\n",
        "\n",
        "numeros = [3, 7, 9, 34, 72, 90, 87, 34, 99, 56, 12, 18]\n",
        "\n",
        "list(filter(numero_es_divisible_entre_9, numeros))"
      ]
    },
    {
      "cell_type": "markdown",
      "metadata": {
        "id": "em8XlhB-YtWb"
      },
      "source": [
        "¡Ahora es tu turno de poner `filter` en práctica!"
      ]
    }
  ],
  "metadata": {
    "kernelspec": {
      "display_name": "Python (data_science)",
      "language": "python",
      "name": "data_science"
    },
    "language_info": {
      "codemirror_mode": {
        "name": "ipython",
        "version": 3
      },
      "file_extension": ".py",
      "mimetype": "text/x-python",
      "name": "python",
      "nbconvert_exporter": "python",
      "pygments_lexer": "ipython3",
      "version": "3.8.5"
    },
    "colab": {
      "provenance": []
    }
  },
  "nbformat": 4,
  "nbformat_minor": 0
}