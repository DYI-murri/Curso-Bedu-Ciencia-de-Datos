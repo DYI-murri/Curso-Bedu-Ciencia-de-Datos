{
  "nbformat": 4,
  "nbformat_minor": 0,
  "metadata": {
    "colab": {
      "provenance": []
    },
    "kernelspec": {
      "name": "python3",
      "display_name": "Python 3"
    },
    "language_info": {
      "name": "python"
    }
  },
  "cells": [
    {
      "cell_type": "markdown",
      "source": [
        "<center><h2>Prework</h2></center>\n",
        "<hr>\n",
        "\n",
        "<h2>Estructuras de datos</h2>\n",
        "\n",
        "\n",
        "*   Un paradigma de programación es básicamente un conjunto de herramientas, métodos y reglas que se reúnen cohesivamente y se utilizan para resolver problemas computacionales.\n",
        "\n",
        "<h3>Map</h3>\n",
        "\n",
        "En programación, la función map() es una función que aplica una función a todos los elementos de un iterable y devuelve un nuevo iterable con los resultados.\n",
        "\n",
        "La sintaxis de la función map() es la siguiente:\n",
        "\n",
        "map(funcion, iterable)\n",
        "\n",
        "donde:\n",
        "\n",
        "*   funcion es la función que se aplicará a cada elemento del iterable.\n",
        "*   iterable es el iterable al que se aplicará la función.\n"
      ],
      "metadata": {
        "id": "V5Jv9_M7TZ_o"
      }
    },
    {
      "cell_type": "code",
      "execution_count": null,
      "metadata": {
        "colab": {
          "base_uri": "https://localhost:8080/"
        },
        "id": "Fl1MblGYSU7X",
        "outputId": "70bc2efa-9c48-4078-8676-d4208927d4ad"
      },
      "outputs": [
        {
          "output_type": "stream",
          "name": "stdout",
          "text": [
            "<map object at 0x7d42586f0bb0>\n"
          ]
        }
      ],
      "source": [
        "def convertir_a_cadena(numero):\n",
        "    return str(numero)\n",
        "\n",
        "lista = [1, 2, 3, 4, 5]\n",
        "\n",
        "nueva_lista = map(convertir_a_cadena, lista)\n",
        "\n",
        "print(nueva_lista)"
      ]
    },
    {
      "cell_type": "code",
      "source": [
        "lista = [1, 2, 3, 4, 5]\n",
        "\n",
        "nueva_lista = map(lambda numero: numero ** 2, lista)\n",
        "\n",
        "print(nueva_lista)\n"
      ],
      "metadata": {
        "colab": {
          "base_uri": "https://localhost:8080/"
        },
        "id": "Vr5tRF3vU6XD",
        "outputId": "99c56b55-72b5-4a78-b471-b1d25e1bdb8a"
      },
      "execution_count": null,
      "outputs": [
        {
          "output_type": "stream",
          "name": "stdout",
          "text": [
            "<map object at 0x7d42586f1360>\n"
          ]
        }
      ]
    },
    {
      "cell_type": "code",
      "source": [
        "numeros = [1,2,3,4,5,6,7,8,9]"
      ],
      "metadata": {
        "id": "xT-Rx_N_VDNm"
      },
      "execution_count": null,
      "outputs": []
    },
    {
      "cell_type": "code",
      "source": [
        "numeros_por_dos = [numeros[0]*2,numeros[1]*2,numeros[2]*2,numeros[3]*2,numeros[3]*2,numeros[4]*2,numeros[5]*2,numeros[6]*2,numeros[7]*2,numeros[8]*2]\n",
        "numeros_por_dos"
      ],
      "metadata": {
        "colab": {
          "base_uri": "https://localhost:8080/"
        },
        "id": "oJcRcn71VM9g",
        "outputId": "fdf6a71f-3121-4f48-eee2-8c5621ce14c4"
      },
      "execution_count": null,
      "outputs": [
        {
          "output_type": "execute_result",
          "data": {
            "text/plain": [
              "[2, 4, 6, 8, 8, 10, 12, 14, 16, 18]"
            ]
          },
          "metadata": {},
          "execution_count": 4
        }
      ]
    },
    {
      "cell_type": "code",
      "source": [
        "def multiplicar_por_dos(numeros):\n",
        "  resultado = numeros * 2\n",
        "\n",
        "  return resultado"
      ],
      "metadata": {
        "id": "M0_5xgC4V-Hs"
      },
      "execution_count": null,
      "outputs": []
    },
    {
      "cell_type": "markdown",
      "source": [
        "Ahora, lo que hace map es lo siguiente:\n",
        "\n",
        "*   Recibe una función que queremos aplicar a una lista.\n",
        "*   Recibe una lista.\n",
        "*   Aplica la función a la lista elemento por elemento y regresa una nueva lista que contiene los elementos de la lista anterior transformados."
      ],
      "metadata": {
        "id": "Qh4QVqesWb9E"
      }
    },
    {
      "cell_type": "code",
      "source": [
        "map(multiplicar_por_dos,numeros)"
      ],
      "metadata": {
        "colab": {
          "base_uri": "https://localhost:8080/"
        },
        "id": "mXOu4n1oWpoX",
        "outputId": "069e70f2-ead3-4bb7-a79e-041c488553b7"
      },
      "execution_count": null,
      "outputs": [
        {
          "output_type": "execute_result",
          "data": {
            "text/plain": [
              "<map at 0x7d331f4ae740>"
            ]
          },
          "metadata": {},
          "execution_count": 10
        }
      ]
    },
    {
      "cell_type": "code",
      "source": [
        "list(map(multiplicar_por_dos,numeros))"
      ],
      "metadata": {
        "colab": {
          "base_uri": "https://localhost:8080/"
        },
        "id": "Mo-Rs6IJW6Kx",
        "outputId": "240edb63-bdce-46f6-c79c-4812e86aa82d"
      },
      "execution_count": null,
      "outputs": [
        {
          "output_type": "execute_result",
          "data": {
            "text/plain": [
              "[2, 4, 6, 8, 10, 12, 14, 16, 18]"
            ]
          },
          "metadata": {},
          "execution_count": 11
        }
      ]
    },
    {
      "cell_type": "markdown",
      "source": [
        "Ésta es una de las razones por las que establecimos que era una buena idea tener listas con un solo tipo de dato. A la hora de querer aplicar una función a toda la lista, las cosas se complican mucho cuando tenemos diversos tipos de datos en la misma estructura de datos.\n",
        "\n",
        "Nuestra función puede ser tan complicada como queramos. Por ejemplo, mira esta función que transforma todos los datos nones en 0s, mientras que los datos pares los regresa sin transformarlos:"
      ],
      "metadata": {
        "id": "3FyFaBIGXgiC"
      }
    },
    {
      "cell_type": "code",
      "source": [
        "def si_non_regresar_0(numeros):\n",
        "  if numeros % 2 == 0:\n",
        "    return numeros\n",
        "  else:\n",
        "    return 0"
      ],
      "metadata": {
        "id": "lc3Eqn8DXkfY"
      },
      "execution_count": null,
      "outputs": []
    },
    {
      "cell_type": "code",
      "source": [
        "numeros = [6,78,3,89,5,63,42,8,76,1,245,9,877,465,34,77,80]\n",
        "\n",
        "numeros_non_en_cero = list(map(si_non_regresar_0,numeros))\n",
        "\n",
        "numeros_non_en_cero"
      ],
      "metadata": {
        "colab": {
          "base_uri": "https://localhost:8080/"
        },
        "id": "tlmmoEM8htRv",
        "outputId": "86d64736-7b37-4c62-aea5-2131fdc710e3"
      },
      "execution_count": null,
      "outputs": [
        {
          "output_type": "execute_result",
          "data": {
            "text/plain": [
              "[6, 78, 0, 0, 0, 0, 42, 8, 76, 0, 0, 0, 0, 0, 34, 0, 80]"
            ]
          },
          "metadata": {},
          "execution_count": 16
        }
      ]
    },
    {
      "cell_type": "markdown",
      "source": [
        " Por ejemplo, mira esta función que toma un número y lo regresa en forma de string con el signo de dinero añadido y la unidad MXN:"
      ],
      "metadata": {
        "id": "ZBS4YifcihPK"
      }
    },
    {
      "cell_type": "code",
      "source": [
        "def formato_de_dinero(numeros):\n",
        "  formateado = f'${numeros} MXN'\n",
        "  return formateado"
      ],
      "metadata": {
        "id": "QS9wHET1i5wT"
      },
      "execution_count": null,
      "outputs": []
    },
    {
      "cell_type": "code",
      "source": [
        "numeros = [6,78,3,89,5,63,42,8,76]\n",
        "numeros_formato_dinero = list(map(formato_de_dinero,numeros))\n",
        "numeros_formato_dinero"
      ],
      "metadata": {
        "colab": {
          "base_uri": "https://localhost:8080/"
        },
        "id": "rItjrKy1jRVj",
        "outputId": "f2a455d1-1d32-4b1f-f37f-69328f8ceb20"
      },
      "execution_count": null,
      "outputs": [
        {
          "output_type": "execute_result",
          "data": {
            "text/plain": [
              "['$6 MXN',\n",
              " '$78 MXN',\n",
              " '$3 MXN',\n",
              " '$89 MXN',\n",
              " '$5 MXN',\n",
              " '$63 MXN',\n",
              " '$42 MXN',\n",
              " '$8 MXN',\n",
              " '$76 MXN']"
            ]
          },
          "metadata": {},
          "execution_count": 18
        }
      ]
    },
    {
      "cell_type": "markdown",
      "source": [
        "<h3>Filter</h3>\n",
        "\n",
        "En programación, la función filter() es una función que aplica una función de prueba a todos los elementos de un iterable y devuelve un nuevo iterable con los elementos que pasan la prueba.\n",
        "\n",
        "La sintaxis de la función filter() es la siguiente:\n",
        "\n",
        "filter(funcion_de_prueba, iterable)\n",
        "\n",
        "donde:\n",
        "\n",
        "*   funcion_de_prueba es una función que toma un elemento del iterable como entrada y devuelve un valor booleano que indica si el elemento debe incluirse en el nuevo iterable.\n",
        "*   iterable es el iterable al que se aplicará la función de prueba.\n",
        "\n",
        "\n"
      ],
      "metadata": {
        "id": "MCAqvr7yjzd-"
      }
    },
    {
      "cell_type": "code",
      "source": [
        "def es_par(numero):\n",
        "    return numero % 2 == 0\n",
        "\n",
        "lista = [1, 2, 3, 4, 5]\n",
        "\n",
        "nueva_lista = filter(es_par, lista)\n",
        "\n",
        "print(nueva_lista)"
      ],
      "metadata": {
        "colab": {
          "base_uri": "https://localhost:8080/"
        },
        "id": "7yAWDQ16mpak",
        "outputId": "dde04a9f-2613-4c6e-a1f0-9155eb5b2455"
      },
      "execution_count": null,
      "outputs": [
        {
          "output_type": "stream",
          "name": "stdout",
          "text": [
            "<filter object at 0x7d331f43bd30>\n"
          ]
        }
      ]
    },
    {
      "cell_type": "code",
      "source": [
        "lista = [1, 2, 3, 4, 5]\n",
        "\n",
        "nueva_lista = filter(lambda numero: numero > 3, lista)\n",
        "\n",
        "print(nueva_lista)"
      ],
      "metadata": {
        "colab": {
          "base_uri": "https://localhost:8080/"
        },
        "id": "e28bA62bmucL",
        "outputId": "fa5e8519-9779-4b0a-aa2c-9a5d487c2b0d"
      },
      "execution_count": null,
      "outputs": [
        {
          "output_type": "stream",
          "name": "stdout",
          "text": [
            "<filter object at 0x7d331f43b250>\n"
          ]
        }
      ]
    },
    {
      "cell_type": "code",
      "source": [
        "numeros = [5,8,-2,-34,9,78,45,-67,12,48,-94,-76,-3,25,47]"
      ],
      "metadata": {
        "id": "gMrO_1c7m8nq"
      },
      "execution_count": null,
      "outputs": []
    },
    {
      "cell_type": "code",
      "source": [
        "def numero_es_positivo(numeros):\n",
        "  if numeros >= 0:\n",
        "    return True\n",
        "  else:\n",
        "    return False"
      ],
      "metadata": {
        "id": "Uob3hqapnOrl"
      },
      "execution_count": null,
      "outputs": []
    },
    {
      "cell_type": "code",
      "source": [
        "list(filter(numero_es_positivo,numeros))"
      ],
      "metadata": {
        "colab": {
          "base_uri": "https://localhost:8080/"
        },
        "id": "c7mwpCkynjXn",
        "outputId": "af5da929-7ea9-4517-d841-3f9101da813e"
      },
      "execution_count": null,
      "outputs": [
        {
          "output_type": "execute_result",
          "data": {
            "text/plain": [
              "[5, 8, 9, 78, 45, 12, 48, 25, 47]"
            ]
          },
          "metadata": {},
          "execution_count": 25
        }
      ]
    },
    {
      "cell_type": "markdown",
      "source": [
        "filter funciona de la siguiente manera:\n",
        "\n",
        "Recibe una función que regrese True o False.\n",
        "Recibe una lista.\n",
        "Va recorriendo la lista elemento por elemento y le aplica la función a cada elemento de la lista.\n",
        "Cada vez que la función regresa True, filter agrega ese elemento a una nueva lista (la que vamos a obtener de regreso). Cada vez que la función regresa False, filter descarta ese elemento y no lo agrega a la nueva lista.\n",
        "Es por eso que en nuestro ejemplo ya solamente tenemos los elementos que son positivos. Veamos qué pasaría si quisiéramos ahora filtrar los números negativos:"
      ],
      "metadata": {
        "id": "bQTIPHnpn1_f"
      }
    },
    {
      "cell_type": "code",
      "source": [
        "def numero_es_negativo(numeros):\n",
        "  if numeros < 0:\n",
        "    return True\n",
        "  else:\n",
        "    return False"
      ],
      "metadata": {
        "id": "zxbgr_OEn3qI"
      },
      "execution_count": null,
      "outputs": []
    },
    {
      "cell_type": "code",
      "source": [
        "list(filter(numero_es_negativo,numeros))"
      ],
      "metadata": {
        "colab": {
          "base_uri": "https://localhost:8080/"
        },
        "id": "IjO1hlmcoQjf",
        "outputId": "fd6b959b-c2f6-45d0-d6ce-ad739efbb0fc"
      },
      "execution_count": null,
      "outputs": [
        {
          "output_type": "execute_result",
          "data": {
            "text/plain": [
              "[-2, -34, -67, -94, -76, -3]"
            ]
          },
          "metadata": {},
          "execution_count": 29
        }
      ]
    },
    {
      "cell_type": "markdown",
      "source": [
        "Ahora nuestra función regresa True cuando el número es negativo (if numero < 0). Por lo tanto, filter agrega a la nueva lista todos los números negativos y deja fuera los positivos."
      ],
      "metadata": {
        "id": "sgJ_p5dKoowN"
      }
    },
    {
      "cell_type": "markdown",
      "source": [
        "<h2>Operadores lógicos</h2>\n",
        "\n",
        "Los operadores lógicos complementan las funcionalidades de los operadores de comparación. Podríamos decir que \"extienden\" las funcionalidades. Los operadores lógicos toman una o dos sentencias de comparación y regresan un valor (booleano) que depende del resultado de las comparaciones y del operador lógico que se esté usando.\n",
        "\n",
        "<h3>And</h3>\n",
        "\n",
        "And une dos sentencias de comparación y regresa True sólo cuando ambas sentencias regresen True. En este primer ejemplo, estamos reemplazando las sentencias por simples booleanos, pero sólo lo hacemos para simplificar la lógica y hacer muy evidente el funcionamiento de and"
      ],
      "metadata": {
        "id": "sS65tauyo--i"
      }
    },
    {
      "cell_type": "code",
      "source": [
        "print(f'{(\"\"):8}|{(\"True\"):8}|{(\"False\"):8}')\n",
        "print(f'{(\"True\"):8}|{(True and True):8}|{(True and False):8}')\n",
        "print(f'{(\"False\"):8}|{(False and True):8}|{(False and False):8}')"
      ],
      "metadata": {
        "colab": {
          "base_uri": "https://localhost:8080/"
        },
        "id": "_EJOWfHSop5P",
        "outputId": "f3ee4ad1-37dc-4797-9e0f-35074ae20c3d"
      },
      "execution_count": null,
      "outputs": [
        {
          "output_type": "stream",
          "name": "stdout",
          "text": [
            "        |True    |False   \n",
            "True    |       1|       0\n",
            "False   |       0|       0\n"
          ]
        }
      ]
    },
    {
      "cell_type": "code",
      "source": [
        "(5 > 2) and (10 ==10)"
      ],
      "metadata": {
        "colab": {
          "base_uri": "https://localhost:8080/"
        },
        "id": "6_wJvpRJqqm7",
        "outputId": "a029adf9-4f8a-4ef9-f59d-3cacdced2a61"
      },
      "execution_count": null,
      "outputs": [
        {
          "output_type": "execute_result",
          "data": {
            "text/plain": [
              "True"
            ]
          },
          "metadata": {},
          "execution_count": 31
        }
      ]
    },
    {
      "cell_type": "code",
      "source": [
        "(5 > 2) and (10 < 8)"
      ],
      "metadata": {
        "colab": {
          "base_uri": "https://localhost:8080/"
        },
        "id": "2lRa4FfWq3He",
        "outputId": "aea0908e-7dff-4d75-a353-f985d1b7aa11"
      },
      "execution_count": null,
      "outputs": [
        {
          "output_type": "execute_result",
          "data": {
            "text/plain": [
              "False"
            ]
          },
          "metadata": {},
          "execution_count": 32
        }
      ]
    },
    {
      "cell_type": "code",
      "source": [
        "(5 != 5) and (10 > 8)"
      ],
      "metadata": {
        "colab": {
          "base_uri": "https://localhost:8080/"
        },
        "id": "0q33QAqErGI4",
        "outputId": "ba38bfa2-d324-45ba-8ece-92213975bc30"
      },
      "execution_count": null,
      "outputs": [
        {
          "output_type": "execute_result",
          "data": {
            "text/plain": [
              "False"
            ]
          },
          "metadata": {},
          "execution_count": 33
        }
      ]
    },
    {
      "cell_type": "code",
      "source": [
        "(5 != 5) and (10 == 8)"
      ],
      "metadata": {
        "colab": {
          "base_uri": "https://localhost:8080/"
        },
        "id": "Kk-2qHR-rOJ3",
        "outputId": "e64522ad-0aac-4fac-d7cb-e502ce03e93a"
      },
      "execution_count": null,
      "outputs": [
        {
          "output_type": "execute_result",
          "data": {
            "text/plain": [
              "False"
            ]
          },
          "metadata": {},
          "execution_count": 34
        }
      ]
    },
    {
      "cell_type": "code",
      "source": [
        "numeros = [3,6,78,54,36,55,32,13,37,89,87,88,90,63,74,5,97,6,3,225,46,79]"
      ],
      "metadata": {
        "id": "GrGLMYNArWfC"
      },
      "execution_count": null,
      "outputs": []
    },
    {
      "cell_type": "code",
      "source": [
        "def numero_es_par(numeros):\n",
        "  if numeros % 2 == 0:\n",
        "    return True\n",
        "  else:\n",
        "    return False"
      ],
      "metadata": {
        "id": "u2QpOqabrwDa"
      },
      "execution_count": null,
      "outputs": []
    },
    {
      "cell_type": "code",
      "source": [
        "def numero_mayor_a_50(numeros):\n",
        "  if numeros > 50:\n",
        "    return True\n",
        "  else:\n",
        "    return False"
      ],
      "metadata": {
        "id": "wEHcF-m3sDw3"
      },
      "execution_count": null,
      "outputs": []
    },
    {
      "cell_type": "code",
      "source": [
        "def numero_es_par_y_mayor_a_50(numeros):\n",
        "  if numero_es_par(numeros) and numero_mayor_a_50(numeros):\n",
        "    return True\n",
        "  else:\n",
        "    return False"
      ],
      "metadata": {
        "id": "PAAchanosbEL"
      },
      "execution_count": null,
      "outputs": []
    },
    {
      "cell_type": "code",
      "source": [
        "list(filter(numero_es_par_y_mayor_a_50,numeros))"
      ],
      "metadata": {
        "colab": {
          "base_uri": "https://localhost:8080/"
        },
        "id": "XsFydOgWs-V5",
        "outputId": "65b42e30-c966-470d-982f-4b2738706994"
      },
      "execution_count": null,
      "outputs": [
        {
          "output_type": "execute_result",
          "data": {
            "text/plain": [
              "[78, 54, 88, 90, 74]"
            ]
          },
          "metadata": {},
          "execution_count": 40
        }
      ]
    },
    {
      "cell_type": "markdown",
      "source": [
        "<h3>Or</h3>\n",
        "\n",
        "Or une dos sentencias de comparación y regresa True si una de las dos o ambas sentencias regresen True. Es decir, si hay True en nuestra sentencia, or regresa True:"
      ],
      "metadata": {
        "id": "i6xyKqDpvnY7"
      }
    },
    {
      "cell_type": "code",
      "source": [
        "print(f'{(\"\"):8}|{(\"True\"):8}|{(\"False\"):8}')\n",
        "print(f'{(\"True\"):8}|{(True or True):8}|{(True or False):8}')\n",
        "print(f'{(\"False\"):8}|{(False or True):8}|{(False or False):8}')"
      ],
      "metadata": {
        "colab": {
          "base_uri": "https://localhost:8080/"
        },
        "id": "NZjZ3rEqvsJ5",
        "outputId": "c779cdc9-83bb-47df-b139-d8074ab5113f"
      },
      "execution_count": null,
      "outputs": [
        {
          "output_type": "stream",
          "name": "stdout",
          "text": [
            "        |True    |False   \n",
            "True    |       1|       1\n",
            "False   |       1|       0\n"
          ]
        }
      ]
    },
    {
      "cell_type": "code",
      "source": [
        "(4 < 19) or (12 > 34)"
      ],
      "metadata": {
        "colab": {
          "base_uri": "https://localhost:8080/"
        },
        "id": "kI8rpibtwErO",
        "outputId": "8ae26ad1-b330-4c0a-a94b-b6cefe37db81"
      },
      "execution_count": null,
      "outputs": [
        {
          "output_type": "execute_result",
          "data": {
            "text/plain": [
              "True"
            ]
          },
          "metadata": {},
          "execution_count": 2
        }
      ]
    },
    {
      "cell_type": "code",
      "source": [
        "(3 > 34) or (10 == 22)"
      ],
      "metadata": {
        "colab": {
          "base_uri": "https://localhost:8080/"
        },
        "id": "c9pcOtuZwTBv",
        "outputId": "c809871a-3e60-4caf-e4f9-47587eeb8666"
      },
      "execution_count": null,
      "outputs": [
        {
          "output_type": "execute_result",
          "data": {
            "text/plain": [
              "False"
            ]
          },
          "metadata": {},
          "execution_count": 3
        }
      ]
    },
    {
      "cell_type": "markdown",
      "source": [
        "Veamos este operador usado en nuestra función filter. Vamos a usar las mismas funciones que usamos en el ´and´ pero ahora vamos a usar or para unirlas. Eso quiere decir que nuestro filter va regresar todos los valores que sean pares o que sean mayores a 50:"
      ],
      "metadata": {
        "id": "rlKvGBk8wks5"
      }
    },
    {
      "cell_type": "code",
      "source": [
        "def numero_es_par_o_mayor_a_50(numeros):\n",
        "  if numero_es_par(numeros) or numero_mayor_a_50(numeros):\n",
        "    return True\n",
        "  else:\n",
        "    return False"
      ],
      "metadata": {
        "id": "g5xBM0oMwj1V"
      },
      "execution_count": null,
      "outputs": []
    },
    {
      "cell_type": "code",
      "source": [
        "list(filter(numero_es_par_o_mayor_a_50,numeros))"
      ],
      "metadata": {
        "colab": {
          "base_uri": "https://localhost:8080/"
        },
        "id": "5Gwh-TRiw5K5",
        "outputId": "1a6bb990-b719-448f-c07d-665bb6df128f"
      },
      "execution_count": null,
      "outputs": [
        {
          "output_type": "execute_result",
          "data": {
            "text/plain": [
              "[6, 78, 54, 36, 55, 32, 89, 87, 88, 90, 63, 74, 97, 6, 225, 46, 79]"
            ]
          },
          "metadata": {},
          "execution_count": 10
        }
      ]
    },
    {
      "cell_type": "markdown",
      "source": [
        "<h3>Not</h3>\n",
        "\n",
        "El último operador es mucho más sencillo. Lo único que hace este operador es regresar el valor booleano opuesto al que recibió:"
      ],
      "metadata": {
        "id": "ziqqssm_xQy0"
      }
    },
    {
      "cell_type": "code",
      "source": [
        "print(f'{(\"True\"):8}|{(not True):8}')\n",
        "print(f'{(\"False\"):8}|{(not False):8}')"
      ],
      "metadata": {
        "colab": {
          "base_uri": "https://localhost:8080/"
        },
        "id": "6KcGm213xVyu",
        "outputId": "69bb2fe5-d85b-405a-d5a2-45fd590cdcf0"
      },
      "execution_count": null,
      "outputs": [
        {
          "output_type": "stream",
          "name": "stdout",
          "text": [
            "True    |       0\n",
            "False   |       1\n"
          ]
        }
      ]
    },
    {
      "cell_type": "code",
      "source": [
        "list(filter(lambda x: not numero_es_par(x),numeros))"
      ],
      "metadata": {
        "colab": {
          "base_uri": "https://localhost:8080/"
        },
        "id": "BeMAqdh5yDn4",
        "outputId": "7e84d28a-f200-443a-8057-99867c541b1d"
      },
      "execution_count": null,
      "outputs": [
        {
          "output_type": "execute_result",
          "data": {
            "text/plain": [
              "[3, 55, 13, 37, 89, 87, 63, 5, 97, 3, 225, 79]"
            ]
          },
          "metadata": {},
          "execution_count": 12
        }
      ]
    },
    {
      "cell_type": "markdown",
      "source": [
        "<h3>Funciones lambda</h3>\n",
        "\n",
        "Las funciones lambda son simplemente maneras simplificadas de escribir las funciones que ya conocemos tan bien.En programación, una función lambda, también denominada función anónima, función literal o función sencilla, es una definición de función que no está vinculada a un identificador.\n",
        "\n",
        "La sintaxis de una función lambda es la siguiente:\n",
        "\n",
        "(parámetros) -> expresión\n",
        "\n",
        "\n",
        "En programación, una función lambda, también denominada función anónima, función literal o función sencilla, es una definición de función que no está vinculada a un identificador. Las funciones lambda suelen ser argumentos que se pasan a funciones de orden superior o se utilizan para construir el resultado de una función de orden superior que necesita devolver una función.\n",
        "\n",
        "La sintaxis de una función lambda es la siguiente:\n",
        "\n",
        "(parámetros) -> expresión\n",
        "donde:\n",
        "\n",
        "* parámetros es una lista de parámetros separados por comas.\n",
        "* expresión es la expresión que se evaluará.\n",
        "\n"
      ],
      "metadata": {
        "id": "faEn0MXEyeb4"
      }
    },
    {
      "cell_type": "code",
      "source": [
        "lista = [1, 2, 3, 4, 5]\n",
        "\n",
        "nueva_lista = map(lambda a, b: a + b, lista, lista)\n",
        "\n",
        "print(nueva_lista)"
      ],
      "metadata": {
        "colab": {
          "base_uri": "https://localhost:8080/"
        },
        "id": "XgEmJhK2HxUy",
        "outputId": "7abd5de4-ce59-4d87-c643-6c894caca4a8"
      },
      "execution_count": null,
      "outputs": [
        {
          "output_type": "stream",
          "name": "stdout",
          "text": [
            "<map object at 0x7a2538f0f040>\n"
          ]
        }
      ]
    },
    {
      "cell_type": "code",
      "source": [
        "numero = 5\n",
        "\n",
        "cuadrado = lambda x: x * x\n",
        "\n",
        "print(cuadrado(numero))"
      ],
      "metadata": {
        "colab": {
          "base_uri": "https://localhost:8080/"
        },
        "id": "0QhLmh9fH-MJ",
        "outputId": "4529b1e9-5e8d-4e57-d991-7bdcbad19799"
      },
      "execution_count": null,
      "outputs": [
        {
          "output_type": "stream",
          "name": "stdout",
          "text": [
            "25\n"
          ]
        }
      ]
    },
    {
      "cell_type": "code",
      "source": [
        "numeros = [1,2,3,4,5,6,7,8]\n",
        "\n",
        "list(map(lambda x: x * 100, numeros))"
      ],
      "metadata": {
        "colab": {
          "base_uri": "https://localhost:8080/"
        },
        "id": "88pQQ78eIFN0",
        "outputId": "47f30874-2adf-482e-a8c0-70d3ebe5ec0b"
      },
      "execution_count": null,
      "outputs": [
        {
          "output_type": "execute_result",
          "data": {
            "text/plain": [
              "[100, 200, 300, 400, 500, 600, 700, 800]"
            ]
          },
          "metadata": {},
          "execution_count": 15
        }
      ]
    },
    {
      "cell_type": "code",
      "source": [
        "list(map(lambda x: x * (x + 1),numeros))"
      ],
      "metadata": {
        "colab": {
          "base_uri": "https://localhost:8080/"
        },
        "id": "i1WaAAXuIWML",
        "outputId": "9c616230-b869-4316-de66-130637d8cbee"
      },
      "execution_count": null,
      "outputs": [
        {
          "output_type": "execute_result",
          "data": {
            "text/plain": [
              "[2, 6, 12, 20, 30, 42, 56, 72]"
            ]
          },
          "metadata": {},
          "execution_count": 16
        }
      ]
    },
    {
      "cell_type": "code",
      "source": [
        "list(filter(lambda x: x > 5, numeros))"
      ],
      "metadata": {
        "colab": {
          "base_uri": "https://localhost:8080/"
        },
        "id": "zk5xALnRImch",
        "outputId": "34f44022-8695-4a9d-9f23-5ea471797cb3"
      },
      "execution_count": null,
      "outputs": [
        {
          "output_type": "execute_result",
          "data": {
            "text/plain": [
              "[6, 7, 8]"
            ]
          },
          "metadata": {},
          "execution_count": 17
        }
      ]
    },
    {
      "cell_type": "code",
      "source": [
        "list(filter(lambda x: not numero_es_par(x),numeros))"
      ],
      "metadata": {
        "colab": {
          "base_uri": "https://localhost:8080/"
        },
        "id": "Qa5FTuZnIyKd",
        "outputId": "0fcfa314-f4a9-4f6c-e57a-d68d4402635b"
      },
      "execution_count": null,
      "outputs": [
        {
          "output_type": "execute_result",
          "data": {
            "text/plain": [
              "[1, 3, 5, 7]"
            ]
          },
          "metadata": {},
          "execution_count": 18
        }
      ]
    }
  ]
}