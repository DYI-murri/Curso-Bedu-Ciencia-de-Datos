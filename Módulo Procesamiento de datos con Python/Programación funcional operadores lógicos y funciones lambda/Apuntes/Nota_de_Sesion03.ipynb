{
  "nbformat": 4,
  "nbformat_minor": 0,
  "metadata": {
    "colab": {
      "provenance": [],
      "collapsed_sections": [
        "8RMkMp2LhkfO",
        "NQxb3lqUhnwa",
        "WEWRH0Y9hq-D",
        "ZZKhxphOhtqh",
        "ZP_iIzhrhyBL"
      ]
    },
    "kernelspec": {
      "name": "python3",
      "display_name": "Python 3"
    },
    "language_info": {
      "name": "python"
    }
  },
  "cells": [
    {
      "cell_type": "markdown",
      "source": [
        "# Sesión 03: Programación funcional, operadores lógicos y funciones lambda"
      ],
      "metadata": {
        "id": "0l_nWEjr1DLm"
      }
    },
    {
      "cell_type": "markdown",
      "source": [
        "## Ejemplo 1: Map"
      ],
      "metadata": {
        "id": "8RMkMp2LhkfO"
      }
    },
    {
      "cell_type": "code",
      "source": [],
      "metadata": {
        "id": "Qe67T2FgWJLi"
      },
      "execution_count": null,
      "outputs": []
    },
    {
      "cell_type": "code",
      "source": [
        "numeros = [1,2,3,4,5,6,7,8,9,10]"
      ],
      "metadata": {
        "id": "RTJeSg1hyA5z"
      },
      "execution_count": null,
      "outputs": []
    },
    {
      "cell_type": "code",
      "source": [
        "def multiplicar_por_10(numero):\n",
        "  return numero * 10"
      ],
      "metadata": {
        "id": "uyK0Lg0N0vZS"
      },
      "execution_count": null,
      "outputs": []
    },
    {
      "cell_type": "code",
      "source": [
        "map(multiplicar_por_10, numeros)"
      ],
      "metadata": {
        "colab": {
          "base_uri": "https://localhost:8080/"
        },
        "id": "e_U_bOU-09fA",
        "outputId": "f09dbf18-8068-4aa7-b510-82fa987d2870"
      },
      "execution_count": null,
      "outputs": [
        {
          "output_type": "execute_result",
          "data": {
            "text/plain": [
              "<map at 0x7947f085d1b0>"
            ]
          },
          "metadata": {},
          "execution_count": 3
        }
      ]
    },
    {
      "cell_type": "code",
      "source": [
        "# Casting\n",
        "list(map(multiplicar_por_10, numeros))"
      ],
      "metadata": {
        "colab": {
          "base_uri": "https://localhost:8080/"
        },
        "id": "Cr21JWh31Jpp",
        "outputId": "0569f443-5042-40ae-98ca-19bbaa34596b"
      },
      "execution_count": null,
      "outputs": [
        {
          "output_type": "execute_result",
          "data": {
            "text/plain": [
              "[10, 20, 30, 40, 50, 60, 70, 80, 90, 100]"
            ]
          },
          "metadata": {},
          "execution_count": 4
        }
      ]
    },
    {
      "cell_type": "code",
      "source": [
        "def convertir_en_string_mas_unidad(numero):\n",
        "  return f'{numero} seg'"
      ],
      "metadata": {
        "id": "C9CGgwBS1dsO"
      },
      "execution_count": null,
      "outputs": []
    },
    {
      "cell_type": "code",
      "source": [
        "tuple(map(convertir_en_string_mas_unidad, numeros))"
      ],
      "metadata": {
        "colab": {
          "base_uri": "https://localhost:8080/"
        },
        "id": "UIyASlTP1u0I",
        "outputId": "011ddd07-6d71-4d04-9f24-8e5787ed8e28"
      },
      "execution_count": null,
      "outputs": [
        {
          "output_type": "execute_result",
          "data": {
            "text/plain": [
              "('1 seg',\n",
              " '2 seg',\n",
              " '3 seg',\n",
              " '4 seg',\n",
              " '5 seg',\n",
              " '6 seg',\n",
              " '7 seg',\n",
              " '8 seg',\n",
              " '9 seg',\n",
              " '10 seg')"
            ]
          },
          "metadata": {},
          "execution_count": 7
        }
      ]
    },
    {
      "cell_type": "code",
      "source": [
        "numeros_2 = [654,987,32,654,987,654654654,987987987,65214654654654654654654654]"
      ],
      "metadata": {
        "id": "XRY4h5xG2CIY"
      },
      "execution_count": null,
      "outputs": []
    },
    {
      "cell_type": "code",
      "source": [
        "def convertir_a_numeros_negativos(valor):\n",
        "  return valor * -1"
      ],
      "metadata": {
        "id": "-al_F-eK2YtB"
      },
      "execution_count": null,
      "outputs": []
    },
    {
      "cell_type": "code",
      "source": [
        "list(map(convertir_a_numeros_negativos, numeros_2))"
      ],
      "metadata": {
        "colab": {
          "base_uri": "https://localhost:8080/"
        },
        "id": "BMQ18pin2hdI",
        "outputId": "2babf405-6fb1-4a4e-91ee-a41a8339832b"
      },
      "execution_count": null,
      "outputs": [
        {
          "output_type": "execute_result",
          "data": {
            "text/plain": [
              "[-654,\n",
              " -987,\n",
              " -32,\n",
              " -654,\n",
              " -987,\n",
              " -654654654,\n",
              " -987987987,\n",
              " -65214654654654654654654654]"
            ]
          },
          "metadata": {},
          "execution_count": 10
        }
      ]
    },
    {
      "cell_type": "code",
      "source": [
        "def convertir_en_0_si_menor_a_5(numero):\n",
        "  if numero < 987:\n",
        "    return 0\n",
        "  else:\n",
        "    return numero"
      ],
      "metadata": {
        "id": "THQUbnFT2mVY"
      },
      "execution_count": null,
      "outputs": []
    },
    {
      "cell_type": "code",
      "source": [],
      "metadata": {
        "id": "7a4dMZYt3RKo"
      },
      "execution_count": null,
      "outputs": []
    },
    {
      "cell_type": "code",
      "source": [
        "list(map(convertir_en_0_si_menor_a_5, numeros_2))"
      ],
      "metadata": {
        "colab": {
          "base_uri": "https://localhost:8080/"
        },
        "id": "TyfMhVJR3L5R",
        "outputId": "86ec6785-23c5-40f6-fb5b-7b61622c8a63"
      },
      "execution_count": null,
      "outputs": [
        {
          "output_type": "execute_result",
          "data": {
            "text/plain": [
              "[0, 987, 0, 0, 987, 654654654, 987987987, 65214654654654654654654654]"
            ]
          },
          "metadata": {},
          "execution_count": 14
        }
      ]
    },
    {
      "cell_type": "code",
      "source": [
        "def convertir_en_true_si_mayor_a_6(numero):\n",
        "  if numero > 6:\n",
        "        return True\n",
        "  else:\n",
        "        return False"
      ],
      "metadata": {
        "id": "iOMyCRgV4kZK"
      },
      "execution_count": null,
      "outputs": []
    },
    {
      "cell_type": "code",
      "source": [
        "list(map(convertir_en_true_si_mayor_a_6, numeros))"
      ],
      "metadata": {
        "colab": {
          "base_uri": "https://localhost:8080/"
        },
        "id": "J5JsEUG-4uYI",
        "outputId": "06d9cf5f-c521-42b4-8119-aa53419ba094"
      },
      "execution_count": null,
      "outputs": [
        {
          "output_type": "execute_result",
          "data": {
            "text/plain": [
              "[False, False, False, False, False, False, True, True, True, True]"
            ]
          },
          "metadata": {},
          "execution_count": 17
        }
      ]
    },
    {
      "cell_type": "code",
      "source": [],
      "metadata": {
        "id": "lCqrwBy4-Qyh"
      },
      "execution_count": null,
      "outputs": []
    },
    {
      "cell_type": "code",
      "source": [
        "proporciones = [0.45, 0.2, 0.78, 0.4, 0.77, 0.9, 0.4, 0.5, 0.67, 0.24, 0.73]\n",
        "def proporcion_a_porcentajes(proporcion):\n",
        "\n",
        "    # return proporcion * 100\n",
        "    return f'{proporcion * 100} %'\n",
        "\n",
        "porcentajes = list(map(proporcion_a_porcentajes, proporciones))\n",
        "print(porcentajes)"
      ],
      "metadata": {
        "colab": {
          "base_uri": "https://localhost:8080/"
        },
        "id": "ZrrhJRJh-JAZ",
        "outputId": "4222e7b9-a2f2-4657-8f64-dfcbd1ae82ca"
      },
      "execution_count": null,
      "outputs": [
        {
          "output_type": "stream",
          "name": "stdout",
          "text": [
            "['45.0 %', '20.0 %', '78.0 %', '40.0 %', '77.0 %', '90.0 %', '40.0 %', '50.0 %', '67.0 %', '24.0 %', '73.0 %']\n"
          ]
        }
      ]
    },
    {
      "cell_type": "code",
      "source": [],
      "metadata": {
        "id": "GoAoOrm7_d1o"
      },
      "execution_count": null,
      "outputs": []
    },
    {
      "cell_type": "code",
      "source": [
        "numeros_como_strings = [\"3\", \"7\", \"45\", \"89\", \"12\", \"9\", \"5\", \"89\", \"78\", \"87\", \"44\", \"45\", \"26\", \"84\", \"98\", \"46\", \"99\", \"84\"]\n",
        "\n",
        "def string_a_int(valor):\n",
        "    return int(valor) # Convertir un dato a un tipo de dato en particular int()\n",
        "\n",
        "datos = list(map(string_a_int, numeros_como_strings))\n",
        "print(datos)"
      ],
      "metadata": {
        "colab": {
          "base_uri": "https://localhost:8080/"
        },
        "id": "HRNa7sSy-bRG",
        "outputId": "cf87be12-34a6-408e-d136-368b4f9c87e2"
      },
      "execution_count": null,
      "outputs": [
        {
          "output_type": "stream",
          "name": "stdout",
          "text": [
            "[3, 7, 45, 89, 12, 9, 5, 89, 78, 87, 44, 45, 26, 84, 98, 46, 99, 84]\n"
          ]
        }
      ]
    },
    {
      "cell_type": "code",
      "source": [
        "# Definimos una función que toma dos argumentos\n",
        "def sumar(a, b):\n",
        "    return a + b\n",
        "\n",
        "# Dos listas (iterables) de la misma longitud\n",
        "lista1 = [1, 2, 3, 4, 5]\n",
        "lista2 = [10, 20, 30, 40, 50]\n",
        "\n",
        "# Usamos map para aplicar la función 'sumar' a cada par de elementos de las listas\n",
        "resultado = map(sumar, lista1, lista2)\n",
        "\n",
        "# Convertimos el resultado a lista para visualizarlo\n",
        "resultado_en_lista = list(resultado)\n",
        "print(resultado_en_lista)  # [11, 22, 33, 44, 55]"
      ],
      "metadata": {
        "colab": {
          "base_uri": "https://localhost:8080/"
        },
        "id": "TOVjbbp-AZq7",
        "outputId": "67bc211b-5733-4e5b-fe7b-37a45d6855ed"
      },
      "execution_count": null,
      "outputs": [
        {
          "output_type": "stream",
          "name": "stdout",
          "text": [
            "[11, 22, 33, 44, 55]\n"
          ]
        }
      ]
    },
    {
      "cell_type": "markdown",
      "source": [
        "## Ejemplo 2: Filter"
      ],
      "metadata": {
        "id": "NQxb3lqUhnwa"
      }
    },
    {
      "cell_type": "code",
      "source": [
        "numeros = [1, 2, 3, 4, 5, 6, 7, 8, 9, 10]"
      ],
      "metadata": {
        "id": "8hGfnE1sAOio"
      },
      "execution_count": null,
      "outputs": []
    },
    {
      "cell_type": "code",
      "source": [
        "def numero_es_par(numero):\n",
        "\n",
        "    if numero % 2 == 0:\n",
        "        return True\n",
        "    else:\n",
        "        return False"
      ],
      "metadata": {
        "id": "YiAf4sPiBX7a"
      },
      "execution_count": null,
      "outputs": []
    },
    {
      "cell_type": "code",
      "source": [
        "list(filter(numero_es_par, numeros))"
      ],
      "metadata": {
        "colab": {
          "base_uri": "https://localhost:8080/"
        },
        "id": "kMcJVMoxBoW5",
        "outputId": "cba7f7d9-27e9-4da2-fdec-8ec42d78681c"
      },
      "execution_count": null,
      "outputs": [
        {
          "output_type": "execute_result",
          "data": {
            "text/plain": [
              "[2, 4, 6, 8, 10]"
            ]
          },
          "metadata": {},
          "execution_count": 41
        }
      ]
    },
    {
      "cell_type": "code",
      "source": [
        "def numero_es_mayor_a_5(numero):\n",
        "\n",
        "    if numero > 5:\n",
        "        return True"
      ],
      "metadata": {
        "id": "zXZzciAiBwfi"
      },
      "execution_count": null,
      "outputs": []
    },
    {
      "cell_type": "code",
      "source": [
        "list(filter(numero_es_mayor_a_5, numeros))"
      ],
      "metadata": {
        "colab": {
          "base_uri": "https://localhost:8080/"
        },
        "id": "fYKlR0PQB-ay",
        "outputId": "8d7e8da0-9eb2-44d5-e91a-4ca73830fa64"
      },
      "execution_count": null,
      "outputs": [
        {
          "output_type": "execute_result",
          "data": {
            "text/plain": [
              "[6, 7, 8, 9, 10]"
            ]
          },
          "metadata": {},
          "execution_count": 43
        }
      ]
    },
    {
      "cell_type": "code",
      "source": [
        "palabras = [\"achicoria\", \"pasto\", \"sol\", \"loquillo\", \"moquillo\", \"sed\", \"pez\", \"jacaranda\", \"mil\"]\n"
      ],
      "metadata": {
        "id": "wl2BEzcwCAXa"
      },
      "execution_count": null,
      "outputs": []
    },
    {
      "cell_type": "code",
      "source": [
        "def palabra_tiene_mas_de_5_caracteres(palabra):\n",
        "  if len(palabra) > 5:\n",
        "    return True"
      ],
      "metadata": {
        "id": "xSLiIC42CLhB"
      },
      "execution_count": null,
      "outputs": []
    },
    {
      "cell_type": "code",
      "source": [
        "list(filter(palabra_tiene_mas_de_5_caracteres, palabras))"
      ],
      "metadata": {
        "colab": {
          "base_uri": "https://localhost:8080/"
        },
        "id": "UPgiJX3hCX-o",
        "outputId": "8aa79e2c-7841-4f11-8bc4-45491646da42"
      },
      "execution_count": null,
      "outputs": [
        {
          "output_type": "execute_result",
          "data": {
            "text/plain": [
              "['achicoria', 'loquillo', 'moquillo', 'jacaranda']"
            ]
          },
          "metadata": {},
          "execution_count": 46
        }
      ]
    },
    {
      "cell_type": "code",
      "source": [
        "numeros = [3, 5, -1, -7, -8, 4, -78, 5, -46, 56, 98, 9, -1, -2, -4]"
      ],
      "metadata": {
        "id": "QUZOlePFCbrZ"
      },
      "execution_count": null,
      "outputs": []
    },
    {
      "cell_type": "code",
      "source": [
        "def numero_es_negativo(numero):\n",
        "\n",
        "    if numero < 0:\n",
        "        return True"
      ],
      "metadata": {
        "id": "cUDVlBkqCuUb"
      },
      "execution_count": null,
      "outputs": []
    },
    {
      "cell_type": "code",
      "source": [
        "list(filter(numero_es_negativo, numeros))"
      ],
      "metadata": {
        "colab": {
          "base_uri": "https://localhost:8080/"
        },
        "id": "4x6RjotyCy2T",
        "outputId": "6b915f60-eaaf-4f47-8328-740a8dde42ae"
      },
      "execution_count": null,
      "outputs": [
        {
          "output_type": "execute_result",
          "data": {
            "text/plain": [
              "[-1, -7, -8, -78, -46, -1, -2, -4]"
            ]
          },
          "metadata": {},
          "execution_count": 49
        }
      ]
    },
    {
      "cell_type": "code",
      "source": [],
      "metadata": {
        "id": "KcesKkRPC2pS"
      },
      "execution_count": null,
      "outputs": []
    },
    {
      "cell_type": "code",
      "source": [
        "# Diccionario de artículos con sus cantidades\n",
        "inventario = {\n",
        "    \"manzanas\": 30,\n",
        "    \"plátanos\": -5,\n",
        "    \"naranjas\": 20,\n",
        "    \"peras\": -10,\n",
        "    \"uvas\": 15\n",
        "}\n",
        "\n",
        "# Función para verificar si la cantidad de un artículo es negativa\n",
        "def es_negativo(item):\n",
        "    articulo, cantidad = item\n",
        "    return cantidad < 0\n",
        "\n",
        "# Usar filter para obtener artículos con cantidad negativa\n",
        "articulos_negativos = filter(es_negativo, inventario.items())\n",
        "\n",
        "# Convertir a lista para mostrar el resultado\n",
        "articulos_negativos_lista = list(articulos_negativos)\n",
        "print(articulos_negativos_lista)  # [('plátanos', -5), ('peras', -10)]\n"
      ],
      "metadata": {
        "colab": {
          "base_uri": "https://localhost:8080/"
        },
        "id": "cxnMHm4KBtY6",
        "outputId": "17b22b93-22ec-44c8-92d3-7b31811bdee1"
      },
      "execution_count": null,
      "outputs": [
        {
          "output_type": "stream",
          "name": "stdout",
          "text": [
            "[('plátanos', -5), ('peras', -10)]\n"
          ]
        }
      ]
    },
    {
      "cell_type": "code",
      "source": [
        "# Solucion del reto\n",
        "edades = [12, 16, 19, None, 21, 25, 24, None, None, 16, 17, 25, 23, 28, None, 23, 35, 59, 67, None, 34, 21, 23, 15, 14, None, 18, 24, 23, 17]"
      ],
      "metadata": {
        "id": "V4m_JEMoDRgb"
      },
      "execution_count": null,
      "outputs": []
    },
    {
      "cell_type": "code",
      "source": [
        "def valor_no_es_none(valor):\n",
        "    if valor != None:\n",
        "        return True"
      ],
      "metadata": {
        "id": "Yfyjx0aUE8Wq"
      },
      "execution_count": null,
      "outputs": []
    },
    {
      "cell_type": "code",
      "source": [
        "edades_filtradas = list(filter(valor_no_es_none, edades))\n",
        "print(edades_filtradas)"
      ],
      "metadata": {
        "colab": {
          "base_uri": "https://localhost:8080/"
        },
        "id": "7EzILKLiFDfq",
        "outputId": "55b01729-ca26-4187-9928-88cfb50584d2"
      },
      "execution_count": null,
      "outputs": [
        {
          "output_type": "stream",
          "name": "stdout",
          "text": [
            "[12, 16, 19, 21, 25, 24, 16, 17, 25, 23, 28, 23, 35, 59, 67, 34, 21, 23, 15, 14, 18, 24, 23, 17]\n"
          ]
        }
      ]
    },
    {
      "cell_type": "code",
      "source": [
        "def crear_histograma_con(datos):\n",
        "    import seaborn as sns\n",
        "    import numpy as np\n",
        "\n",
        "    sns.histplot(datos, kde=True, bins=len(np.unique(datos)))"
      ],
      "metadata": {
        "id": "1IoQFkbxFGfr"
      },
      "execution_count": null,
      "outputs": []
    },
    {
      "cell_type": "code",
      "source": [
        "crear_histograma_con(edades_filtradas)"
      ],
      "metadata": {
        "colab": {
          "base_uri": "https://localhost:8080/",
          "height": 430
        },
        "id": "r4js6bGdFSXy",
        "outputId": "73fc9cb9-4d44-4ef2-fae2-6b888490be18"
      },
      "execution_count": null,
      "outputs": [
        {
          "output_type": "display_data",
          "data": {
            "text/plain": [
              "<Figure size 640x480 with 1 Axes>"
            ],
            "image/png": "[encoded data removed]"
          },
          "metadata": {}
        }
      ]
    },
    {
      "cell_type": "code",
      "source": [
        "sueldos = [26, 32, 26, 30, 30, 32, 28, 30, 28, 110, 34, 30, 28, 26, 28, 30, 28, 85, 25, 30, 34, 34, 30, 30, 120, 28, 28, 120, 125]\n"
      ],
      "metadata": {
        "id": "SgbWXLSHFTcg"
      },
      "execution_count": null,
      "outputs": []
    },
    {
      "cell_type": "code",
      "source": [
        "def numero_es_menor_que_40(numero):\n",
        "\n",
        "    if numero < 40:\n",
        "        return True\n",
        "    else:\n",
        "        return False"
      ],
      "metadata": {
        "id": "BetIFhFDFXEa"
      },
      "execution_count": null,
      "outputs": []
    },
    {
      "cell_type": "code",
      "source": [
        "sueldos_filtrados = list(filter(numero_es_menor_que_40, sueldos))\n",
        "print(sueldos_filtrados)\n",
        "print(f'El sueldo \"típico\" en EyePoker Inc. es de {sum(sueldos_filtrados) / len(sueldos_filtrados)}')\n"
      ],
      "metadata": {
        "colab": {
          "base_uri": "https://localhost:8080/"
        },
        "id": "8X-Jg-FwFaNy",
        "outputId": "7e6152b2-0ed9-48ed-d155-6a88e7c50759"
      },
      "execution_count": null,
      "outputs": [
        {
          "output_type": "stream",
          "name": "stdout",
          "text": [
            "[26, 32, 26, 30, 30, 32, 28, 30, 28, 34, 30, 28, 26, 28, 30, 28, 25, 30, 34, 34, 30, 30, 28, 28]\n",
            "El sueldo \"típico\" en EyePoker Inc. es de 29.375\n"
          ]
        }
      ]
    },
    {
      "cell_type": "markdown",
      "source": [
        "## Ejemplo 3: And"
      ],
      "metadata": {
        "id": "WEWRH0Y9hq-D"
      }
    },
    {
      "cell_type": "code",
      "source": [
        "def numero_es_divisible_entre_3(numero):\n",
        "\n",
        "    if numero % 3 == 0:\n",
        "        return True\n",
        "    else:\n",
        "        return False"
      ],
      "metadata": {
        "id": "Vs0O-Th9IMrw"
      },
      "execution_count": null,
      "outputs": []
    },
    {
      "cell_type": "code",
      "source": [
        "def numero_es_menor_que_10(numero):\n",
        "\n",
        "    if numero < 10:\n",
        "        return True\n",
        "    else:\n",
        "        return False"
      ],
      "metadata": {
        "id": "Dr-AFd2JITHj"
      },
      "execution_count": null,
      "outputs": []
    },
    {
      "cell_type": "code",
      "source": [
        "numero_es_divisible_entre_3(9) and numero_es_menor_que_10(9)"
      ],
      "metadata": {
        "colab": {
          "base_uri": "https://localhost:8080/"
        },
        "id": "YyPes3IoIUtd",
        "outputId": "20b9ae23-fbcd-40a1-cd24-2a128e382e52"
      },
      "execution_count": null,
      "outputs": [
        {
          "output_type": "execute_result",
          "data": {
            "text/plain": [
              "True"
            ]
          },
          "metadata": {},
          "execution_count": 68
        }
      ]
    },
    {
      "cell_type": "code",
      "source": [
        "numero_es_divisible_entre_3(12) and numero_es_menor_que_10(12)\n"
      ],
      "metadata": {
        "colab": {
          "base_uri": "https://localhost:8080/"
        },
        "id": "ByQ9HydTIh46",
        "outputId": "9434e8fc-1da3-41cc-fc54-59791b264d0b"
      },
      "execution_count": null,
      "outputs": [
        {
          "output_type": "execute_result",
          "data": {
            "text/plain": [
              "False"
            ]
          },
          "metadata": {},
          "execution_count": 69
        }
      ]
    },
    {
      "cell_type": "code",
      "source": [
        "numero_es_divisible_entre_3(8) and numero_es_menor_que_10(8)\n",
        "# False AND True = False"
      ],
      "metadata": {
        "id": "GMhRsjOhIr4c"
      },
      "execution_count": null,
      "outputs": []
    },
    {
      "cell_type": "code",
      "source": [
        "numeros = [1, 2, 3, 4, 5, 6, 7, 8, 9, 10, 11, 12, 13, 14, 15, 16, 17, 18, 19, 20]"
      ],
      "metadata": {
        "id": "3He5CUi6JCFj"
      },
      "execution_count": null,
      "outputs": []
    },
    {
      "cell_type": "code",
      "source": [
        "def numero_es_divisible_entre_3_y_menor_que_10(numero):\n",
        "    return numero_es_divisible_entre_3(numero) and numero_es_menor_que_10(numero)\n"
      ],
      "metadata": {
        "id": "eWNK5DVoJEOc"
      },
      "execution_count": null,
      "outputs": []
    },
    {
      "cell_type": "code",
      "source": [
        "list(filter(numero_es_divisible_entre_3_y_menor_que_10, numeros))"
      ],
      "metadata": {
        "colab": {
          "base_uri": "https://localhost:8080/"
        },
        "id": "PqWLP1dEJamy",
        "outputId": "6c9d226c-8bd9-4b67-f972-51f1f37dd096"
      },
      "execution_count": null,
      "outputs": [
        {
          "output_type": "execute_result",
          "data": {
            "text/plain": [
              "[3, 6, 9]"
            ]
          },
          "metadata": {},
          "execution_count": 72
        }
      ]
    },
    {
      "cell_type": "code",
      "source": [],
      "metadata": {
        "id": "B485ZWblJesr"
      },
      "execution_count": null,
      "outputs": []
    },
    {
      "cell_type": "markdown",
      "source": [
        "## Ejemplo 4: Or"
      ],
      "metadata": {
        "id": "ZZKhxphOhtqh"
      }
    },
    {
      "cell_type": "code",
      "source": [
        "def numero_es_divisible_entre_3(numero):\n",
        "\n",
        "    if numero % 3 == 0:\n",
        "        return True\n",
        "    else:\n",
        "        return False"
      ],
      "metadata": {
        "id": "_HANtUplKGqP"
      },
      "execution_count": null,
      "outputs": []
    },
    {
      "cell_type": "code",
      "source": [
        "def numero_es_menor_que_10(numero):\n",
        "\n",
        "    if numero < 10:\n",
        "        return True\n",
        "    else:\n",
        "        return False"
      ],
      "metadata": {
        "id": "5GWZeUzfKIIs"
      },
      "execution_count": null,
      "outputs": []
    },
    {
      "cell_type": "code",
      "source": [
        "numeros = [1, 2, 3, 4, 5, 6, 7, 8, 9, 10, 11, 12, 13, 14, 15, 16, 17, 18, 19, 20]"
      ],
      "metadata": {
        "id": "EYpiMn1JLv3Q"
      },
      "execution_count": null,
      "outputs": []
    },
    {
      "cell_type": "code",
      "source": [
        "def numero_es_divisible_entre_3_o_menor_que_10(numero):\n",
        "\n",
        "    return numero_es_divisible_entre_3(numero) or numero_es_menor_que_10(numero)"
      ],
      "metadata": {
        "id": "riA2xkC_LwS1"
      },
      "execution_count": null,
      "outputs": []
    },
    {
      "cell_type": "code",
      "source": [
        "list(filter(numero_es_divisible_entre_3_o_menor_que_10, numeros))"
      ],
      "metadata": {
        "colab": {
          "base_uri": "https://localhost:8080/"
        },
        "id": "zEfny8aNLxMA",
        "outputId": "7ad23e08-6f5b-4f76-e61a-54c3357aac63"
      },
      "execution_count": null,
      "outputs": [
        {
          "output_type": "execute_result",
          "data": {
            "text/plain": [
              "[1, 2, 3, 4, 5, 6, 7, 8, 9, 12, 15, 18]"
            ]
          },
          "metadata": {},
          "execution_count": 82
        }
      ]
    },
    {
      "cell_type": "markdown",
      "source": [
        "## Ejemplo 5: Not"
      ],
      "metadata": {
        "id": "ZP_iIzhrhyBL"
      }
    },
    {
      "cell_type": "code",
      "source": [
        "def numero_es_divisible_entre_3(numero):\n",
        "\n",
        "    if numero % 3 == 0:\n",
        "        return True\n",
        "    else:\n",
        "        return False"
      ],
      "metadata": {
        "id": "OCDWrK9bLnvr"
      },
      "execution_count": null,
      "outputs": []
    },
    {
      "cell_type": "code",
      "source": [
        "not(numero_es_divisible_entre_3(9))"
      ],
      "metadata": {
        "colab": {
          "base_uri": "https://localhost:8080/"
        },
        "id": "ygbPjiwrLq4O",
        "outputId": "67f736c4-5f00-4882-c374-95d1ea7fc5bf"
      },
      "execution_count": null,
      "outputs": [
        {
          "output_type": "execute_result",
          "data": {
            "text/plain": [
              "False"
            ]
          },
          "metadata": {},
          "execution_count": 85
        }
      ]
    },
    {
      "cell_type": "code",
      "source": [
        "not(numero_es_divisible_entre_3(10))\n"
      ],
      "metadata": {
        "id": "HsFEpvwpLsXl"
      },
      "execution_count": null,
      "outputs": []
    },
    {
      "cell_type": "markdown",
      "source": [
        "## Ejemplo 6: Lambda"
      ],
      "metadata": {
        "id": "kehm5ZV_h0-L"
      }
    },
    {
      "cell_type": "code",
      "source": [
        "def suma(num_1, num_2):\n",
        "  return num_1 + num_2\n"
      ],
      "metadata": {
        "id": "c34P1fwENPOm"
      },
      "execution_count": null,
      "outputs": []
    },
    {
      "cell_type": "code",
      "source": [
        "suma(25,25)"
      ],
      "metadata": {
        "colab": {
          "base_uri": "https://localhost:8080/"
        },
        "id": "hfA0aW5z7m1r",
        "outputId": "29e8e7cb-3f13-44df-81b6-fab407b826c2"
      },
      "execution_count": null,
      "outputs": [
        {
          "output_type": "execute_result",
          "data": {
            "text/plain": [
              "50"
            ]
          },
          "metadata": {},
          "execution_count": 3
        }
      ]
    },
    {
      "cell_type": "code",
      "source": [
        "suma_lambda = lambda num_1, num_2 : num_1 + num_2"
      ],
      "metadata": {
        "id": "no5NKH0h7pOu"
      },
      "execution_count": null,
      "outputs": []
    },
    {
      "cell_type": "code",
      "source": [
        "suma_lambda(25,25)"
      ],
      "metadata": {
        "colab": {
          "base_uri": "https://localhost:8080/"
        },
        "id": "5tvp1aES75Ub",
        "outputId": "573cb243-cd97-4d66-c948-5997e907102d"
      },
      "execution_count": null,
      "outputs": [
        {
          "output_type": "execute_result",
          "data": {
            "text/plain": [
              "50"
            ]
          },
          "metadata": {},
          "execution_count": 5
        }
      ]
    },
    {
      "cell_type": "code",
      "source": [
        "def devolver_nombre():\n",
        "  return \"Mario Gonzalez\""
      ],
      "metadata": {
        "id": "xM5YZMWo77-M"
      },
      "execution_count": null,
      "outputs": []
    },
    {
      "cell_type": "code",
      "source": [
        "nombre_completo = devolver_nombre()\n",
        "print(nombre_completo)"
      ],
      "metadata": {
        "colab": {
          "base_uri": "https://localhost:8080/"
        },
        "id": "VoQSTnI-8ks8",
        "outputId": "bc1db910-3798-4c67-b7b6-a072097d2845"
      },
      "execution_count": null,
      "outputs": [
        {
          "output_type": "stream",
          "name": "stdout",
          "text": [
            "Mario Gonzalez\n"
          ]
        }
      ]
    },
    {
      "cell_type": "code",
      "source": [
        "def devolver_lista(lista):\n",
        "  return list(map(lambda numero : numero * 10, lista))"
      ],
      "metadata": {
        "id": "kk0k2BHR8ony"
      },
      "execution_count": null,
      "outputs": []
    },
    {
      "cell_type": "code",
      "source": [
        "resultado = devolver_lista([1,2,3,4,5,6,7,8,9,10])\n",
        "print(resultado)\n"
      ],
      "metadata": {
        "colab": {
          "base_uri": "https://localhost:8080/"
        },
        "id": "5oRrb5aF8996",
        "outputId": "74757deb-2202-4ac7-aa2c-53788c69e00f"
      },
      "execution_count": null,
      "outputs": [
        {
          "output_type": "stream",
          "name": "stdout",
          "text": [
            "[10, 20, 30, 40, 50, 60, 70, 80, 90, 100]\n"
          ]
        }
      ]
    },
    {
      "cell_type": "code",
      "source": [
        "# Tiene limite de parametros\n",
        "lambda_func = lambda a, b, c, d: a * b + c * d\n",
        "\n",
        "resultado = lambda_func(1, 2, 3, 4)  # Resultado será 1*2 + 3*4 = 2 + 12 = 14\n",
        "print(resultado)"
      ],
      "metadata": {
        "colab": {
          "base_uri": "https://localhost:8080/"
        },
        "id": "2wfVQV_69H-i",
        "outputId": "72778c92-7384-4c18-dc28-bc66dc69f70d"
      },
      "execution_count": null,
      "outputs": [
        {
          "output_type": "stream",
          "name": "stdout",
          "text": [
            "14\n"
          ]
        }
      ]
    },
    {
      "cell_type": "code",
      "source": [
        "# Filtas una lista\n",
        "def filtrar_lista(lista_numeros):\n",
        "  return list(filter(lambda valor: valor >= 5, lista_numeros))"
      ],
      "metadata": {
        "id": "A86FRjen9wpr"
      },
      "execution_count": null,
      "outputs": []
    },
    {
      "cell_type": "code",
      "source": [
        "mi_lista = [1, 2, 3, 4, 5, 6, 7, 8, 9, 10]"
      ],
      "metadata": {
        "id": "wWiJkIFh-ERK"
      },
      "execution_count": null,
      "outputs": []
    },
    {
      "cell_type": "code",
      "source": [
        "resultado = filtrar_lista(mi_lista)\n",
        "print(resultado)"
      ],
      "metadata": {
        "colab": {
          "base_uri": "https://localhost:8080/"
        },
        "id": "uMj6bCv7-Fz6",
        "outputId": "30affc61-4797-4ef1-e8c1-2f6ab4a33af1"
      },
      "execution_count": null,
      "outputs": [
        {
          "output_type": "stream",
          "name": "stdout",
          "text": [
            "[5, 6, 7, 8, 9, 10]\n"
          ]
        }
      ]
    },
    {
      "cell_type": "code",
      "source": [],
      "metadata": {
        "id": "21cZFpff-Kis"
      },
      "execution_count": null,
      "outputs": []
    }
  ]
}